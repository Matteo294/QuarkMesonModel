{
 "cells": [
  {
   "cell_type": "code",
   "execution_count": 18,
   "id": "upset-gospel",
   "metadata": {},
   "outputs": [
    {
     "name": "stdout",
     "output_type": "stream",
     "text": [
      "The autoreload extension is already loaded. To reload it, use:\n",
      "  %reload_ext autoreload\n"
     ]
    }
   ],
   "source": [
    "import numpy as np\n",
    "from matplotlib import pyplot as plt \n",
    "from pandas import read_csv\n",
    "import sys\n",
    "import os\n",
    "from matplotlib import rcParams\n",
    "import toml\n",
    "\n",
    "from correlations import *\n",
    "from read_in_data import *\n",
    "from mass_fit import *\n",
    "from mass_matteo import *\n",
    "from functions import *\n",
    "\n",
    "%load_ext autoreload\n",
    "%autoreload 2"
   ]
  },
  {
   "cell_type": "code",
   "execution_count": 19,
   "id": "wooden-operator",
   "metadata": {},
   "outputs": [
    {
     "name": "stdout",
     "output_type": "stream",
     "text": [
      "Reshaping fermionic correlator was not possible\n",
      "Reshaping fermionic correlator was not possible\n"
     ]
    }
   ],
   "source": [
    "param = (\"physics\", \"mass\")\n",
    "simulations = []\n",
    "for i in range(1, 2):\n",
    "    dataset = Dataset(32, 32)\n",
    "    dataset.add_data(\"../conf\" + str(i) + \"/\", p, 1)\n",
    "    simulations.append(dataset)\n",
    "for i in range(2, 3):\n",
    "    dataset = Dataset(64, 64)\n",
    "    dataset.add_data(\"../conf\" + str(i) + \"/\", p, 1)\n",
    "    simulations.append(dataset)\n",
    "for i in range(3, 4):\n",
    "    dataset = Dataset(128, 128)\n",
    "    dataset.add_data(\"../conf\" + str(i) + \"/\", p, 1)\n",
    "    simulations.append(dataset)"
   ]
  },
  {
   "cell_type": "code",
   "execution_count": 21,
   "id": "national-cabin",
   "metadata": {},
   "outputs": [
    {
     "name": "stdout",
     "output_type": "stream",
     "text": [
      "abs. phi:\n",
      "1.0 -1.0 4.149266065573776 0.0007443489778617048\n",
      "0.5 -0.25 4.114002374517377 0.0014434948809467552\n",
      "0.25 -0.0625 4.04013816473989 0.004198006635178145\n",
      "cond. :\n",
      "1.0 -1.0 1.8867543683702999 0.0004952944058877558\n",
      "0.5 -0.25 2.014253137065638 0.0007389176927802446\n",
      "0.25 -0.0625 2.012123370664739 0.0020889560796988767\n",
      "chi2:\n",
      "1.0 -1.0 0.00039212458625606685 1.8484832497229923e-05\n",
      "0.5 -0.25 0.00040671450131147445 2.3986302560931472e-05\n",
      "0.25 -0.0625 0.0006639432210537855 0.00011301385782073453\n"
     ]
    }
   ],
   "source": [
    "print(\"abs. phi:\")\n",
    "for s in simulations:\n",
    "    val, err = s.compute_abs_mag(printing=False)\n",
    "    print(s.toml_params['physics']['cutFraction'], s.toml_params[param[0]][param[1]], val, err)\n",
    "print(\"cond. :\")\n",
    "for s in simulations:\n",
    "    cF = s.toml_params['physics']['cutFraction']\n",
    "    val, err = s.compute_condensate(printing=False)\n",
    "    print(cF, s.toml_params[param[0]][param[1]], cF*val, cF*err)\n",
    "print(\"chi2:\")\n",
    "for s in simulations:\n",
    "    val, err = s.compute_susceptibility(printing=False)\n",
    "    print(s.toml_params['physics']['cutFraction'], s.toml_params[param[0]][param[1]], val, err)"
   ]
  }
 ],
 "metadata": {
  "kernelspec": {
   "display_name": "Python 3",
   "language": "python",
   "name": "python3"
  },
  "language_info": {
   "codemirror_mode": {
    "name": "ipython",
    "version": 3
   },
   "file_extension": ".py",
   "mimetype": "text/x-python",
   "name": "python",
   "nbconvert_exporter": "python",
   "pygments_lexer": "ipython3",
   "version": "3.9.2"
  }
 },
 "nbformat": 4,
 "nbformat_minor": 5
}
