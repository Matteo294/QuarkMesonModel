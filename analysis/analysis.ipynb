{
 "cells": [
  {
   "cell_type": "markdown",
   "id": "fff0cce0-a08b-4c36-9c61-bc88dbe25cd0",
   "metadata": {},
   "source": [
    "Import useful libraries"
   ]
  },
  {
   "cell_type": "code",
   "execution_count": 1,
   "id": "resistant-television",
   "metadata": {},
   "outputs": [],
   "source": [
    "import numpy as np\n",
    "from matplotlib import pyplot as plt \n",
    "from pandas import read_csv\n",
    "import sys\n",
    "import os\n",
    "from matplotlib import rcParams\n",
    "import toml\n",
    "\n",
    "%load_ext autoreload\n",
    "%autoreload 2"
   ]
  },
  {
   "cell_type": "code",
   "execution_count": 12,
   "id": "c8d0aa50-6f27-42fb-aaf6-a777ef187215",
   "metadata": {},
   "outputs": [],
   "source": [
    "import ctypes\n",
    "\n",
    "lib_path = \"/home/matteo/Downloads/ac/build/\"\n",
    "\n",
    "class ACreturn(ctypes.Structure):\n",
    "\t_fields_ = [ (\"average\", ctypes.c_double), (\"sigmaF\", ctypes.c_double), (\"sigmaF_error\", ctypes.c_double), (\"ACtime\", ctypes.c_double), (\"ACtimeError\", ctypes.c_double) ]\n",
    "\n",
    "\n",
    "def ComputeStatistics(data):\n",
    "\tft_lib = ctypes.cdll.LoadLibrary(lib_path + \"libac.so\")\n",
    "\n",
    "\targ = (ctypes.c_double * len(data))(*data)\n",
    "\tavg = ft_lib.Wrapper\n",
    "\tavg.restype = ACreturn\n",
    "\n",
    "\treturn avg(arg, len(data))"
   ]
  },
  {
   "cell_type": "markdown",
   "id": "81e02921-372c-4591-af17-c3908eefe85f",
   "metadata": {},
   "source": [
    "# Block spin analysis"
   ]
  },
  {
   "cell_type": "markdown",
   "id": "e535e138-e0fd-4aec-a422-e2485eaaa68b",
   "metadata": {},
   "source": [
    "Specify folders from which to get configurations and set the values of the yukawa couling used in the simulations"
   ]
  },
  {
   "cell_type": "code",
   "execution_count": 49,
   "id": "af1dfd60-5533-43ea-ba5c-239eae2bb6ed",
   "metadata": {},
   "outputs": [],
   "source": [
    "################################################################################\n",
    "# dataset 1\n",
    "'''folders = [\"dataset1/s_0_25/conf\" + str(i+1) for i in range(10)] \n",
    "folders += [\"dataset1/s_0_5/conf\" + str(i+1) for i in range(10)] \n",
    "folders += [\"dataset1/s_1_0/conf\" + str(i+1) for i in range(10)]'''\n",
    "\n",
    "# dataset 2\n",
    "'''folders = [\"dataset2/s_0_5/conf\" + str(i+1) for i in range(10)] \n",
    "folders += [\"dataset2/s_1_0/conf\" + str(i+1) for i in range(10)]'''\n",
    "\n",
    "# dataset 3\n",
    "#folders = [\"sus/conf\" + str(i+1) for i in range(10)]\n",
    "\n",
    "# dataset 4\n",
    "#folders = [\"s_1_0/conf\" + str(i+1) for i in range(10)] \n",
    "\n",
    "# dataset 5\n",
    "folders = [\"phase_trans_1/conf\" + str(i+1) for i in range(16)] \n",
    "#folders  = [\"pphase_trans_1/conf\" + str(i+1) for i in range(16)]\n",
    "folders += [\"phase_trans_2/conf\" + str(i+1) for i in range(16)]\n",
    "folders += [\"phase_trans_4/conf\" + str(i+1+16) for i in range(16)]\n",
    "#folders += [\"phase_trans_8/conf\" + str(i+1) for i in range(16)] \n",
    "\n",
    "Nt0 = 32\n",
    "Nx0 = 32\n",
    "\n",
    "colors = ['blue', 'orange', 'green', 'red']\n",
    "################################################################################"
   ]
  },
  {
   "cell_type": "markdown",
   "id": "2be7fd6d-5024-4b4a-a273-608c72ff1871",
   "metadata": {},
   "source": [
    "Import functions from Jan Philipp's code"
   ]
  },
  {
   "cell_type": "code",
   "execution_count": 14,
   "id": "a3c0427b-86be-4bfd-bcad-a67fd931b1be",
   "metadata": {},
   "outputs": [],
   "source": [
    "from correlations import *\n",
    "from read_in_data import *\n",
    "from mass_fit import *\n",
    "from mass_matteo import *\n",
    "from functions import *"
   ]
  },
  {
   "cell_type": "code",
   "execution_count": 51,
   "id": "5ebd6a83-6e82-4d43-b67c-b219222b7bb5",
   "metadata": {},
   "outputs": [],
   "source": [
    "def get_chi2xxx(cfgs: np.ndarray, myV):\n",
    "    \"\"\"Return mean and error of suceptibility.\"\"\"\n",
    "    V = np.prod(cfgs.shape[1:])\n",
    "    print(\"dsjfdsomfosdmfodskmfosdkmf\" + str(V))\n",
    "    axis = tuple([i+1 for i in range(len(cfgs.shape)-1)])\n",
    "    mags = cfgs.mean(axis=axis)\n",
    "    #return jackknife(V * (mags**2 - mags.mean()**2))\n",
    "    return jackknife(myV * ((mags - mags.mean())**2))\n",
    "    #return jackknife(V * (mags**2))"
   ]
  },
  {
   "cell_type": "code",
   "execution_count": 18,
   "id": "civil-spoke",
   "metadata": {},
   "outputs": [
    {
     "ename": "FileNotFoundError",
     "evalue": "[Errno 2] No such file or directory: 'phase_trans_1/conf1/traces.csv'",
     "output_type": "error",
     "traceback": [
      "\u001b[0;31m---------------------------------------------------------------------------\u001b[0m",
      "\u001b[0;31mFileNotFoundError\u001b[0m                         Traceback (most recent call last)",
      "\u001b[0;32m<ipython-input-18-d65886d46b41>\u001b[0m in \u001b[0;36m<module>\u001b[0;34m\u001b[0m\n\u001b[1;32m      1\u001b[0m \u001b[0mdataset1\u001b[0m \u001b[0;34m=\u001b[0m \u001b[0mdataset\u001b[0m\u001b[0;34m(\u001b[0m\u001b[0;34m\"data1\"\u001b[0m\u001b[0;34m)\u001b[0m\u001b[0;34m\u001b[0m\u001b[0;34m\u001b[0m\u001b[0m\n\u001b[0;32m----> 2\u001b[0;31m \u001b[0mdataset1\u001b[0m\u001b[0;34m.\u001b[0m\u001b[0madd_data\u001b[0m\u001b[0;34m(\u001b[0m\u001b[0;34m\"phase_trans_1/conf1\"\u001b[0m\u001b[0;34m,\u001b[0m \u001b[0;34m[\u001b[0m\u001b[0;34m\"fermions\"\u001b[0m\u001b[0;34m,\u001b[0m \u001b[0;34m\"yukawa_coupling\"\u001b[0m\u001b[0;34m]\u001b[0m\u001b[0;34m,\u001b[0m \u001b[0;36m1\u001b[0m\u001b[0;34m)\u001b[0m\u001b[0;34m\u001b[0m\u001b[0;34m\u001b[0m\u001b[0m\n\u001b[0m",
      "\u001b[0;32m~/QuarkMesonModel/analysis/functions.py\u001b[0m in \u001b[0;36madd_data\u001b[0;34m(self, folder, param, mode)\u001b[0m\n\u001b[1;32m     11\u001b[0m     \u001b[0;31m# mode can be either 0 (no rescaling of params) or 1 (rescaling params / block spin)\u001b[0m\u001b[0;34m\u001b[0m\u001b[0;34m\u001b[0m\u001b[0;34m\u001b[0m\u001b[0m\n\u001b[1;32m     12\u001b[0m     \u001b[0;32mdef\u001b[0m \u001b[0madd_data\u001b[0m\u001b[0;34m(\u001b[0m\u001b[0mself\u001b[0m\u001b[0;34m,\u001b[0m \u001b[0mfolder\u001b[0m\u001b[0;34m,\u001b[0m \u001b[0mparam\u001b[0m\u001b[0;34m,\u001b[0m \u001b[0mmode\u001b[0m\u001b[0;34m)\u001b[0m\u001b[0;34m:\u001b[0m\u001b[0;34m\u001b[0m\u001b[0;34m\u001b[0m\u001b[0m\n\u001b[0;32m---> 13\u001b[0;31m         \u001b[0mfields_data\u001b[0m \u001b[0;34m=\u001b[0m \u001b[0mread_csv\u001b[0m\u001b[0;34m(\u001b[0m\u001b[0mfolder\u001b[0m \u001b[0;34m+\u001b[0m \u001b[0;34m'/traces.csv'\u001b[0m\u001b[0;34m)\u001b[0m\u001b[0;34m\u001b[0m\u001b[0;34m\u001b[0m\u001b[0m\n\u001b[0m\u001b[1;32m     14\u001b[0m         \u001b[0mmass_data\u001b[0m \u001b[0;34m=\u001b[0m \u001b[0mread_csv\u001b[0m\u001b[0;34m(\u001b[0m\u001b[0mfolder\u001b[0m \u001b[0;34m+\u001b[0m \u001b[0;34m'/data.csv'\u001b[0m\u001b[0;34m)\u001b[0m\u001b[0;34m\u001b[0m\u001b[0;34m\u001b[0m\u001b[0m\n\u001b[1;32m     15\u001b[0m         \u001b[0mS_t\u001b[0m \u001b[0;34m=\u001b[0m \u001b[0mget_time_slices_from_timeslicefile\u001b[0m\u001b[0;34m(\u001b[0m\u001b[0mfolder\u001b[0m \u001b[0;34m+\u001b[0m \u001b[0;34m\"/slice.dat\"\u001b[0m\u001b[0;34m,\u001b[0m \u001b[0mfield_axis\u001b[0m\u001b[0;34m=\u001b[0m\u001b[0;36m0\u001b[0m\u001b[0;34m,\u001b[0m \u001b[0mreturn_all\u001b[0m\u001b[0;34m=\u001b[0m\u001b[0;32mFalse\u001b[0m\u001b[0;34m)\u001b[0m\u001b[0;34m\u001b[0m\u001b[0;34m\u001b[0m\u001b[0m\n",
      "\u001b[0;32m~/.local/lib/python3.9/site-packages/pandas/util/_decorators.py\u001b[0m in \u001b[0;36mwrapper\u001b[0;34m(*args, **kwargs)\u001b[0m\n\u001b[1;32m    209\u001b[0m                 \u001b[0;32melse\u001b[0m\u001b[0;34m:\u001b[0m\u001b[0;34m\u001b[0m\u001b[0;34m\u001b[0m\u001b[0m\n\u001b[1;32m    210\u001b[0m                     \u001b[0mkwargs\u001b[0m\u001b[0;34m[\u001b[0m\u001b[0mnew_arg_name\u001b[0m\u001b[0;34m]\u001b[0m \u001b[0;34m=\u001b[0m \u001b[0mnew_arg_value\u001b[0m\u001b[0;34m\u001b[0m\u001b[0;34m\u001b[0m\u001b[0m\n\u001b[0;32m--> 211\u001b[0;31m             \u001b[0;32mreturn\u001b[0m \u001b[0mfunc\u001b[0m\u001b[0;34m(\u001b[0m\u001b[0;34m*\u001b[0m\u001b[0margs\u001b[0m\u001b[0;34m,\u001b[0m \u001b[0;34m**\u001b[0m\u001b[0mkwargs\u001b[0m\u001b[0;34m)\u001b[0m\u001b[0;34m\u001b[0m\u001b[0;34m\u001b[0m\u001b[0m\n\u001b[0m\u001b[1;32m    212\u001b[0m \u001b[0;34m\u001b[0m\u001b[0m\n\u001b[1;32m    213\u001b[0m         \u001b[0;32mreturn\u001b[0m \u001b[0mcast\u001b[0m\u001b[0;34m(\u001b[0m\u001b[0mF\u001b[0m\u001b[0;34m,\u001b[0m \u001b[0mwrapper\u001b[0m\u001b[0;34m)\u001b[0m\u001b[0;34m\u001b[0m\u001b[0;34m\u001b[0m\u001b[0m\n",
      "\u001b[0;32m~/.local/lib/python3.9/site-packages/pandas/util/_decorators.py\u001b[0m in \u001b[0;36mwrapper\u001b[0;34m(*args, **kwargs)\u001b[0m\n\u001b[1;32m    329\u001b[0m                     \u001b[0mstacklevel\u001b[0m\u001b[0;34m=\u001b[0m\u001b[0mfind_stack_level\u001b[0m\u001b[0;34m(\u001b[0m\u001b[0;34m)\u001b[0m\u001b[0;34m,\u001b[0m\u001b[0;34m\u001b[0m\u001b[0;34m\u001b[0m\u001b[0m\n\u001b[1;32m    330\u001b[0m                 )\n\u001b[0;32m--> 331\u001b[0;31m             \u001b[0;32mreturn\u001b[0m \u001b[0mfunc\u001b[0m\u001b[0;34m(\u001b[0m\u001b[0;34m*\u001b[0m\u001b[0margs\u001b[0m\u001b[0;34m,\u001b[0m \u001b[0;34m**\u001b[0m\u001b[0mkwargs\u001b[0m\u001b[0;34m)\u001b[0m\u001b[0;34m\u001b[0m\u001b[0;34m\u001b[0m\u001b[0m\n\u001b[0m\u001b[1;32m    332\u001b[0m \u001b[0;34m\u001b[0m\u001b[0m\n\u001b[1;32m    333\u001b[0m         \u001b[0;31m# error: \"Callable[[VarArg(Any), KwArg(Any)], Any]\" has no\u001b[0m\u001b[0;34m\u001b[0m\u001b[0;34m\u001b[0m\u001b[0;34m\u001b[0m\u001b[0m\n",
      "\u001b[0;32m~/.local/lib/python3.9/site-packages/pandas/io/parsers/readers.py\u001b[0m in \u001b[0;36mread_csv\u001b[0;34m(filepath_or_buffer, sep, delimiter, header, names, index_col, usecols, squeeze, prefix, mangle_dupe_cols, dtype, engine, converters, true_values, false_values, skipinitialspace, skiprows, skipfooter, nrows, na_values, keep_default_na, na_filter, verbose, skip_blank_lines, parse_dates, infer_datetime_format, keep_date_col, date_parser, dayfirst, cache_dates, iterator, chunksize, compression, thousands, decimal, lineterminator, quotechar, quoting, doublequote, escapechar, comment, encoding, encoding_errors, dialect, error_bad_lines, warn_bad_lines, on_bad_lines, delim_whitespace, low_memory, memory_map, float_precision, storage_options)\u001b[0m\n\u001b[1;32m    948\u001b[0m     \u001b[0mkwds\u001b[0m\u001b[0;34m.\u001b[0m\u001b[0mupdate\u001b[0m\u001b[0;34m(\u001b[0m\u001b[0mkwds_defaults\u001b[0m\u001b[0;34m)\u001b[0m\u001b[0;34m\u001b[0m\u001b[0;34m\u001b[0m\u001b[0m\n\u001b[1;32m    949\u001b[0m \u001b[0;34m\u001b[0m\u001b[0m\n\u001b[0;32m--> 950\u001b[0;31m     \u001b[0;32mreturn\u001b[0m \u001b[0m_read\u001b[0m\u001b[0;34m(\u001b[0m\u001b[0mfilepath_or_buffer\u001b[0m\u001b[0;34m,\u001b[0m \u001b[0mkwds\u001b[0m\u001b[0;34m)\u001b[0m\u001b[0;34m\u001b[0m\u001b[0;34m\u001b[0m\u001b[0m\n\u001b[0m\u001b[1;32m    951\u001b[0m \u001b[0;34m\u001b[0m\u001b[0m\n\u001b[1;32m    952\u001b[0m \u001b[0;34m\u001b[0m\u001b[0m\n",
      "\u001b[0;32m~/.local/lib/python3.9/site-packages/pandas/io/parsers/readers.py\u001b[0m in \u001b[0;36m_read\u001b[0;34m(filepath_or_buffer, kwds)\u001b[0m\n\u001b[1;32m    603\u001b[0m \u001b[0;34m\u001b[0m\u001b[0m\n\u001b[1;32m    604\u001b[0m     \u001b[0;31m# Create the parser.\u001b[0m\u001b[0;34m\u001b[0m\u001b[0;34m\u001b[0m\u001b[0;34m\u001b[0m\u001b[0m\n\u001b[0;32m--> 605\u001b[0;31m     \u001b[0mparser\u001b[0m \u001b[0;34m=\u001b[0m \u001b[0mTextFileReader\u001b[0m\u001b[0;34m(\u001b[0m\u001b[0mfilepath_or_buffer\u001b[0m\u001b[0;34m,\u001b[0m \u001b[0;34m**\u001b[0m\u001b[0mkwds\u001b[0m\u001b[0;34m)\u001b[0m\u001b[0;34m\u001b[0m\u001b[0;34m\u001b[0m\u001b[0m\n\u001b[0m\u001b[1;32m    606\u001b[0m \u001b[0;34m\u001b[0m\u001b[0m\n\u001b[1;32m    607\u001b[0m     \u001b[0;32mif\u001b[0m \u001b[0mchunksize\u001b[0m \u001b[0;32mor\u001b[0m \u001b[0miterator\u001b[0m\u001b[0;34m:\u001b[0m\u001b[0;34m\u001b[0m\u001b[0;34m\u001b[0m\u001b[0m\n",
      "\u001b[0;32m~/.local/lib/python3.9/site-packages/pandas/io/parsers/readers.py\u001b[0m in \u001b[0;36m__init__\u001b[0;34m(self, f, engine, **kwds)\u001b[0m\n\u001b[1;32m   1440\u001b[0m \u001b[0;34m\u001b[0m\u001b[0m\n\u001b[1;32m   1441\u001b[0m         \u001b[0mself\u001b[0m\u001b[0;34m.\u001b[0m\u001b[0mhandles\u001b[0m\u001b[0;34m:\u001b[0m \u001b[0mIOHandles\u001b[0m \u001b[0;34m|\u001b[0m \u001b[0;32mNone\u001b[0m \u001b[0;34m=\u001b[0m \u001b[0;32mNone\u001b[0m\u001b[0;34m\u001b[0m\u001b[0;34m\u001b[0m\u001b[0m\n\u001b[0;32m-> 1442\u001b[0;31m         \u001b[0mself\u001b[0m\u001b[0;34m.\u001b[0m\u001b[0m_engine\u001b[0m \u001b[0;34m=\u001b[0m \u001b[0mself\u001b[0m\u001b[0;34m.\u001b[0m\u001b[0m_make_engine\u001b[0m\u001b[0;34m(\u001b[0m\u001b[0mf\u001b[0m\u001b[0;34m,\u001b[0m \u001b[0mself\u001b[0m\u001b[0;34m.\u001b[0m\u001b[0mengine\u001b[0m\u001b[0;34m)\u001b[0m\u001b[0;34m\u001b[0m\u001b[0;34m\u001b[0m\u001b[0m\n\u001b[0m\u001b[1;32m   1443\u001b[0m \u001b[0;34m\u001b[0m\u001b[0m\n\u001b[1;32m   1444\u001b[0m     \u001b[0;32mdef\u001b[0m \u001b[0mclose\u001b[0m\u001b[0;34m(\u001b[0m\u001b[0mself\u001b[0m\u001b[0;34m)\u001b[0m \u001b[0;34m->\u001b[0m \u001b[0;32mNone\u001b[0m\u001b[0;34m:\u001b[0m\u001b[0;34m\u001b[0m\u001b[0;34m\u001b[0m\u001b[0m\n",
      "\u001b[0;32m~/.local/lib/python3.9/site-packages/pandas/io/parsers/readers.py\u001b[0m in \u001b[0;36m_make_engine\u001b[0;34m(self, f, engine)\u001b[0m\n\u001b[1;32m   1733\u001b[0m                 \u001b[0;32mif\u001b[0m \u001b[0;34m\"b\"\u001b[0m \u001b[0;32mnot\u001b[0m \u001b[0;32min\u001b[0m \u001b[0mmode\u001b[0m\u001b[0;34m:\u001b[0m\u001b[0;34m\u001b[0m\u001b[0;34m\u001b[0m\u001b[0m\n\u001b[1;32m   1734\u001b[0m                     \u001b[0mmode\u001b[0m \u001b[0;34m+=\u001b[0m \u001b[0;34m\"b\"\u001b[0m\u001b[0;34m\u001b[0m\u001b[0;34m\u001b[0m\u001b[0m\n\u001b[0;32m-> 1735\u001b[0;31m             self.handles = get_handle(\n\u001b[0m\u001b[1;32m   1736\u001b[0m                 \u001b[0mf\u001b[0m\u001b[0;34m,\u001b[0m\u001b[0;34m\u001b[0m\u001b[0;34m\u001b[0m\u001b[0m\n\u001b[1;32m   1737\u001b[0m                 \u001b[0mmode\u001b[0m\u001b[0;34m,\u001b[0m\u001b[0;34m\u001b[0m\u001b[0;34m\u001b[0m\u001b[0m\n",
      "\u001b[0;32m~/.local/lib/python3.9/site-packages/pandas/io/common.py\u001b[0m in \u001b[0;36mget_handle\u001b[0;34m(path_or_buf, mode, encoding, compression, memory_map, is_text, errors, storage_options)\u001b[0m\n\u001b[1;32m    854\u001b[0m         \u001b[0;32mif\u001b[0m \u001b[0mioargs\u001b[0m\u001b[0;34m.\u001b[0m\u001b[0mencoding\u001b[0m \u001b[0;32mand\u001b[0m \u001b[0;34m\"b\"\u001b[0m \u001b[0;32mnot\u001b[0m \u001b[0;32min\u001b[0m \u001b[0mioargs\u001b[0m\u001b[0;34m.\u001b[0m\u001b[0mmode\u001b[0m\u001b[0;34m:\u001b[0m\u001b[0;34m\u001b[0m\u001b[0;34m\u001b[0m\u001b[0m\n\u001b[1;32m    855\u001b[0m             \u001b[0;31m# Encoding\u001b[0m\u001b[0;34m\u001b[0m\u001b[0;34m\u001b[0m\u001b[0;34m\u001b[0m\u001b[0m\n\u001b[0;32m--> 856\u001b[0;31m             handle = open(\n\u001b[0m\u001b[1;32m    857\u001b[0m                 \u001b[0mhandle\u001b[0m\u001b[0;34m,\u001b[0m\u001b[0;34m\u001b[0m\u001b[0;34m\u001b[0m\u001b[0m\n\u001b[1;32m    858\u001b[0m                 \u001b[0mioargs\u001b[0m\u001b[0;34m.\u001b[0m\u001b[0mmode\u001b[0m\u001b[0;34m,\u001b[0m\u001b[0;34m\u001b[0m\u001b[0;34m\u001b[0m\u001b[0m\n",
      "\u001b[0;31mFileNotFoundError\u001b[0m: [Errno 2] No such file or directory: 'phase_trans_1/conf1/traces.csv'"
     ]
    }
   ],
   "source": [
    "dataset1 = dataset(\"data1\")\n",
    "dataset1.add_data(\"phase_trans_1/conf1\", [\"fermions\", \"yukawa_coupling\"], 1)"
   ]
  },
  {
   "cell_type": "markdown",
   "id": "cce1f844-fc87-4d59-914e-7895e75227b0",
   "metadata": {},
   "source": [
    "Load data from specified folders"
   ]
  },
  {
   "cell_type": "code",
   "execution_count": 52,
   "id": "2a407890-b29c-4b62-b852-650adcf1c611",
   "metadata": {},
   "outputs": [
    {
     "name": "stdout",
     "output_type": "stream",
     "text": [
      "phase_trans_1/conf1\n",
      "cutFractions: 1.0  mphi2: -2.0\n"
     ]
    },
    {
     "name": "stderr",
     "output_type": "stream",
     "text": [
      "100%|████████████████████████████████████| 9950/9950 [00:00<00:00, 82874.10it/s]\n"
     ]
    },
    {
     "name": "stdout",
     "output_type": "stream",
     "text": [
      "4.896744780904537\n",
      "0.00015966920491856842\n",
      "2.5309270452491945e-06\n",
      "0.5040206341653739\n",
      "0.014277257598708326\n"
     ]
    },
    {
     "name": "stderr",
     "output_type": "stream",
     "text": [
      "100%|████████████████████████████████████| 9950/9950 [00:00<00:00, 78154.93it/s]\n"
     ]
    },
    {
     "name": "stdout",
     "output_type": "stream",
     "text": [
      "dsjfdsomfosdmfodskmfosdkmf1.0\n"
     ]
    },
    {
     "name": "stderr",
     "output_type": "stream",
     "text": [
      "100%|████████████████████████████████████| 9950/9950 [00:00<00:00, 80536.88it/s]\n"
     ]
    },
    {
     "name": "stdout",
     "output_type": "stream",
     "text": [
      "1.0 -2.0 0.00025161881646958487 3.5277858569354148e-06\n",
      "\n",
      "phase_trans_1/conf2\n",
      "cutFractions: 1.0  mphi2: -1.5\n"
     ]
    },
    {
     "name": "stderr",
     "output_type": "stream",
     "text": [
      "100%|████████████████████████████████████| 9949/9949 [00:00<00:00, 85002.93it/s]\n"
     ]
    },
    {
     "name": "stdout",
     "output_type": "stream",
     "text": [
      "4.242380765906117\n",
      "0.00019040050215075874\n",
      "3.571185389852187e-06\n",
      "0.5366703271080466\n",
      "0.018524131214076013\n"
     ]
    },
    {
     "name": "stderr",
     "output_type": "stream",
     "text": [
      "100%|████████████████████████████████████| 9949/9949 [00:00<00:00, 84111.98it/s]\n"
     ]
    },
    {
     "name": "stdout",
     "output_type": "stream",
     "text": [
      "dsjfdsomfosdmfodskmfosdkmf1.0\n"
     ]
    },
    {
     "name": "stderr",
     "output_type": "stream",
     "text": [
      "100%|████████████████████████████████████| 9949/9949 [00:00<00:00, 82333.75it/s]\n"
     ]
    },
    {
     "name": "stdout",
     "output_type": "stream",
     "text": [
      "1.0 -1.5 0.0003359937565950134 4.767187212364214e-06\n",
      "\n",
      "phase_trans_1/conf3\n",
      "cutFractions: 1.0  mphi2: -1.0\n"
     ]
    },
    {
     "name": "stderr",
     "output_type": "stream",
     "text": [
      "100%|████████████████████████████████████| 9950/9950 [00:00<00:00, 84132.13it/s]\n"
     ]
    },
    {
     "name": "stdout",
     "output_type": "stream",
     "text": [
      "3.470521397989937\n",
      "0.00025161944097394824\n",
      "5.915807007889642e-06\n",
      "0.6495894832493445\n",
      "0.02868446068591272\n"
     ]
    },
    {
     "name": "stderr",
     "output_type": "stream",
     "text": [
      "100%|████████████████████████████████████| 9950/9950 [00:00<00:00, 81230.38it/s]\n"
     ]
    },
    {
     "name": "stdout",
     "output_type": "stream",
     "text": [
      "dsjfdsomfosdmfodskmfosdkmf1.0\n"
     ]
    },
    {
     "name": "stderr",
     "output_type": "stream",
     "text": [
      "100%|████████████████████████████████████| 9950/9950 [00:00<00:00, 82583.34it/s]\n",
      "/home/matteo/code/QuarkMesonModel/analysis/correlations.py:180: RuntimeWarning: invalid value encountered in sqrt\n",
      "  ren_mass = np.sqrt( ren_mass2 )\n"
     ]
    },
    {
     "name": "stdout",
     "output_type": "stream",
     "text": [
      "1.0 -1.0 0.0004848259297742681 6.945208836933213e-06\n",
      "\n",
      "phase_trans_1/conf4\n",
      "cutFractions: 1.0  mphi2: -0.75\n"
     ]
    },
    {
     "name": "stderr",
     "output_type": "stream",
     "text": [
      "100%|████████████████████████████████████| 9951/9951 [00:00<00:00, 80007.82it/s]\n"
     ]
    },
    {
     "name": "stdout",
     "output_type": "stream",
     "text": [
      "3.016955059792979\n",
      "0.0003156190165669861\n",
      "8.066524876781971e-06\n",
      "0.770174772111712\n",
      "0.03696209755245044\n"
     ]
    },
    {
     "name": "stderr",
     "output_type": "stream",
     "text": [
      "100%|████████████████████████████████████| 9951/9951 [00:00<00:00, 78638.16it/s]\n"
     ]
    },
    {
     "name": "stdout",
     "output_type": "stream",
     "text": [
      "dsjfdsomfosdmfodskmfosdkmf1.0\n"
     ]
    },
    {
     "name": "stderr",
     "output_type": "stream",
     "text": [
      "100%|████████████████████████████████████| 9951/9951 [00:00<00:00, 81107.67it/s]\n"
     ]
    },
    {
     "name": "stdout",
     "output_type": "stream",
     "text": [
      "1.0 -0.75 0.0006434378773328711 9.744335709838858e-06\n",
      "\n",
      "phase_trans_1/conf5\n",
      "cutFractions: 1.0  mphi2: -0.5\n"
     ]
    },
    {
     "name": "stderr",
     "output_type": "stream",
     "text": [
      "100%|████████████████████████████████████| 9950/9950 [00:00<00:00, 85050.81it/s]\n"
     ]
    },
    {
     "name": "stdout",
     "output_type": "stream",
     "text": [
      "2.4923924361809076\n",
      "0.0004217178678138531\n",
      "1.1578201230925982e-05\n",
      "0.9714918535453012\n",
      "0.049769650805104954\n"
     ]
    },
    {
     "name": "stderr",
     "output_type": "stream",
     "text": [
      "100%|████████████████████████████████████| 9950/9950 [00:00<00:00, 84084.50it/s]\n"
     ]
    },
    {
     "name": "stdout",
     "output_type": "stream",
     "text": [
      "dsjfdsomfosdmfodskmfosdkmf1.0\n"
     ]
    },
    {
     "name": "stderr",
     "output_type": "stream",
     "text": [
      "100%|████████████████████████████████████| 9950/9950 [00:00<00:00, 84599.78it/s]\n"
     ]
    },
    {
     "name": "stdout",
     "output_type": "stream",
     "text": [
      "1.0 -0.5 0.000910569792336379 1.4608301713426083e-05\n",
      "\n",
      "phase_trans_1/conf6\n",
      "cutFractions: 1.0  mphi2: -0.25\n"
     ]
    },
    {
     "name": "stderr",
     "output_type": "stream",
     "text": [
      "100%|████████████████████████████████████| 9951/9951 [00:00<00:00, 82842.29it/s]\n"
     ]
    },
    {
     "name": "stdout",
     "output_type": "stream",
     "text": [
      "1.8674292181690189\n",
      "0.0006834501988135848\n",
      "2.422303281766033e-05\n",
      "1.5610621218076144\n",
      "0.10351526458390979\n"
     ]
    },
    {
     "name": "stderr",
     "output_type": "stream",
     "text": [
      "100%|████████████████████████████████████| 9951/9951 [00:00<00:00, 82273.03it/s]\n"
     ]
    },
    {
     "name": "stdout",
     "output_type": "stream",
     "text": [
      "dsjfdsomfosdmfodskmfosdkmf1.0\n"
     ]
    },
    {
     "name": "stderr",
     "output_type": "stream",
     "text": [
      "100%|████████████████████████████████████| 9951/9951 [00:00<00:00, 84203.06it/s]\n"
     ]
    },
    {
     "name": "stdout",
     "output_type": "stream",
     "text": [
      "1.0 -0.25 0.0014883132677838773 2.638242497505369e-05\n",
      "\n",
      "phase_trans_1/conf7\n",
      "cutFractions: 1.0  mphi2: -0.1\n"
     ]
    },
    {
     "name": "stderr",
     "output_type": "stream",
     "text": [
      "100%|████████████████████████████████████| 9950/9950 [00:00<00:00, 81716.45it/s]\n"
     ]
    },
    {
     "name": "stdout",
     "output_type": "stream",
     "text": [
      "1.4415925075376879\n",
      "0.0009448018335749266\n",
      "3.847433828320441e-05\n",
      "2.189657358433302\n",
      "0.16608087814743888\n"
     ]
    },
    {
     "name": "stderr",
     "output_type": "stream",
     "text": [
      "100%|████████████████████████████████████| 9950/9950 [00:00<00:00, 80748.81it/s]\n"
     ]
    },
    {
     "name": "stdout",
     "output_type": "stream",
     "text": [
      "dsjfdsomfosdmfodskmfosdkmf1.0\n"
     ]
    },
    {
     "name": "stderr",
     "output_type": "stream",
     "text": [
      "100%|████████████████████████████████████| 9950/9950 [00:00<00:00, 81390.54it/s]\n"
     ]
    },
    {
     "name": "stdout",
     "output_type": "stream",
     "text": [
      "1.0 -0.1 0.0020272523946871252 4.03765726553765e-05\n",
      "\n",
      "phase_trans_1/conf8\n",
      "cutFractions: 1.0  mphi2: -0.05\n"
     ]
    },
    {
     "name": "stderr",
     "output_type": "stream",
     "text": [
      "100%|████████████████████████████████████| 9950/9950 [00:00<00:00, 73927.10it/s]\n"
     ]
    },
    {
     "name": "stdout",
     "output_type": "stream",
     "text": [
      "1.2980290010050202\n",
      "0.0010322951314085452\n",
      "4.3292370155090286e-05\n",
      "2.4113170738067695\n",
      "0.18780123449579395\n"
     ]
    },
    {
     "name": "stderr",
     "output_type": "stream",
     "text": [
      "100%|████████████████████████████████████| 9950/9950 [00:00<00:00, 73933.12it/s]\n"
     ]
    },
    {
     "name": "stdout",
     "output_type": "stream",
     "text": [
      "dsjfdsomfosdmfodskmfosdkmf1.0\n"
     ]
    },
    {
     "name": "stderr",
     "output_type": "stream",
     "text": [
      "100%|████████████████████████████████████| 9950/9950 [00:00<00:00, 79986.29it/s]\n"
     ]
    },
    {
     "name": "stdout",
     "output_type": "stream",
     "text": [
      "1.0 -0.05 0.0021975396125497415 4.62859062103455e-05\n",
      "\n",
      "phase_trans_1/conf9\n",
      "cutFractions: 1.0  mphi2: 0.05\n"
     ]
    },
    {
     "name": "stderr",
     "output_type": "stream",
     "text": [
      "100%|████████████████████████████████████| 9950/9950 [00:00<00:00, 83444.95it/s]\n"
     ]
    },
    {
     "name": "stdout",
     "output_type": "stream",
     "text": [
      "1.0290278928643235\n",
      "0.001139756172013224\n",
      "5.045656928112004e-05\n",
      "2.6279191999034035\n",
      "0.21642866794737564\n"
     ]
    },
    {
     "name": "stderr",
     "output_type": "stream",
     "text": [
      "100%|████████████████████████████████████| 9950/9950 [00:00<00:00, 81226.27it/s]\n"
     ]
    },
    {
     "name": "stdout",
     "output_type": "stream",
     "text": [
      "dsjfdsomfosdmfodskmfosdkmf1.0\n"
     ]
    },
    {
     "name": "stderr",
     "output_type": "stream",
     "text": [
      "100%|████████████████████████████████████| 9950/9950 [00:00<00:00, 81332.17it/s]\n"
     ]
    },
    {
     "name": "stdout",
     "output_type": "stream",
     "text": [
      "1.0 0.05 0.0024579690656232993 5.411358132437224e-05\n",
      "\n",
      "phase_trans_1/conf10\n",
      "cutFractions: 1.0  mphi2: 0.1\n"
     ]
    },
    {
     "name": "stderr",
     "output_type": "stream",
     "text": [
      "100%|████████████████████████████████████| 9950/9950 [00:00<00:00, 82683.14it/s]\n"
     ]
    },
    {
     "name": "stdout",
     "output_type": "stream",
     "text": [
      "0.9114196501507524\n",
      "0.0011635287172031738\n",
      "5.1508970753310834e-05\n",
      "2.6869747137205557\n",
      "0.22090470596313846\n"
     ]
    },
    {
     "name": "stderr",
     "output_type": "stream",
     "text": [
      "100%|████████████████████████████████████| 9950/9950 [00:00<00:00, 81475.07it/s]\n"
     ]
    },
    {
     "name": "stdout",
     "output_type": "stream",
     "text": [
      "dsjfdsomfosdmfodskmfosdkmf1.0\n"
     ]
    },
    {
     "name": "stderr",
     "output_type": "stream",
     "text": [
      "100%|████████████████████████████████████| 9950/9950 [00:00<00:00, 82872.78it/s]\n"
     ]
    },
    {
     "name": "stdout",
     "output_type": "stream",
     "text": [
      "1.0 0.1 0.0025052438885958877 5.50686533117365e-05\n",
      "\n",
      "phase_trans_1/conf11\n",
      "cutFractions: 1.0  mphi2: 0.25\n"
     ]
    },
    {
     "name": "stderr",
     "output_type": "stream",
     "text": [
      "100%|████████████████████████████████████| 9950/9950 [00:00<00:00, 81690.21it/s]\n"
     ]
    },
    {
     "name": "stdout",
     "output_type": "stream",
     "text": [
      "0.6442272635175875\n",
      "0.0010100960407821058\n",
      "4.236138518842201e-05\n",
      "2.3192915550903646\n",
      "0.18118399095675147\n"
     ]
    },
    {
     "name": "stderr",
     "output_type": "stream",
     "text": [
      "100%|████████████████████████████████████| 9950/9950 [00:00<00:00, 81702.85it/s]\n"
     ]
    },
    {
     "name": "stdout",
     "output_type": "stream",
     "text": [
      "dsjfdsomfosdmfodskmfosdkmf1.0\n"
     ]
    },
    {
     "name": "stderr",
     "output_type": "stream",
     "text": [
      "100%|████████████████████████████████████| 9950/9950 [00:00<00:00, 81406.73it/s]\n"
     ]
    },
    {
     "name": "stdout",
     "output_type": "stream",
     "text": [
      "1.0 0.25 0.0021875665575582996 4.4880884014635735e-05\n",
      "\n",
      "phase_trans_1/conf12\n",
      "cutFractions: 1.0  mphi2: 0.5\n"
     ]
    },
    {
     "name": "stderr",
     "output_type": "stream",
     "text": [
      "100%|████████████████████████████████████| 9950/9950 [00:00<00:00, 81431.83it/s]\n"
     ]
    },
    {
     "name": "stdout",
     "output_type": "stream",
     "text": [
      "0.40739724713567993\n",
      "0.0007113031606883445\n",
      "2.5211472083749584e-05\n",
      "1.6163339522611606\n",
      "0.10691463428660414\n"
     ]
    },
    {
     "name": "stderr",
     "output_type": "stream",
     "text": [
      "100%|████████████████████████████████████| 9950/9950 [00:00<00:00, 77551.78it/s]\n"
     ]
    },
    {
     "name": "stdout",
     "output_type": "stream",
     "text": [
      "dsjfdsomfosdmfodskmfosdkmf1.0\n"
     ]
    },
    {
     "name": "stderr",
     "output_type": "stream",
     "text": [
      "100%|████████████████████████████████████| 9950/9950 [00:00<00:00, 80887.16it/s]\n"
     ]
    },
    {
     "name": "stdout",
     "output_type": "stream",
     "text": [
      "1.0 0.5 0.0015567923854732987 2.885699997113746e-05\n",
      "\n",
      "phase_trans_1/conf13\n",
      "cutFractions: 1.0  mphi2: 0.75\n"
     ]
    },
    {
     "name": "stderr",
     "output_type": "stream",
     "text": [
      "100%|████████████████████████████████████| 9951/9951 [00:00<00:00, 85328.37it/s]\n"
     ]
    },
    {
     "name": "stdout",
     "output_type": "stream",
     "text": [
      "0.29251500552708226\n",
      "0.0005294948671262365\n",
      "1.6360259725290004e-05\n",
      "1.1933949727634776\n",
      "0.06895926387775962\n"
     ]
    },
    {
     "name": "stderr",
     "output_type": "stream",
     "text": [
      "100%|████████████████████████████████████| 9951/9951 [00:00<00:00, 83442.83it/s]\n"
     ]
    },
    {
     "name": "stdout",
     "output_type": "stream",
     "text": [
      "dsjfdsomfosdmfodskmfosdkmf1.0\n"
     ]
    },
    {
     "name": "stderr",
     "output_type": "stream",
     "text": [
      "100%|████████████████████████████████████| 9951/9951 [00:00<00:00, 84637.11it/s]\n"
     ]
    },
    {
     "name": "stdout",
     "output_type": "stream",
     "text": [
      "1.0 0.75 0.0011686166081723102 1.946914157373279e-05\n",
      "\n",
      "phase_trans_1/conf14\n",
      "cutFractions: 1.0  mphi2: 1.0\n"
     ]
    },
    {
     "name": "stderr",
     "output_type": "stream",
     "text": [
      "100%|████████████████████████████████████| 9951/9951 [00:00<00:00, 83623.89it/s]\n"
     ]
    },
    {
     "name": "stdout",
     "output_type": "stream",
     "text": [
      "0.22702974404582507\n",
      "0.0004233034444305751\n",
      "1.1621149038043414e-05\n",
      "0.9712701482157942\n",
      "0.04975663742019265\n"
     ]
    },
    {
     "name": "stderr",
     "output_type": "stream",
     "text": [
      "100%|████████████████████████████████████| 9951/9951 [00:00<00:00, 81718.26it/s]\n"
     ]
    },
    {
     "name": "stdout",
     "output_type": "stream",
     "text": [
      "dsjfdsomfosdmfodskmfosdkmf1.0\n"
     ]
    },
    {
     "name": "stderr",
     "output_type": "stream",
     "text": [
      "100%|████████████████████████████████████| 9951/9951 [00:00<00:00, 80740.83it/s]\n"
     ]
    },
    {
     "name": "stdout",
     "output_type": "stream",
     "text": [
      "1.0 1.0 0.0009177314919496601 1.4315325904558868e-05\n",
      "\n",
      "phase_trans_1/conf15\n",
      "cutFractions: 1.0  mphi2: 1.5\n"
     ]
    },
    {
     "name": "stderr",
     "output_type": "stream",
     "text": [
      "100%|████████████████████████████████████| 9951/9951 [00:00<00:00, 77973.97it/s]\n"
     ]
    },
    {
     "name": "stdout",
     "output_type": "stream",
     "text": [
      "0.1561695331122488\n",
      "0.00030402121705280365\n",
      "7.14746232566227e-06\n",
      "0.7378340236664263\n",
      "0.03228178750191752\n"
     ]
    },
    {
     "name": "stderr",
     "output_type": "stream",
     "text": [
      "100%|████████████████████████████████████| 9951/9951 [00:00<00:00, 77811.89it/s]\n"
     ]
    },
    {
     "name": "stdout",
     "output_type": "stream",
     "text": [
      "dsjfdsomfosdmfodskmfosdkmf1.0\n"
     ]
    },
    {
     "name": "stderr",
     "output_type": "stream",
     "text": [
      "100%|████████████████████████████████████| 9951/9951 [00:00<00:00, 81019.81it/s]\n"
     ]
    },
    {
     "name": "stdout",
     "output_type": "stream",
     "text": [
      "1.0 1.5 0.0006231914731469912 9.251952704661604e-06\n",
      "\n",
      "phase_trans_1/conf16\n",
      "cutFractions: 1.0  mphi2: 2.0\n"
     ]
    },
    {
     "name": "stderr",
     "output_type": "stream",
     "text": [
      "100%|████████████████████████████████████| 9951/9951 [00:00<00:00, 82005.50it/s]\n"
     ]
    },
    {
     "name": "stdout",
     "output_type": "stream",
     "text": [
      "0.1188009411415936\n",
      "0.00024430167711384204\n",
      "5.195164960733723e-06\n",
      "0.61584150225511\n",
      "0.024334031026097762\n"
     ]
    },
    {
     "name": "stderr",
     "output_type": "stream",
     "text": [
      "100%|████████████████████████████████████| 9951/9951 [00:00<00:00, 80787.40it/s]\n"
     ]
    },
    {
     "name": "stdout",
     "output_type": "stream",
     "text": [
      "dsjfdsomfosdmfodskmfosdkmf1.0\n"
     ]
    },
    {
     "name": "stderr",
     "output_type": "stream",
     "text": [
      "100%|████████████████████████████████████| 9951/9951 [00:00<00:00, 80747.08it/s]\n"
     ]
    },
    {
     "name": "stdout",
     "output_type": "stream",
     "text": [
      "1.0 2.0 0.0004821331183241791 6.805879917471871e-06\n",
      "\n",
      "phase_trans_2/conf1\n",
      "cutFractions: 0.5  mphi2: -2.0\n"
     ]
    },
    {
     "name": "stderr",
     "output_type": "stream",
     "text": [
      "100%|████████████████████████████████████| 9949/9949 [00:00<00:00, 82548.58it/s]\n"
     ]
    },
    {
     "name": "stdout",
     "output_type": "stream",
     "text": [
      "4.891791589104449\n",
      "0.00022750952695763435\n",
      "6.6499646223384655e-06\n",
      "1.060484836942252\n",
      "0.057998539858358025\n"
     ]
    },
    {
     "name": "stderr",
     "output_type": "stream",
     "text": [
      "100%|████████████████████████████████████| 9949/9949 [00:00<00:00, 81048.05it/s]\n"
     ]
    },
    {
     "name": "stdout",
     "output_type": "stream",
     "text": [
      "dsjfdsomfosdmfodskmfosdkmf1.0\n"
     ]
    },
    {
     "name": "stderr",
     "output_type": "stream",
     "text": [
      "100%|████████████████████████████████████| 9949/9949 [00:00<00:00, 82498.64it/s]\n",
      "/home/matteo/code/QuarkMesonModel/analysis/correlations.py:180: RuntimeWarning: invalid value encountered in sqrt\n",
      "  ren_mass = np.sqrt( ren_mass2 )\n"
     ]
    },
    {
     "name": "stdout",
     "output_type": "stream",
     "text": [
      "0.5 -2.0 0.00024274579203701504 3.895294258919765e-06\n",
      "\n",
      "phase_trans_2/conf2\n",
      "cutFractions: 0.5  mphi2: -1.5\n"
     ]
    },
    {
     "name": "stderr",
     "output_type": "stream",
     "text": [
      "100%|████████████████████████████████████| 9950/9950 [00:00<00:00, 86361.49it/s]\n"
     ]
    },
    {
     "name": "stdout",
     "output_type": "stream",
     "text": [
      "4.2372591376884445\n",
      "0.0002964461555470269\n",
      "9.630058641709116e-06\n",
      "1.3679149677789038\n",
      "0.08288244045469143\n"
     ]
    },
    {
     "name": "stderr",
     "output_type": "stream",
     "text": [
      "100%|████████████████████████████████████| 9950/9950 [00:00<00:00, 78911.26it/s]\n"
     ]
    },
    {
     "name": "stdout",
     "output_type": "stream",
     "text": [
      "dsjfdsomfosdmfodskmfosdkmf1.0\n"
     ]
    },
    {
     "name": "stderr",
     "output_type": "stream",
     "text": [
      "100%|████████████████████████████████████| 9950/9950 [00:00<00:00, 82614.07it/s]\n",
      "/home/matteo/code/QuarkMesonModel/analysis/correlations.py:180: RuntimeWarning: invalid value encountered in sqrt\n",
      "  ren_mass = np.sqrt( ren_mass2 )\n"
     ]
    },
    {
     "name": "stdout",
     "output_type": "stream",
     "text": [
      "0.5 -1.5 0.0003195261827539055 5.642237697283161e-06\n",
      "\n",
      "phase_trans_2/conf3\n",
      "cutFractions: 0.5  mphi2: -1.0\n"
     ]
    },
    {
     "name": "stderr",
     "output_type": "stream",
     "text": [
      "100%|████████████████████████████████████| 9949/9949 [00:00<00:00, 82465.70it/s]\n"
     ]
    },
    {
     "name": "stdout",
     "output_type": "stream",
     "text": [
      "3.4659202573122965\n",
      "0.0004309442765945564\n",
      "1.645187506648603e-05\n",
      "1.9423868770193788\n",
      "0.13801604086348748\n"
     ]
    },
    {
     "name": "stderr",
     "output_type": "stream",
     "text": [
      "100%|████████████████████████████████████| 9949/9949 [00:00<00:00, 80252.80it/s]\n"
     ]
    },
    {
     "name": "stdout",
     "output_type": "stream",
     "text": [
      "dsjfdsomfosdmfodskmfosdkmf1.0\n"
     ]
    },
    {
     "name": "stderr",
     "output_type": "stream",
     "text": [
      "100%|████████████████████████████████████| 9949/9949 [00:00<00:00, 85959.86it/s]\n",
      "/home/matteo/code/QuarkMesonModel/analysis/correlations.py:180: RuntimeWarning: invalid value encountered in sqrt\n",
      "  ren_mass = np.sqrt( ren_mass2 )\n"
     ]
    },
    {
     "name": "stdout",
     "output_type": "stream",
     "text": [
      "0.5 -1.0 0.0004754302553363438 1.0201433968710857e-05\n",
      "\n",
      "phase_trans_2/conf4\n",
      "cutFractions: 0.5  mphi2: -0.75\n"
     ]
    },
    {
     "name": "stderr",
     "output_type": "stream",
     "text": [
      "100%|████████████████████████████████████| 9950/9950 [00:00<00:00, 85643.54it/s]\n"
     ]
    },
    {
     "name": "stdout",
     "output_type": "stream",
     "text": [
      "3.0126698572864328\n",
      "0.0005581698588227505\n",
      "2.4068038897749958e-05\n",
      "2.4885999297402885\n",
      "0.19965867948195476\n"
     ]
    },
    {
     "name": "stderr",
     "output_type": "stream",
     "text": [
      "100%|████████████████████████████████████| 9950/9950 [00:00<00:00, 80424.20it/s]\n"
     ]
    },
    {
     "name": "stdout",
     "output_type": "stream",
     "text": [
      "dsjfdsomfosdmfodskmfosdkmf1.0\n"
     ]
    },
    {
     "name": "stderr",
     "output_type": "stream",
     "text": [
      "100%|████████████████████████████████████| 9950/9950 [00:00<00:00, 79710.53it/s]\n",
      "/home/matteo/code/QuarkMesonModel/analysis/correlations.py:180: RuntimeWarning: invalid value encountered in sqrt\n",
      "  ren_mass = np.sqrt( ren_mass2 )\n"
     ]
    },
    {
     "name": "stdout",
     "output_type": "stream",
     "text": [
      "0.5 -0.75 0.000622521377748481 1.5019219102312153e-05\n",
      "\n",
      "phase_trans_2/conf5\n",
      "cutFractions: 0.5  mphi2: -0.5\n"
     ]
    },
    {
     "name": "stderr",
     "output_type": "stream",
     "text": [
      "100%|████████████████████████████████████| 9949/9949 [00:00<00:00, 85726.76it/s]\n"
     ]
    },
    {
     "name": "stdout",
     "output_type": "stream",
     "text": [
      "2.4892283877776626\n",
      "0.0007968067010304364\n",
      "4.033976394812393e-05\n",
      "3.604100391820614\n",
      "0.33815713593476737\n"
     ]
    },
    {
     "name": "stderr",
     "output_type": "stream",
     "text": [
      "100%|████████████████████████████████████| 9949/9949 [00:00<00:00, 75777.73it/s]\n"
     ]
    },
    {
     "name": "stdout",
     "output_type": "stream",
     "text": [
      "dsjfdsomfosdmfodskmfosdkmf1.0\n"
     ]
    },
    {
     "name": "stderr",
     "output_type": "stream",
     "text": [
      "100%|████████████████████████████████████| 9949/9949 [00:00<00:00, 82258.76it/s]\n",
      "/home/matteo/code/QuarkMesonModel/analysis/correlations.py:180: RuntimeWarning: invalid value encountered in sqrt\n",
      "  ren_mass = np.sqrt( ren_mass2 )\n"
     ]
    },
    {
     "name": "stdout",
     "output_type": "stream",
     "text": [
      "0.5 -0.5 0.0008756798371032267 2.541875801323887e-05\n",
      "\n",
      "phase_trans_2/conf6\n",
      "cutFractions: 0.5  mphi2: -0.25\n"
     ]
    },
    {
     "name": "stderr",
     "output_type": "stream",
     "text": [
      "100%|████████████████████████████████████| 9950/9950 [00:00<00:00, 84135.36it/s]\n"
     ]
    },
    {
     "name": "stdout",
     "output_type": "stream",
     "text": [
      "1.8661932291457317\n",
      "0.0013294122879954544\n",
      "8.376193396902155e-05\n",
      "6.181583726481573\n",
      "0.7154188620428662\n"
     ]
    },
    {
     "name": "stderr",
     "output_type": "stream",
     "text": [
      "100%|████████████████████████████████████| 9950/9950 [00:00<00:00, 83517.09it/s]\n"
     ]
    },
    {
     "name": "stdout",
     "output_type": "stream",
     "text": [
      "dsjfdsomfosdmfodskmfosdkmf1.0\n"
     ]
    },
    {
     "name": "stderr",
     "output_type": "stream",
     "text": [
      "100%|████████████████████████████████████| 9950/9950 [00:00<00:00, 80620.27it/s]\n"
     ]
    },
    {
     "name": "stdout",
     "output_type": "stream",
     "text": [
      "0.5 -0.25 0.0014206169868087963 5.467981953042475e-05\n",
      "\n",
      "phase_trans_2/conf7\n",
      "cutFractions: 0.5  mphi2: -0.1\n"
     ]
    },
    {
     "name": "stderr",
     "output_type": "stream",
     "text": [
      "100%|████████████████████████████████████| 9950/9950 [00:00<00:00, 85684.86it/s]\n"
     ]
    },
    {
     "name": "stdout",
     "output_type": "stream",
     "text": [
      "1.4417560623115602\n",
      "0.0019140551076376729\n",
      "0.00014295172112824517\n",
      "9.292685507699476\n",
      "1.2665287690362657\n"
     ]
    },
    {
     "name": "stderr",
     "output_type": "stream",
     "text": [
      "100%|████████████████████████████████████| 9950/9950 [00:00<00:00, 80457.54it/s]\n"
     ]
    },
    {
     "name": "stdout",
     "output_type": "stream",
     "text": [
      "dsjfdsomfosdmfodskmfosdkmf1.0\n"
     ]
    },
    {
     "name": "stderr",
     "output_type": "stream",
     "text": [
      "100%|████████████████████████████████████| 9950/9950 [00:00<00:00, 83826.77it/s]\n"
     ]
    },
    {
     "name": "stdout",
     "output_type": "stream",
     "text": [
      "0.5 -0.1 0.0019577521960322895 9.266360166221091e-05\n",
      "\n",
      "phase_trans_2/conf8\n",
      "cutFractions: 0.5  mphi2: -0.05\n"
     ]
    },
    {
     "name": "stderr",
     "output_type": "stream",
     "text": [
      "100%|████████████████████████████████████| 9950/9950 [00:00<00:00, 82755.12it/s]\n"
     ]
    },
    {
     "name": "stdout",
     "output_type": "stream",
     "text": [
      "1.2985287105527652\n",
      "0.0020726715802387797\n",
      "0.0001602792992624467\n",
      "9.973227605089168\n",
      "1.4072595317914616\n"
     ]
    },
    {
     "name": "stderr",
     "output_type": "stream",
     "text": [
      "100%|████████████████████████████████████| 9950/9950 [00:00<00:00, 80443.58it/s]\n"
     ]
    },
    {
     "name": "stdout",
     "output_type": "stream",
     "text": [
      "dsjfdsomfosdmfodskmfosdkmf1.0\n"
     ]
    },
    {
     "name": "stderr",
     "output_type": "stream",
     "text": [
      "100%|████████████████████████████████████| 9950/9950 [00:00<00:00, 83053.54it/s]\n"
     ]
    },
    {
     "name": "stdout",
     "output_type": "stream",
     "text": [
      "0.5 -0.05 0.002138735898890082 0.00010765967147919203\n",
      "\n",
      "phase_trans_2/conf9\n",
      "cutFractions: 0.5  mphi2: 0.05\n"
     ]
    },
    {
     "name": "stderr",
     "output_type": "stream",
     "text": [
      "100%|████████████████████████████████████| 9950/9950 [00:00<00:00, 76173.36it/s]\n"
     ]
    },
    {
     "name": "stdout",
     "output_type": "stream",
     "text": [
      "1.029297495175875\n",
      "0.002304538421311918\n",
      "0.00018554628785666987\n",
      "11.112235006687346\n",
      "1.6279488033161362\n"
     ]
    },
    {
     "name": "stderr",
     "output_type": "stream",
     "text": [
      "100%|████████████████████████████████████| 9950/9950 [00:00<00:00, 58489.36it/s]\n"
     ]
    },
    {
     "name": "stdout",
     "output_type": "stream",
     "text": [
      "dsjfdsomfosdmfodskmfosdkmf1.0\n"
     ]
    },
    {
     "name": "stderr",
     "output_type": "stream",
     "text": [
      "100%|████████████████████████████████████| 9950/9950 [00:00<00:00, 62005.72it/s]\n"
     ]
    },
    {
     "name": "stdout",
     "output_type": "stream",
     "text": [
      "0.5 0.05 0.0023724708509514835 0.0001257782312561143\n",
      "\n",
      "phase_trans_2/conf10\n",
      "cutFractions: 0.5  mphi2: 0.1\n"
     ]
    },
    {
     "name": "stderr",
     "output_type": "stream",
     "text": [
      "100%|████████████████████████████████████| 9949/9949 [00:00<00:00, 77683.00it/s]\n"
     ]
    },
    {
     "name": "stdout",
     "output_type": "stream",
     "text": [
      "0.9111869720574963\n",
      "0.0023199875900978416\n",
      "0.00018824202945595382\n",
      "11.19911262065441\n",
      "1.654730819234618\n"
     ]
    },
    {
     "name": "stderr",
     "output_type": "stream",
     "text": [
      "100%|████████████████████████████████████| 9949/9949 [00:00<00:00, 84649.45it/s]\n"
     ]
    },
    {
     "name": "stdout",
     "output_type": "stream",
     "text": [
      "dsjfdsomfosdmfodskmfosdkmf1.0\n"
     ]
    },
    {
     "name": "stderr",
     "output_type": "stream",
     "text": [
      "100%|████████████████████████████████████| 9949/9949 [00:00<00:00, 65857.98it/s]\n"
     ]
    },
    {
     "name": "stdout",
     "output_type": "stream",
     "text": [
      "0.5 0.1 0.0023854540241849704 0.00012573066648950777\n",
      "\n",
      "phase_trans_2/conf11\n",
      "cutFractions: 0.5  mphi2: 0.25\n"
     ]
    },
    {
     "name": "stderr",
     "output_type": "stream",
     "text": [
      "100%|████████████████████████████████████| 9950/9950 [00:00<00:00, 78821.09it/s]\n"
     ]
    },
    {
     "name": "stdout",
     "output_type": "stream",
     "text": [
      "0.6428559214070356\n",
      "0.0020495933392090247\n",
      "0.0001571571316501514\n",
      "9.89107438093614\n",
      "1.3826744385953367\n"
     ]
    },
    {
     "name": "stderr",
     "output_type": "stream",
     "text": [
      "100%|████████████████████████████████████| 9950/9950 [00:00<00:00, 76824.98it/s]\n"
     ]
    },
    {
     "name": "stdout",
     "output_type": "stream",
     "text": [
      "dsjfdsomfosdmfodskmfosdkmf1.0\n"
     ]
    },
    {
     "name": "stderr",
     "output_type": "stream",
     "text": [
      "100%|████████████████████████████████████| 9950/9950 [00:00<00:00, 78186.85it/s]\n"
     ]
    },
    {
     "name": "stdout",
     "output_type": "stream",
     "text": [
      "0.5 0.25 0.002108777551759047 0.00010062365267549772\n",
      "\n",
      "phase_trans_2/conf12\n",
      "cutFractions: 0.5  mphi2: 0.5\n"
     ]
    },
    {
     "name": "stderr",
     "output_type": "stream",
     "text": [
      "100%|████████████████████████████████████| 9949/9949 [00:00<00:00, 79064.19it/s]\n"
     ]
    },
    {
     "name": "stdout",
     "output_type": "stream",
     "text": [
      "0.4057318799879375\n",
      "0.0014161602501808783\n",
      "9.255867942508598e-05\n",
      "6.666094490635181\n",
      "0.8001268009399887\n"
     ]
    },
    {
     "name": "stderr",
     "output_type": "stream",
     "text": [
      "100%|████████████████████████████████████| 9949/9949 [00:00<00:00, 68637.50it/s]\n"
     ]
    },
    {
     "name": "stdout",
     "output_type": "stream",
     "text": [
      "dsjfdsomfosdmfodskmfosdkmf1.0\n"
     ]
    },
    {
     "name": "stderr",
     "output_type": "stream",
     "text": [
      "100%|████████████████████████████████████| 9949/9949 [00:00<00:00, 62498.98it/s]\n"
     ]
    },
    {
     "name": "stdout",
     "output_type": "stream",
     "text": [
      "0.5 0.5 0.0014946012415873644 5.75169417579955e-05\n",
      "\n",
      "phase_trans_2/conf13\n",
      "cutFractions: 0.5  mphi2: 0.75\n"
     ]
    },
    {
     "name": "stderr",
     "output_type": "stream",
     "text": [
      "100%|████████████████████████████████████| 9949/9949 [00:00<00:00, 62248.65it/s]\n"
     ]
    },
    {
     "name": "stdout",
     "output_type": "stream",
     "text": [
      "0.29115288601869493\n",
      "0.0010150250943242417\n",
      "5.7113968916645925e-05\n",
      "4.62462773630763\n",
      "0.4807223389545005\n"
     ]
    },
    {
     "name": "stderr",
     "output_type": "stream",
     "text": [
      "100%|████████████████████████████████████| 9949/9949 [00:00<00:00, 71242.58it/s]\n"
     ]
    },
    {
     "name": "stdout",
     "output_type": "stream",
     "text": [
      "dsjfdsomfosdmfodskmfosdkmf1.0\n"
     ]
    },
    {
     "name": "stderr",
     "output_type": "stream",
     "text": [
      "100%|████████████████████████████████████| 9949/9949 [00:00<00:00, 60648.40it/s]\n",
      "/home/matteo/code/QuarkMesonModel/analysis/correlations.py:180: RuntimeWarning: invalid value encountered in sqrt\n",
      "  ren_mass = np.sqrt( ren_mass2 )\n"
     ]
    },
    {
     "name": "stdout",
     "output_type": "stream",
     "text": [
      "0.5 0.75 0.001107196796055558 3.596977254698281e-05\n",
      "\n",
      "phase_trans_2/conf14\n",
      "cutFractions: 0.5  mphi2: 1.0\n"
     ]
    },
    {
     "name": "stderr",
     "output_type": "stream",
     "text": [
      "100%|████████████████████████████████████| 9950/9950 [00:00<00:00, 63870.04it/s]\n"
     ]
    },
    {
     "name": "stdout",
     "output_type": "stream",
     "text": [
      "0.22595167015075399\n",
      "0.0007795117915187472\n",
      "3.8680688066301136e-05\n",
      "3.4603442115871546\n",
      "0.318241690028821\n"
     ]
    },
    {
     "name": "stderr",
     "output_type": "stream",
     "text": [
      "100%|████████████████████████████████████| 9950/9950 [00:00<00:00, 64853.35it/s]\n"
     ]
    },
    {
     "name": "stdout",
     "output_type": "stream",
     "text": [
      "dsjfdsomfosdmfodskmfosdkmf1.0\n"
     ]
    },
    {
     "name": "stderr",
     "output_type": "stream",
     "text": [
      "100%|████████████████████████████████████| 9950/9950 [00:00<00:00, 59564.41it/s]\n",
      "/home/matteo/code/QuarkMesonModel/analysis/correlations.py:180: RuntimeWarning: invalid value encountered in sqrt\n",
      "  ren_mass = np.sqrt( ren_mass2 )\n"
     ]
    },
    {
     "name": "stdout",
     "output_type": "stream",
     "text": [
      "0.5 1.0 0.0008730084870672808 2.4372702373079778e-05\n",
      "\n",
      "phase_trans_2/conf15\n",
      "cutFractions: 0.5  mphi2: 1.5\n"
     ]
    },
    {
     "name": "stderr",
     "output_type": "stream",
     "text": [
      "100%|████████████████████████████████████| 9950/9950 [00:00<00:00, 76208.69it/s]\n"
     ]
    },
    {
     "name": "stdout",
     "output_type": "stream",
     "text": [
      "0.15548424000000027\n",
      "0.0005414989425869927\n",
      "2.270937055479366e-05\n",
      "2.3992121837640408\n",
      "0.18693340473714062\n"
     ]
    },
    {
     "name": "stderr",
     "output_type": "stream",
     "text": [
      "100%|████████████████████████████████████| 9950/9950 [00:00<00:00, 70836.74it/s]\n"
     ]
    },
    {
     "name": "stdout",
     "output_type": "stream",
     "text": [
      "dsjfdsomfosdmfodskmfosdkmf1.0\n"
     ]
    },
    {
     "name": "stderr",
     "output_type": "stream",
     "text": [
      "100%|████████████████████████████████████| 9950/9950 [00:00<00:00, 63677.09it/s]\n",
      "/home/matteo/code/QuarkMesonModel/analysis/correlations.py:180: RuntimeWarning: invalid value encountered in sqrt\n",
      "  ren_mass = np.sqrt( ren_mass2 )\n"
     ]
    },
    {
     "name": "stdout",
     "output_type": "stream",
     "text": [
      "0.5 1.5 0.0006077303094162024 1.4017292772769349e-05\n",
      "\n",
      "phase_trans_2/conf16\n",
      "cutFractions: 0.5  mphi2: 2.0\n"
     ]
    },
    {
     "name": "stderr",
     "output_type": "stream",
     "text": [
      "100%|████████████████████████████████████| 9949/9949 [00:00<00:00, 68574.45it/s]\n"
     ]
    },
    {
     "name": "stdout",
     "output_type": "stream",
     "text": [
      "0.11815737292190269\n",
      "0.00041677129232812034\n",
      "1.591080240550705e-05\n",
      "1.8437842383784697\n",
      "0.1315231837912287\n"
     ]
    },
    {
     "name": "stderr",
     "output_type": "stream",
     "text": [
      "100%|████████████████████████████████████| 9949/9949 [00:00<00:00, 64009.20it/s]\n"
     ]
    },
    {
     "name": "stdout",
     "output_type": "stream",
     "text": [
      "dsjfdsomfosdmfodskmfosdkmf1.0\n"
     ]
    },
    {
     "name": "stderr",
     "output_type": "stream",
     "text": [
      "100%|████████████████████████████████████| 9949/9949 [00:00<00:00, 67154.82it/s]\n",
      "/home/matteo/code/QuarkMesonModel/analysis/correlations.py:180: RuntimeWarning: invalid value encountered in sqrt\n",
      "  ren_mass = np.sqrt( ren_mass2 )\n"
     ]
    },
    {
     "name": "stdout",
     "output_type": "stream",
     "text": [
      "0.5 2.0 0.00046846203273647196 9.565346821509536e-06\n",
      "\n",
      "phase_trans_4/conf17\n",
      "cutFractions: 0.25  mphi2: -2.0\n"
     ]
    },
    {
     "name": "stderr",
     "output_type": "stream",
     "text": [
      "100%|████████████████████████████████████| 9950/9950 [00:00<00:00, 78033.20it/s]\n"
     ]
    },
    {
     "name": "stdout",
     "output_type": "stream",
     "text": [
      "4.895478700502503\n",
      "0.00043952284898327195\n",
      "2.310661156749685e-05\n",
      "3.9866759436225436\n",
      "0.3876023535516277\n"
     ]
    },
    {
     "name": "stderr",
     "output_type": "stream",
     "text": [
      "100%|████████████████████████████████████| 9950/9950 [00:00<00:00, 77537.22it/s]\n"
     ]
    },
    {
     "name": "stdout",
     "output_type": "stream",
     "text": [
      "dsjfdsomfosdmfodskmfosdkmf1.0\n"
     ]
    },
    {
     "name": "stderr",
     "output_type": "stream",
     "text": [
      "100%|████████████████████████████████████| 9950/9950 [00:00<00:00, 77658.57it/s]\n"
     ]
    },
    {
     "name": "stdout",
     "output_type": "stream",
     "text": [
      "0.25 -2.0 0.00024087893408015188 6.4736716615731745e-06\n",
      "\n",
      "phase_trans_4/conf18\n",
      "cutFractions: 0.25  mphi2: -1.5\n"
     ]
    },
    {
     "name": "stderr",
     "output_type": "stream",
     "text": [
      "100%|████████████████████████████████████| 9950/9950 [00:00<00:00, 81285.44it/s]\n"
     ]
    },
    {
     "name": "stdout",
     "output_type": "stream",
     "text": [
      "4.241940215075391\n",
      "0.0005715298021378988\n",
      "3.3162689490187545e-05\n",
      "5.072985524106161\n",
      "0.5423101135428345\n"
     ]
    },
    {
     "name": "stderr",
     "output_type": "stream",
     "text": [
      "100%|████████████████████████████████████| 9950/9950 [00:00<00:00, 80509.22it/s]\n"
     ]
    },
    {
     "name": "stdout",
     "output_type": "stream",
     "text": [
      "dsjfdsomfosdmfodskmfosdkmf1.0\n"
     ]
    },
    {
     "name": "stderr",
     "output_type": "stream",
     "text": [
      "100%|████████████████████████████████████| 9950/9950 [00:00<00:00, 80903.15it/s]\n"
     ]
    },
    {
     "name": "stdout",
     "output_type": "stream",
     "text": [
      "0.25 -1.5 0.00032001262759193426 9.731747803781904e-06\n",
      "\n",
      "phase_trans_4/conf19\n",
      "cutFractions: 0.25  mphi2: -1.0\n"
     ]
    },
    {
     "name": "stderr",
     "output_type": "stream",
     "text": [
      "100%|████████████████████████████████████| 9949/9949 [00:00<00:00, 83378.88it/s]\n"
     ]
    },
    {
     "name": "stdout",
     "output_type": "stream",
     "text": [
      "3.4724605568398754\n",
      "0.0008495452295436723\n",
      "5.8700742538166124e-05\n",
      "7.603672478391223\n",
      "0.963008548267579\n"
     ]
    },
    {
     "name": "stderr",
     "output_type": "stream",
     "text": [
      "100%|████████████████████████████████████| 9949/9949 [00:00<00:00, 76113.46it/s]\n"
     ]
    },
    {
     "name": "stdout",
     "output_type": "stream",
     "text": [
      "dsjfdsomfosdmfodskmfosdkmf1.0\n"
     ]
    },
    {
     "name": "stderr",
     "output_type": "stream",
     "text": [
      "100%|████████████████████████████████████| 9949/9949 [00:00<00:00, 77093.43it/s]\n"
     ]
    },
    {
     "name": "stdout",
     "output_type": "stream",
     "text": [
      "0.25 -1.0 0.0004714558107865218 1.719478595335431e-05\n",
      "\n",
      "phase_trans_4/conf20\n",
      "cutFractions: 0.25  mphi2: -0.75\n"
     ]
    },
    {
     "name": "stderr",
     "output_type": "stream",
     "text": [
      "100%|████████████████████████████████████| 9949/9949 [00:00<00:00, 71751.56it/s]\n"
     ]
    },
    {
     "name": "stdout",
     "output_type": "stream",
     "text": [
      "3.0206060991054375\n",
      "0.0011027214484163707\n",
      "8.45578709459612e-05\n",
      "9.747995219645182\n",
      "1.364745991876964\n"
     ]
    },
    {
     "name": "stderr",
     "output_type": "stream",
     "text": [
      "100%|████████████████████████████████████| 9949/9949 [00:00<00:00, 77074.63it/s]\n"
     ]
    },
    {
     "name": "stdout",
     "output_type": "stream",
     "text": [
      "dsjfdsomfosdmfodskmfosdkmf1.0\n"
     ]
    },
    {
     "name": "stderr",
     "output_type": "stream",
     "text": [
      "100%|████████████████████████████████████| 9949/9949 [00:00<00:00, 84111.30it/s]\n"
     ]
    },
    {
     "name": "stdout",
     "output_type": "stream",
     "text": [
      "0.25 -0.75 0.0006193324097001034 2.6335732062274567e-05\n",
      "\n",
      "phase_trans_4/conf21\n",
      "cutFractions: 0.25  mphi2: -0.5\n"
     ]
    },
    {
     "name": "stderr",
     "output_type": "stream",
     "text": [
      "100%|████████████████████████████████████| 9950/9950 [00:00<00:00, 77497.48it/s]\n"
     ]
    },
    {
     "name": "stdout",
     "output_type": "stream",
     "text": [
      "2.4996244552763884\n",
      "0.0015300413563914049\n",
      "0.0001332800371817913\n",
      "13.276339660793013\n",
      "2.0997838333842345\n"
     ]
    },
    {
     "name": "stderr",
     "output_type": "stream",
     "text": [
      "100%|████████████████████████████████████| 9950/9950 [00:00<00:00, 76871.25it/s]\n"
     ]
    },
    {
     "name": "stdout",
     "output_type": "stream",
     "text": [
      "dsjfdsomfosdmfodskmfosdkmf1.0\n"
     ]
    },
    {
     "name": "stderr",
     "output_type": "stream",
     "text": [
      "100%|████████████████████████████████████| 9950/9950 [00:00<00:00, 81390.70it/s]\n"
     ]
    },
    {
     "name": "stdout",
     "output_type": "stream",
     "text": [
      "0.25 -0.5 0.0008749393093263929 4.372646814618764e-05\n",
      "\n",
      "phase_trans_4/conf22\n",
      "cutFractions: 0.25  mphi2: -0.25\n"
     ]
    },
    {
     "name": "stderr",
     "output_type": "stream",
     "text": [
      "100%|████████████████████████████████████| 9949/9949 [00:00<00:00, 82902.32it/s]\n"
     ]
    },
    {
     "name": "stdout",
     "output_type": "stream",
     "text": [
      "1.8797997708312364\n",
      "0.0023977978261476075\n",
      "0.00024808336874042016\n",
      "20.223201478680267\n",
      "3.766493302763747\n"
     ]
    },
    {
     "name": "stderr",
     "output_type": "stream",
     "text": [
      "100%|████████████████████████████████████| 9949/9949 [00:00<00:00, 81987.08it/s]\n"
     ]
    },
    {
     "name": "stdout",
     "output_type": "stream",
     "text": [
      "dsjfdsomfosdmfodskmfosdkmf1.0\n"
     ]
    },
    {
     "name": "stderr",
     "output_type": "stream",
     "text": [
      "100%|████████████████████████████████████| 9949/9949 [00:00<00:00, 81453.84it/s]\n"
     ]
    },
    {
     "name": "stdout",
     "output_type": "stream",
     "text": [
      "0.25 -0.25 0.001408616072437186 8.99841542825211e-05\n",
      "\n",
      "phase_trans_4/conf23\n",
      "cutFractions: 0.25  mphi2: -0.1\n"
     ]
    },
    {
     "name": "stderr",
     "output_type": "stream",
     "text": [
      "100%|████████████████████████████████████| 9949/9949 [00:00<00:00, 83525.25it/s]\n"
     ]
    },
    {
     "name": "stdout",
     "output_type": "stream",
     "text": [
      "1.4570604251683572\n",
      "0.0032269646460766042\n",
      "0.00037380501603092247\n",
      "26.798590455657255\n",
      "5.550566500691332\n"
     ]
    },
    {
     "name": "stderr",
     "output_type": "stream",
     "text": [
      "100%|████████████████████████████████████| 9949/9949 [00:00<00:00, 81837.71it/s]\n"
     ]
    },
    {
     "name": "stdout",
     "output_type": "stream",
     "text": [
      "dsjfdsomfosdmfodskmfosdkmf1.0\n"
     ]
    },
    {
     "name": "stderr",
     "output_type": "stream",
     "text": [
      "100%|████████████████████████████████████| 9949/9949 [00:00<00:00, 80613.10it/s]\n"
     ]
    },
    {
     "name": "stdout",
     "output_type": "stream",
     "text": [
      "0.25 -0.1 0.0019228323473616978 0.000144639359232127\n",
      "\n",
      "phase_trans_4/conf24\n",
      "cutFractions: 0.25  mphi2: -0.05\n"
     ]
    },
    {
     "name": "stderr",
     "output_type": "stream",
     "text": [
      "100%|████████████████████████████████████| 9950/9950 [00:00<00:00, 82476.93it/s]\n"
     ]
    },
    {
     "name": "stdout",
     "output_type": "stream",
     "text": [
      "1.3137689216080428\n",
      "0.0035156544714862363\n",
      "0.0004222023001103108\n",
      "29.238657778928168\n",
      "6.2665072741645\n"
     ]
    },
    {
     "name": "stderr",
     "output_type": "stream",
     "text": [
      "100%|████████████████████████████████████| 9950/9950 [00:00<00:00, 79725.61it/s]\n"
     ]
    },
    {
     "name": "stdout",
     "output_type": "stream",
     "text": [
      "dsjfdsomfosdmfodskmfosdkmf1.0\n"
     ]
    },
    {
     "name": "stderr",
     "output_type": "stream",
     "text": [
      "100%|████████████████████████████████████| 9950/9950 [00:00<00:00, 83477.00it/s]\n"
     ]
    },
    {
     "name": "stdout",
     "output_type": "stream",
     "text": [
      "0.25 -0.05 0.0020910290584049054 0.00016456394624322421\n",
      "\n",
      "phase_trans_4/conf25\n",
      "cutFractions: 0.25  mphi2: 0.05\n"
     ]
    },
    {
     "name": "stderr",
     "output_type": "stream",
     "text": [
      "100%|████████████████████████████████████| 9949/9949 [00:00<00:00, 85311.92it/s]\n"
     ]
    },
    {
     "name": "stdout",
     "output_type": "stream",
     "text": [
      "1.0430783876771497\n",
      "0.0038704010176762527\n",
      "0.0004823146923325236\n",
      "32.00990663103994\n",
      "7.103545563223095\n"
     ]
    },
    {
     "name": "stderr",
     "output_type": "stream",
     "text": [
      "100%|████████████████████████████████████| 9949/9949 [00:00<00:00, 83720.98it/s]\n"
     ]
    },
    {
     "name": "stdout",
     "output_type": "stream",
     "text": [
      "dsjfdsomfosdmfodskmfosdkmf1.0\n"
     ]
    },
    {
     "name": "stderr",
     "output_type": "stream",
     "text": [
      "100%|████████████████████████████████████| 9949/9949 [00:00<00:00, 82528.49it/s]\n"
     ]
    },
    {
     "name": "stdout",
     "output_type": "stream",
     "text": [
      "0.25 0.05 0.0023134389788320173 0.00019377618716203259\n",
      "\n",
      "phase_trans_4/conf26\n",
      "cutFractions: 0.25  mphi2: 0.1\n"
     ]
    },
    {
     "name": "stderr",
     "output_type": "stream",
     "text": [
      "100%|████████████████████████████████████| 9949/9949 [00:00<00:00, 73705.41it/s]\n"
     ]
    },
    {
     "name": "stdout",
     "output_type": "stream",
     "text": [
      "0.9238851102623398\n",
      "0.003870213050846003\n",
      "0.00048072792165785737\n",
      "31.849638081983514\n",
      "7.043710282945258\n"
     ]
    },
    {
     "name": "stderr",
     "output_type": "stream",
     "text": [
      "100%|████████████████████████████████████| 9949/9949 [00:00<00:00, 71787.24it/s]\n"
     ]
    },
    {
     "name": "stdout",
     "output_type": "stream",
     "text": [
      "dsjfdsomfosdmfodskmfosdkmf1.0\n"
     ]
    },
    {
     "name": "stderr",
     "output_type": "stream",
     "text": [
      "100%|████████████████████████████████████| 9949/9949 [00:00<00:00, 76433.84it/s]\n"
     ]
    },
    {
     "name": "stdout",
     "output_type": "stream",
     "text": [
      "0.25 0.1 0.0023249247274686902 0.00019437486420151716\n",
      "\n",
      "phase_trans_4/conf27\n",
      "cutFractions: 0.25  mphi2: 0.25\n"
     ]
    },
    {
     "name": "stderr",
     "output_type": "stream",
     "text": [
      "100%|████████████████████████████████████| 9948/9948 [00:00<00:00, 78879.14it/s]\n"
     ]
    },
    {
     "name": "stdout",
     "output_type": "stream",
     "text": [
      "0.6503588741455568\n",
      "0.003460149096428348\n",
      "0.00040974534490658543\n",
      "28.309111232180367\n",
      "5.985810214651904\n"
     ]
    },
    {
     "name": "stderr",
     "output_type": "stream",
     "text": [
      "100%|████████████████████████████████████| 9948/9948 [00:00<00:00, 75215.84it/s]\n"
     ]
    },
    {
     "name": "stdout",
     "output_type": "stream",
     "text": [
      "dsjfdsomfosdmfodskmfosdkmf1.0\n"
     ]
    },
    {
     "name": "stderr",
     "output_type": "stream",
     "text": [
      "100%|████████████████████████████████████| 9948/9948 [00:00<00:00, 79362.84it/s]\n"
     ]
    },
    {
     "name": "stdout",
     "output_type": "stream",
     "text": [
      "0.25 0.25 0.00209198309875678 0.00016325683426751935\n",
      "\n",
      "phase_trans_4/conf28\n",
      "cutFractions: 0.25  mphi2: 0.5\n"
     ]
    },
    {
     "name": "stderr",
     "output_type": "stream",
     "text": [
      "100%|████████████████████████████████████| 9949/9949 [00:00<00:00, 80762.26it/s]\n"
     ]
    },
    {
     "name": "stdout",
     "output_type": "stream",
     "text": [
      "0.4092489639159729\n",
      "0.0024761690414460153\n",
      "0.0002561918901893477\n",
      "20.246910318523682\n",
      "3.770390824811624\n"
     ]
    },
    {
     "name": "stderr",
     "output_type": "stream",
     "text": [
      "100%|████████████████████████████████████| 9949/9949 [00:00<00:00, 80029.17it/s]\n"
     ]
    },
    {
     "name": "stdout",
     "output_type": "stream",
     "text": [
      "dsjfdsomfosdmfodskmfosdkmf1.0\n"
     ]
    },
    {
     "name": "stderr",
     "output_type": "stream",
     "text": [
      "100%|████████████████████████████████████| 9949/9949 [00:00<00:00, 80724.13it/s]\n"
     ]
    },
    {
     "name": "stdout",
     "output_type": "stream",
     "text": [
      "0.25 0.5 0.0015004350787152557 9.815902461445786e-05\n",
      "\n",
      "phase_trans_4/conf29\n",
      "cutFractions: 0.25  mphi2: 0.75\n"
     ]
    },
    {
     "name": "stderr",
     "output_type": "stream",
     "text": [
      "100%|████████████████████████████████████| 9949/9949 [00:00<00:00, 80692.76it/s]\n"
     ]
    },
    {
     "name": "stdout",
     "output_type": "stream",
     "text": [
      "0.29290032385164283\n",
      "0.0018736653159325872\n",
      "0.00017470701993010864\n",
      "15.710721752075582\n",
      "2.65045331786186\n"
     ]
    },
    {
     "name": "stderr",
     "output_type": "stream",
     "text": [
      "100%|████████████████████████████████████| 9949/9949 [00:00<00:00, 79132.11it/s]\n"
     ]
    },
    {
     "name": "stdout",
     "output_type": "stream",
     "text": [
      "dsjfdsomfosdmfodskmfosdkmf1.0\n"
     ]
    },
    {
     "name": "stderr",
     "output_type": "stream",
     "text": [
      "100%|████████████████████████████████████| 9949/9949 [00:00<00:00, 80076.16it/s]\n"
     ]
    },
    {
     "name": "stdout",
     "output_type": "stream",
     "text": [
      "0.25 0.75 0.001108120700704242 6.255941371094999e-05\n",
      "\n",
      "phase_trans_4/conf30\n",
      "cutFractions: 0.25  mphi2: 1.0\n"
     ]
    },
    {
     "name": "stderr",
     "output_type": "stream",
     "text": [
      "100%|████████████████████████████████████| 9949/9949 [00:00<00:00, 80668.89it/s]\n"
     ]
    },
    {
     "name": "stdout",
     "output_type": "stream",
     "text": [
      "0.22696215378429965\n",
      "0.001505099659861214\n",
      "0.0001293657205179586\n",
      "12.833688152346957\n",
      "2.0043130720659295\n"
     ]
    },
    {
     "name": "stderr",
     "output_type": "stream",
     "text": [
      "100%|████████████████████████████████████| 9949/9949 [00:00<00:00, 80213.16it/s]\n"
     ]
    },
    {
     "name": "stdout",
     "output_type": "stream",
     "text": [
      "dsjfdsomfosdmfodskmfosdkmf1.0\n"
     ]
    },
    {
     "name": "stderr",
     "output_type": "stream",
     "text": [
      "100%|████████████████████████████████████| 9949/9949 [00:00<00:00, 74747.89it/s]\n"
     ]
    },
    {
     "name": "stdout",
     "output_type": "stream",
     "text": [
      "0.25 1.0 0.0008758363018671922 4.418885390529267e-05\n",
      "\n",
      "phase_trans_4/conf31\n",
      "cutFractions: 0.25  mphi2: 1.5\n"
     ]
    },
    {
     "name": "stderr",
     "output_type": "stream",
     "text": [
      "100%|████████████████████████████████████| 9950/9950 [00:00<00:00, 81265.18it/s]\n"
     ]
    },
    {
     "name": "stdout",
     "output_type": "stream",
     "text": [
      "0.15591201249246286\n",
      "0.0010583239293509908\n",
      "7.904120764770074e-05\n",
      "9.100016399038916\n",
      "1.242852367056082\n"
     ]
    },
    {
     "name": "stderr",
     "output_type": "stream",
     "text": [
      "100%|████████████████████████████████████| 9950/9950 [00:00<00:00, 78497.45it/s]\n"
     ]
    },
    {
     "name": "stdout",
     "output_type": "stream",
     "text": [
      "dsjfdsomfosdmfodskmfosdkmf1.0\n"
     ]
    },
    {
     "name": "stderr",
     "output_type": "stream",
     "text": [
      "100%|████████████████████████████████████| 9950/9950 [00:00<00:00, 81039.52it/s]\n"
     ]
    },
    {
     "name": "stdout",
     "output_type": "stream",
     "text": [
      "0.25 1.5 0.0006112259798311501 2.5438587710542256e-05\n",
      "\n",
      "phase_trans_4/conf32\n",
      "cutFractions: 0.25  mphi2: 2.0\n"
     ]
    },
    {
     "name": "stderr",
     "output_type": "stream",
     "text": [
      "100%|████████████████████████████████████| 9950/9950 [00:00<00:00, 80493.70it/s]\n"
     ]
    },
    {
     "name": "stdout",
     "output_type": "stream",
     "text": [
      "0.11857538074371834\n",
      "0.0008275506083870659\n",
      "5.596141925636031e-05\n",
      "7.322138717906216\n",
      "0.9071147012449364\n"
     ]
    },
    {
     "name": "stderr",
     "output_type": "stream",
     "text": [
      "100%|████████████████████████████████████| 9950/9950 [00:00<00:00, 80963.74it/s]\n"
     ]
    },
    {
     "name": "stdout",
     "output_type": "stream",
     "text": [
      "dsjfdsomfosdmfodskmfosdkmf1.0\n"
     ]
    },
    {
     "name": "stderr",
     "output_type": "stream",
     "text": [
      "100%|████████████████████████████████████| 9950/9950 [00:00<00:00, 80411.96it/s]\n"
     ]
    },
    {
     "name": "stdout",
     "output_type": "stream",
     "text": [
      "0.25 2.0 0.00046463337148597213 1.6854748289472786e-05\n",
      "\n"
     ]
    }
   ],
   "source": [
    "phi = {}\n",
    "cond = {}\n",
    "absphi = {}\n",
    "chi2 = {}\n",
    "mr = {}\n",
    "mqphys = {}\n",
    "cutoffs = []\n",
    "\n",
    "for f in folders:\n",
    "    print(f)\n",
    "    params = toml.load(\"data/\" + f + \"/input.toml\") # read toml file with parameters\n",
    "\n",
    "    s = str(params['physics']['cutFraction']) # read cutoff\n",
    "    # if cutoff is not already in the list, add it and create the corresponding data arrays\n",
    "    if not (float(s) in cutoffs):\n",
    "        cutoffs.append(float(s))\n",
    "        phi[s] = []\n",
    "        cond[s] = []\n",
    "        chi2[s] = []\n",
    "        mr[s] = []\n",
    "        mqphys[s] = []\n",
    "\n",
    "    Nt = int(Nt0 / float(s))\n",
    "    Nx = int(Nx0 / float(s))\n",
    "    volume = (Nt, Nx)\n",
    "    \n",
    "    p = float(params['physics']['mass']) / float(s) / float(s) # read yukawa coupling\n",
    "    if p == 0:\n",
    "        p = 1e-5\n",
    "    \n",
    "    print(\"cutFractions:\", s, \" mphi2:\", p)\n",
    "\n",
    "    data = read_csv(\"data/\" + f + \"/traces.csv\") # read file with magnetisation, condensate, ...\n",
    "\n",
    "    # Get bosonic time slices computed in main.cu\n",
    "    S_t = get_time_slices_from_timeslicefile(\"data/\" + f + \"/slice.dat\", field_axis=0, return_all=False)\n",
    "    # Get fermionic time slices computed in main.cu\n",
    "    data_Sq_t = read_csv(\"data/\" + f + \"/data.csv\")\n",
    "    Sq_t = data_Sq_t['corr'].to_numpy(np.dtype('f8')).reshape((-1, Nt))\n",
    "\n",
    "    # magnetisation\n",
    "    blob = ComputeStatistics(data['sigma'])\n",
    "    val, err = get_abs_mag(data['sigma'].to_numpy()) # !!!!!!!!!!!!!!!!!!!!!!!!! ABSSSSSSSSSSSSSSSSS\n",
    "    phi[s].append((blob.average, blob.sigmaF, p))\n",
    "    \n",
    "    avgxxx = blob.average\n",
    "    print(blob.average)\n",
    "    print(blob.sigmaF)\n",
    "    print(blob.sigmaF_error)\n",
    "    print(blob.ACtime)\n",
    "    print(blob.ACtimeError)\n",
    "    \n",
    "    # condensate\n",
    "    val, err = get_mag(data['tr'].to_numpy())\n",
    "    blob = ComputeStatistics(data['tr'])\n",
    "    cond[s].append((blob.average, blob.sigmaF, p))\n",
    "    # susceptibility\n",
    "    val, err = get_chi2xxx(data['sigma'].to_numpy(), Nx*Nt)\n",
    "    blob = ComputeStatistics((data['sigma'] - avgxxx)**2)\n",
    "    chi2[s].append((blob.average, blob.sigmaF, p))\n",
    "    # renormalised bosonic mass\n",
    "    val, err = get_ren_mass_right_via_timeslices(S_t,volume)\n",
    "    mr[s].append((val, err, p))\n",
    "    # physical quark mass\n",
    "    val, err = get_phys_quark_mass_via_timeslices(Sq_t,volume)\n",
    "    print(s, p, blob.average, blob.sigmaF)\n",
    "    mqphys[s].append((val, err, p))\n",
    "\n",
    "    \n",
    "    print()\n",
    "\n",
    "for k in phi.keys():\n",
    "    phi[k] = sorted(phi[k], key=lambda x: x[2])\n",
    "    cond[k] = sorted(cond[k], key=lambda x: x[2])\n",
    "    chi2[k] = sorted(chi2[k], key=lambda x: x[2])\n",
    "    mr[k] = sorted(mr[k], key=lambda x: x[2])\n",
    "    mqphys[k] = sorted(mqphys[k], key=lambda x: x[2])"
   ]
  },
  {
   "cell_type": "code",
   "execution_count": 53,
   "id": "48a8dd3e-1536-4629-b724-fa288065ef29",
   "metadata": {},
   "outputs": [
    {
     "data": {
      "text/plain": [
       "'IMPORTANT: should I use the one for large t, small t or the whole? \\ntmp_ren = []\\ntmp_large_t = []\\ntmp_small_t = []\\n\\nS_t = get_time_slices_from_timeslicefile(\"data/sim1/slice.dat\")\\ntmp_ren = get_ren_mass_right_via_timeslices(S_t,volume)\\ntmp_large_ = get_masses_from_large_t(S_t, volume, [0,0,0,0],inc_in_fit=3, with_plot = False)\\ntmp_small_t = get_masses_from_small_t(S_t, volume, [0,0,0,0],inc_in_fit=3, with_plot = False)\\n\\nren_masses = tmp_ren\\nprint(\"ren mass:\", val, err)'"
      ]
     },
     "execution_count": 53,
     "metadata": {},
     "output_type": "execute_result"
    }
   ],
   "source": [
    "'''IMPORTANT: should I use the one for large t, small t or the whole? \n",
    "tmp_ren = []\n",
    "tmp_large_t = []\n",
    "tmp_small_t = []\n",
    "\n",
    "S_t = get_time_slices_from_timeslicefile(\"data/sim1/slice.dat\")\n",
    "tmp_ren = get_ren_mass_right_via_timeslices(S_t,volume)\n",
    "tmp_large_ = get_masses_from_large_t(S_t, volume, [0,0,0,0],inc_in_fit=3, with_plot = False)\n",
    "tmp_small_t = get_masses_from_small_t(S_t, volume, [0,0,0,0],inc_in_fit=3, with_plot = False)\n",
    "\n",
    "ren_masses = tmp_ren\n",
    "print(\"ren mass:\", val, err)'''"
   ]
  },
  {
   "cell_type": "markdown",
   "id": "3a286e66-ea51-4d32-86e9-6b81f04e1f08",
   "metadata": {},
   "source": [
    "# Plot Stuff"
   ]
  },
  {
   "cell_type": "markdown",
   "id": "8458366e-8551-403c-bc31-1a8f82b02919",
   "metadata": {},
   "source": [
    "### Plot of the magnetization"
   ]
  },
  {
   "cell_type": "code",
   "execution_count": 54,
   "id": "8e618612-80b6-4ef0-82fe-a9ce63b2f40d",
   "metadata": {},
   "outputs": [
    {
     "data": {
      "image/png": "[encoded data removed]",
      "text/plain": [
       "<Figure size 640x480 with 1 Axes>"
      ]
     },
     "metadata": {},
     "output_type": "display_data"
    }
   ],
   "source": [
    "for k in phi.keys():\n",
    "    plt.errorbar([v[2] for v in phi[k]], [v[0] for v in phi[k]], [v[1] for v in phi[k]], fmt='o--', label='s = ' + str(k))\n",
    "\n",
    "plt.legend(fontsize=12)\n",
    "#plt.xscale('log')\n",
    "plt.xlabel(r'$m_\\phi^2$', fontsize=16)\n",
    "plt.ylabel(r'$\\left\\langle \\phi \\right\\rangle$', fontsize=16)\n",
    "plt.tight_layout()\n",
    "plt.grid()\n",
    "plt.savefig(\"phi.pdf\")\n",
    "plt.show()"
   ]
  },
  {
   "cell_type": "markdown",
   "id": "f033110d-ccab-470c-b762-db8fdb5fffd3",
   "metadata": {},
   "source": [
    "### Plot of the magnetic susceptibility"
   ]
  },
  {
   "cell_type": "code",
   "execution_count": 55,
   "id": "bc634950-5c1f-4809-a21b-ae81c0781369",
   "metadata": {},
   "outputs": [
    {
     "data": {
      "image/png": "[encoded data removed]",
      "text/plain": [
       "<Figure size 640x480 with 1 Axes>"
      ]
     },
     "metadata": {},
     "output_type": "display_data"
    }
   ],
   "source": [
    "for k, c in zip(chi2.keys(), colors):\n",
    "    xvals = [v[2] for v in chi2[k]]\n",
    "    yvals = [v[0] for v in chi2[k]]\n",
    "    errs = [v[1] for v in chi2[k]]\n",
    "    plt.errorbar(xvals, yvals, errs, fmt='o--', label='s = ' + str(k), color=c)\n",
    "    #plt.plot([xvals[yvals.index(max(yvals))], xvals[yvals.index(max(yvals))]], [min(yvals), max(yvals)], '--', color=c)\n",
    "\n",
    "plt.legend(fontsize=12)\n",
    "#plt.xscale('log')\n",
    "plt.xlabel(r'$m_\\phi^2$', fontsize=16)\n",
    "plt.ylabel(r'$\\chi^2$', fontsize=16)\n",
    "plt.tight_layout()\n",
    "plt.grid()\n",
    "plt.savefig(\"chi2.pdf\")\n",
    "plt.show()"
   ]
  },
  {
   "cell_type": "markdown",
   "id": "911c8224-6a02-4bcb-b89a-9a0027684e68",
   "metadata": {},
   "source": [
    "### Plot of the condensate"
   ]
  },
  {
   "cell_type": "code",
   "execution_count": 56,
   "id": "836f9b36-bae4-48af-9121-97373f71a1cd",
   "metadata": {},
   "outputs": [
    {
     "data": {
      "image/png": "[encoded data removed]",
      "text/plain": [
       "<Figure size 640x480 with 1 Axes>"
      ]
     },
     "metadata": {},
     "output_type": "display_data"
    }
   ],
   "source": [
    "for k in cond.keys():\n",
    "    Nx = Nx0/float(k)\n",
    "    plt.errorbar([v[2] for v in cond[k]], [Nx*Nx*v[0] for v in cond[k]], [Nx*Nx*v[1] for v in cond[k]], fmt='o--', label='s = ' + str(k))\n",
    "\n",
    "plt.legend(fontsize=12)\n",
    "#plt.xscale('log')\n",
    "plt.xlabel(r'$m_\\phi^2$', fontsize=16)\n",
    "plt.ylabel(r'$N_x^2 \\, \\left\\langle \\bar \\psi \\psi \\right\\rangle$', fontsize=16)\n",
    "plt.tight_layout()\n",
    "plt.grid()\n",
    "plt.savefig(\"condensate.pdf\")\n",
    "plt.show()"
   ]
  },
  {
   "cell_type": "markdown",
   "id": "94fff7ff-2246-43df-84fe-1888c48716d7",
   "metadata": {},
   "source": [
    "### Plot of the physical quark mass"
   ]
  },
  {
   "cell_type": "code",
   "execution_count": 48,
   "id": "d7adea67-a884-4020-9c93-447d1e4d55f6",
   "metadata": {},
   "outputs": [
    {
     "data": {
      "image/png": "[encoded data removed]",
      "text/plain": [
       "<Figure size 640x480 with 1 Axes>"
      ]
     },
     "metadata": {},
     "output_type": "display_data"
    }
   ],
   "source": [
    "for k in mr.keys():\n",
    "    Nx = Nx0/float(k)\n",
    "    plt.errorbar([v[2] for v in mqphys[k]], [v[0] for v in mqphys[k]], [0 for _ in range(len(mqphys[k]))], fmt='o--', label='s = ' + str(k))\n",
    "\n",
    "plt.legend(fontsize=12)\n",
    "#plt.xscale('log')\n",
    "plt.xlabel(r'$m_\\phi^2$', fontsize=16)\n",
    "plt.ylabel(r'$m^q_{phys}$', fontsize=16)\n",
    "plt.tight_layout()\n",
    "plt.grid()\n",
    "plt.savefig(\"mqphys.pdf\")\n",
    "plt.show()"
   ]
  },
  {
   "cell_type": "markdown",
   "id": "96d97e95-9dda-4793-8032-b3fd1301de97",
   "metadata": {},
   "source": [
    "### Plot of the bosonic renormalised mass"
   ]
  },
  {
   "cell_type": "code",
   "execution_count": 24,
   "id": "19117de8-6543-46c1-a5d1-5d7f43b7d2d6",
   "metadata": {
    "scrolled": true
   },
   "outputs": [
    {
     "data": {
      "image/png": "[encoded data removed]",
      "text/plain": [
       "<Figure size 640x480 with 1 Axes>"
      ]
     },
     "metadata": {},
     "output_type": "display_data"
    }
   ],
   "source": [
    "for k in mr.keys():\n",
    "    Nx = Nx0/float(k)\n",
    "    plt.errorbar([v[2] for v in mr[k]], [Nx*v[0] for v in mr[k]], [Nx*v[1] for v in mr[k]], fmt='o--', label='s = ' + str(k))\n",
    "\n",
    "plt.legend(fontsize=12)\n",
    "plt.xscale('log')\n",
    "plt.xlabel(r'$m_\\phi^2$', fontsize=16)\n",
    "plt.ylabel(r'$N_x \\, m^\\phi_r$', fontsize=16)\n",
    "plt.tight_layout()\n",
    "plt.grid()\n",
    "plt.savefig(\"mphir.pdf\")\n",
    "plt.show()"
   ]
  },
  {
   "cell_type": "markdown",
   "id": "lucky-bailey",
   "metadata": {},
   "source": [
    "# Physical quark mass"
   ]
  },
  {
   "cell_type": "code",
   "execution_count": 25,
   "id": "worse-tissue",
   "metadata": {},
   "outputs": [
    {
     "name": "stdout",
     "output_type": "stream",
     "text": [
      "s: 1.0  g: 0.0\n",
      "Number of data points: 9951\n",
      "Nt: 16\n",
      "Mass = 0.18232309093929663\n"
     ]
    }
   ],
   "source": [
    "from scipy.optimize import curve_fit as fit\n",
    "\n",
    "####################################################\n",
    "data_folder = \"dataset2/s_1_0/conf1\"\n",
    "Nt = 16\n",
    "plot = True\n",
    "####################################################\n",
    "\n",
    "def fitfuncSinh(x, m_re, A):\n",
    "    return A * np.sinh(m_re*(Nt/2-x))\n",
    "\n",
    "def fitToSinh(ydata, startidx, endidx, plot=False):\n",
    "    yvals = ydata[startidx:endidx]\n",
    "    xvals = np.array(range(startidx, endidx))\n",
    "\n",
    "    fitparams = fit(fitfuncSinh, xvals, yvals, p0=[1e-2, 0])\n",
    "    #print(\"Mass: \", abs(fitparams[0][0]))\n",
    "        \n",
    "    return fitparams[0]\n",
    "\n",
    "params = toml.load(\"data/\" + data_folder + \"/input.toml\") # read toml file with parameters\n",
    "s = params['physics']['cutFraction'] # read cutoff\n",
    "g = params['fermions']['yukawa_coupling']\n",
    "\n",
    "data = read_csv(\"data/\" + data_folder + \"/data.csv\")\n",
    "timeslices = data['corr'].to_numpy(np.dtype('f8')).reshape((-1, Nt))\n",
    "\n",
    "corr = np.average(timeslices, axis=0)\n",
    "\n",
    "fitparams = fitToSinh(corr, 1, Nt, plot)\n",
    "\n",
    "print(\"s:\", s, \" g:\", g)\n",
    "print(\"Number of data points:\", timeslices.shape[0])\n",
    "print(\"Nt:\", Nt)\n",
    "print(\"Mass =\", fitparams[0])"
   ]
  },
  {
   "cell_type": "code",
   "execution_count": 18,
   "id": "a3088e35-2246-4cc9-837b-2baa3d239773",
   "metadata": {},
   "outputs": [
    {
     "data": {
      "image/png": "[encoded data removed]",
      "text/plain": [
       "<Figure size 640x480 with 1 Axes>"
      ]
     },
     "metadata": {},
     "output_type": "display_data"
    }
   ],
   "source": [
    "plt.plot(range(1, Nt), corr[1:Nt])\n",
    "plt.xlabel(r'$N_t$')\n",
    "plt.title(\"Correlator\")\n",
    "plt.tight_layout()\n",
    "plt.savefig(\"mass.pdf\")\n",
    "plt.show()"
   ]
  },
  {
   "cell_type": "code",
   "execution_count": 19,
   "id": "a52c131a-d7e0-41b8-9993-4491423b4204",
   "metadata": {},
   "outputs": [
    {
     "data": {
      "image/png": "[encoded data removed]",
      "text/plain": [
       "<Figure size 640x480 with 1 Axes>"
      ]
     },
     "metadata": {},
     "output_type": "display_data"
    }
   ],
   "source": [
    "plt.plot(range(1, Nt), corr[1:Nt], label=\"data\")\n",
    "xvals = np.linspace(0, Nt, 1000)\n",
    "plt.plot(xvals, fitfuncSinh(xvals, fitparams[0], fitparams[1]), label='fit')\n",
    "plt.legend()\n",
    "plt.xlabel(r'$N_t$')\n",
    "plt.title(\"Correlator\")\n",
    "plt.tight_layout()\n",
    "plt.savefig(\"mass.pdf\")\n",
    "plt.show()"
   ]
  },
  {
   "cell_type": "markdown",
   "id": "residential-giving",
   "metadata": {},
   "source": [
    "Compute expected mass from background fields"
   ]
  },
  {
   "cell_type": "code",
   "execution_count": 20,
   "id": "2aa8bf4a-b383-4b47-81ad-38513d1ce853",
   "metadata": {},
   "outputs": [
    {
     "name": "stdout",
     "output_type": "stream",
     "text": [
      "Expected mass with phi = [0.16 0.   0.   0.  ] : 0.1955667835439752\n"
     ]
    }
   ],
   "source": [
    "def expectedM(m0, g, sigma, pi):\n",
    "    r2 = sigma**2 + pi[0]**2 + pi[1]**2 + pi[2]**2\n",
    "    denom = 2*(g*sigma + m0 + 1)\n",
    "    sqrroot = np.sqrt((g**2*r2 + 2*m0*(g*sigma + 1) + 2*g*sigma + m0**2 + 2)**2 - 4*(g*sigma+m0+1)**2)\n",
    "    num = -sqrroot + g**2*r2 + 2*g*m0*sigma + 2*g*sigma + m0**2 + 2*m0 + 2\n",
    "    return -np.log(num/denom)\n",
    "\n",
    "mq0 = 0.2\n",
    "yukawa_coupling = 0.1\n",
    "sigma = 0.16\n",
    "pi = [0, 0, 0]\n",
    "\n",
    "print(\"Expected mass with phi =\", np.concatenate(([sigma], pi)), \":\", expectedM(mq0, yukawa_coupling, sigma, pi))"
   ]
  },
  {
   "cell_type": "markdown",
   "id": "6df606df-db92-4183-95f3-fabac59f8dec",
   "metadata": {},
   "source": [
    "# Renormalised boson mass"
   ]
  },
  {
   "cell_type": "code",
   "execution_count": 21,
   "id": "210fa0da-2ff9-46ff-a90a-edeb3d5c48e7",
   "metadata": {},
   "outputs": [],
   "source": [
    "from correlations import *\n",
    "from read_in_data import *\n",
    "from mass_fit import *"
   ]
  },
  {
   "cell_type": "code",
   "execution_count": null,
   "id": "057744d2-0f84-43a0-97ad-09537cd0373a",
   "metadata": {},
   "outputs": [],
   "source": [
    "####################################################\n",
    "f = \"dataset1/s_1_0/conf1\"\n",
    "Nt = 16\n",
    "Nx = 16\n",
    "####################################################\n",
    "volume = (Nt, Nx)"
   ]
  },
  {
   "cell_type": "code",
   "execution_count": null,
   "id": "d2833a9a-a272-4360-901b-7a21d87b368b",
   "metadata": {},
   "outputs": [],
   "source": [
    "S_t = get_time_slices_from_timeslicefile(\"data/\" + f + \"/slice.dat\", field_axis=0, return_all=False)\n",
    "val, err = get_phys_quark_mass_via_timeslices(S_t,volume)\n",
    "print(\"mr:\", val, err)"
   ]
  },
  {
   "cell_type": "markdown",
   "id": "719bc6fe-3b3d-48e2-b989-0e3222fe7540",
   "metadata": {},
   "source": [
    "# Mean Field equations of motion"
   ]
  },
  {
   "cell_type": "markdown",
   "id": "912f80ca-810e-4fbf-b82e-ce5a6d452700",
   "metadata": {},
   "source": [
    "Reset data arrays"
   ]
  },
  {
   "cell_type": "code",
   "execution_count": null,
   "id": "7a4d49ef-1f44-4a7e-a769-b653151262e3",
   "metadata": {},
   "outputs": [],
   "source": [
    "sigma_vals = []\n",
    "sigma_errs = []\n",
    "tr_vals = []\n",
    "tr_errs = []\n",
    "cutFractions = []"
   ]
  },
  {
   "cell_type": "code",
   "execution_count": 39,
   "id": "marine-southwest",
   "metadata": {},
   "outputs": [
    {
     "ename": "FileNotFoundError",
     "evalue": "[Errno 2] No such file or directory: 'data/s1'",
     "output_type": "error",
     "traceback": [
      "\u001b[0;31m---------------------------------------------------------------------------\u001b[0m",
      "\u001b[0;31mFileNotFoundError\u001b[0m                         Traceback (most recent call last)",
      "\u001b[0;32m<ipython-input-39-0f15e8c03f0b>\u001b[0m in \u001b[0;36m<module>\u001b[0;34m\u001b[0m\n\u001b[1;32m     13\u001b[0m     \u001b[0mdata\u001b[0m \u001b[0;34m=\u001b[0m \u001b[0;34m[\u001b[0m\u001b[0;34m]\u001b[0m \u001b[0;31m# each element will be a triple (s, sigma, err_sigma)\u001b[0m\u001b[0;34m\u001b[0m\u001b[0;34m\u001b[0m\u001b[0m\n\u001b[1;32m     14\u001b[0m     \u001b[0mdata_trace\u001b[0m \u001b[0;34m=\u001b[0m \u001b[0;34m[\u001b[0m\u001b[0;34m]\u001b[0m \u001b[0;31m# each element will be a triple (s, condensate, err_condensate)\u001b[0m\u001b[0;34m\u001b[0m\u001b[0;34m\u001b[0m\u001b[0m\n\u001b[0;32m---> 15\u001b[0;31m     \u001b[0;32mfor\u001b[0m \u001b[0mf\u001b[0m \u001b[0;32min\u001b[0m \u001b[0mos\u001b[0m\u001b[0;34m.\u001b[0m\u001b[0mlistdir\u001b[0m\u001b[0;34m(\u001b[0m\u001b[0mmypath\u001b[0m \u001b[0;34m+\u001b[0m \u001b[0mfold\u001b[0m\u001b[0;34m)\u001b[0m\u001b[0;34m:\u001b[0m\u001b[0;34m\u001b[0m\u001b[0;34m\u001b[0m\u001b[0m\n\u001b[0m\u001b[1;32m     16\u001b[0m \u001b[0;34m\u001b[0m\u001b[0m\n\u001b[1;32m     17\u001b[0m         \u001b[0mfull_path\u001b[0m \u001b[0;34m=\u001b[0m \u001b[0mmypath\u001b[0m \u001b[0;34m+\u001b[0m \u001b[0mfold\u001b[0m \u001b[0;34m+\u001b[0m \u001b[0;34m\"/\"\u001b[0m \u001b[0;34m+\u001b[0m \u001b[0mf\u001b[0m \u001b[0;34m+\u001b[0m \u001b[0;34m\"/\"\u001b[0m\u001b[0;34m\u001b[0m\u001b[0;34m\u001b[0m\u001b[0m\n",
      "\u001b[0;31mFileNotFoundError\u001b[0m: [Errno 2] No such file or directory: 'data/s1'"
     ]
    }
   ],
   "source": [
    "rcParams['text.usetex'] = True\n",
    "\n",
    "####################################################\n",
    "folders = [\"s1\"]\n",
    "mypath = \"data/\"\n",
    "plot_trace = True\n",
    "####################################################\n",
    "\n",
    "\n",
    "c = 0\n",
    "for fold in folders:\n",
    "    s = []\n",
    "    data = [] # each element will be a triple (s, sigma, err_sigma)\n",
    "    data_trace = [] # each element will be a triple (s, condensate, err_condensate)\n",
    "    for f in os.listdir(mypath + fold):\n",
    "        \n",
    "        full_path = mypath + fold + \"/\" + f + \"/\"   \n",
    "        \n",
    "        params = toml.load(full_path + \"/input.toml\")\n",
    "        s = float(params['physics']['cutFraction'])\n",
    "       \n",
    "        filedata = read_csv(full_path + \"traces.csv\")\n",
    "        N = len(filedata['sigma'])\n",
    "    \n",
    "        # vals\n",
    "        sigma = np.average(filedata['sigma'].to_numpy())\n",
    "        tr = np.average(filedata['tr'].to_numpy())\n",
    "        \n",
    "        print(\"s =\", s, \" <|sigma|> = \", sigma, \" <|psibar psi|> = \", tr)\n",
    "        \n",
    "        # errs\n",
    "        sigma_err = np.std(filedata['sigma'].to_numpy()) / np.sqrt(N-1)\n",
    "        tr_err = np.std(filedata['tr'].to_numpy()) / np.sqrt(N-1)\n",
    "                    \n",
    "        data.append((s, sigma, sigma_err))\n",
    "        data_trace.append((s, tr, tr_err))\n",
    "    \n",
    "    data = sorted(data, key=lambda x: x[0])\n",
    "    data_trace = sorted(data_trace, key=lambda x: x[0])\n",
    "                    \n",
    "    for el in data:\n",
    "        cutFractions.append(el[0])\n",
    "        sigma_vals.append(el[1])\n",
    "        sigma_errs.append(el[2])\n",
    "    \n",
    "    for el in data_trace:\n",
    "        tr_vals.append(el[1])\n",
    "        tr_errs.append(el[2])\n",
    "\n",
    "    plt.errorbar(cutFractions, sigma_vals, yerr=sigma_errs, fmt='o', color=colors[c])\n",
    "    if plot_trace:\n",
    "        plt.errorbar(cutFractions, [t/1 for t in tr_vals], yerr=[t/1 for t in tr_errs], fmt='o')\n",
    "\n",
    "    c += 1\n",
    "                    \n",
    "plt.show()\n",
    "\n"
   ]
  },
  {
   "cell_type": "code",
   "execution_count": null,
   "id": "decimal-accessory",
   "metadata": {},
   "outputs": [],
   "source": []
  },
  {
   "cell_type": "code",
   "execution_count": null,
   "id": "danish-brass",
   "metadata": {},
   "outputs": [],
   "source": []
  }
 ],
 "metadata": {
  "kernelspec": {
   "display_name": "Python 3",
   "language": "python",
   "name": "python3"
  },
  "language_info": {
   "codemirror_mode": {
    "name": "ipython",
    "version": 3
   },
   "file_extension": ".py",
   "mimetype": "text/x-python",
   "name": "python",
   "nbconvert_exporter": "python",
   "pygments_lexer": "ipython3",
   "version": "3.9.2"
  }
 },
 "nbformat": 4,
 "nbformat_minor": 5
}
