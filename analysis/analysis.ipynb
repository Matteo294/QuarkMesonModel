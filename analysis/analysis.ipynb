{
 "cells": [
  {
   "cell_type": "markdown",
   "id": "fff0cce0-a08b-4c36-9c61-bc88dbe25cd0",
   "metadata": {},
   "source": [
    "Import useful libraries"
   ]
  },
  {
   "cell_type": "code",
   "execution_count": 105,
   "id": "resistant-television",
   "metadata": {},
   "outputs": [
    {
     "name": "stdout",
     "output_type": "stream",
     "text": [
      "The autoreload extension is already loaded. To reload it, use:\n",
      "  %reload_ext autoreload\n"
     ]
    }
   ],
   "source": [
    "import numpy as np\n",
    "from matplotlib import pyplot as plt \n",
    "from pandas import read_csv\n",
    "import sys\n",
    "import os\n",
    "from matplotlib import rcParams\n",
    "import toml\n",
    "\n",
    "%load_ext autoreload\n",
    "%autoreload 2"
   ]
  },
  {
   "cell_type": "markdown",
   "id": "81e02921-372c-4591-af17-c3908eefe85f",
   "metadata": {},
   "source": [
    "# Block spin analysis"
   ]
  },
  {
   "cell_type": "markdown",
   "id": "e535e138-e0fd-4aec-a422-e2485eaaa68b",
   "metadata": {},
   "source": [
    "Specify folders from which to get configurations and set the values of the yukawa couling used in the simulations"
   ]
  },
  {
   "cell_type": "code",
   "execution_count": 106,
   "id": "af1dfd60-5533-43ea-ba5c-239eae2bb6ed",
   "metadata": {},
   "outputs": [],
   "source": [
    "################################################################################\n",
    "# dataset 1\n",
    "folders = [\"dataset1/s_0_25/conf\" + str(i+1) for i in range(10)] \n",
    "folders += [\"dataset1/s_0_5/conf\" + str(i+1) for i in range(10)] \n",
    "folders += [\"dataset1/s_1_0/conf\" + str(i+1) for i in range(10)]\n",
    "\n",
    "# dataset 2\n",
    "'''folders = [\"dataset2/s_0_5/conf\" + str(i+1) for i in range(10)] \n",
    "folders += [\"dataset2/s_1_0/conf\" + str(i+1) for i in range(10)]'''\n",
    "\n",
    "# dataset 3\n",
    "'''folders = [\"conf\" + str(i+1) for i in range(5)]'''\n",
    "\n",
    "Nt0 = 16\n",
    "Nx0 = 16\n",
    "################################################################################"
   ]
  },
  {
   "cell_type": "markdown",
   "id": "2be7fd6d-5024-4b4a-a273-608c72ff1871",
   "metadata": {},
   "source": [
    "Import functions from Jan Philipp's code"
   ]
  },
  {
   "cell_type": "code",
   "execution_count": 107,
   "id": "a3c0427b-86be-4bfd-bcad-a67fd931b1be",
   "metadata": {},
   "outputs": [],
   "source": [
    "from correlations import *\n",
    "from read_in_data import *\n",
    "from mass_fit import *\n",
    "from mass_matteo import *"
   ]
  },
  {
   "cell_type": "markdown",
   "id": "cce1f844-fc87-4d59-914e-7895e75227b0",
   "metadata": {},
   "source": [
    "Load data from specified folders"
   ]
  },
  {
   "cell_type": "code",
   "execution_count": 108,
   "id": "2a407890-b29c-4b62-b852-650adcf1c611",
   "metadata": {},
   "outputs": [
    {
     "name": "stdout",
     "output_type": "stream",
     "text": [
      "dataset1/s_0_25/conf1\n",
      "cutFractions: 0.25  Yukawa: 1e-05\n"
     ]
    },
    {
     "name": "stderr",
     "output_type": "stream",
     "text": [
      "100%|██████████| 9951/9951 [00:00<00:00, 62933.25it/s]\n",
      "100%|██████████| 9951/9951 [00:00<00:00, 62468.88it/s]\n",
      "100%|██████████| 9951/9951 [00:00<00:00, 62251.69it/s]\n"
     ]
    },
    {
     "name": "stdout",
     "output_type": "stream",
     "text": [
      "0.25 1e-05 0.18232165460854027 0.009751562336909821\n",
      "\n",
      "dataset1/s_0_25/conf2\n",
      "cutFractions: 0.25  Yukawa: 0.01\n"
     ]
    },
    {
     "name": "stderr",
     "output_type": "stream",
     "text": [
      "100%|██████████| 9950/9950 [00:00<00:00, 62974.50it/s]\n",
      "100%|██████████| 9950/9950 [00:00<00:00, 62385.94it/s]\n",
      "100%|██████████| 9950/9950 [00:00<00:00, 63314.43it/s]\n"
     ]
    },
    {
     "name": "stdout",
     "output_type": "stream",
     "text": [
      "0.25 0.01 0.1824241858635072 0.009712078307337633\n",
      "\n",
      "dataset1/s_0_25/conf3\n",
      "cutFractions: 0.25  Yukawa: 0.02\n"
     ]
    },
    {
     "name": "stderr",
     "output_type": "stream",
     "text": [
      "100%|██████████| 9951/9951 [00:00<00:00, 63128.19it/s]\n",
      "100%|██████████| 9951/9951 [00:00<00:00, 63243.84it/s]\n",
      "100%|██████████| 9951/9951 [00:00<00:00, 64168.53it/s]\n"
     ]
    },
    {
     "name": "stdout",
     "output_type": "stream",
     "text": [
      "0.25 0.02 0.182852752559547 0.009567558160143484\n",
      "\n",
      "dataset1/s_0_25/conf4\n",
      "cutFractions: 0.25  Yukawa: 0.1\n"
     ]
    },
    {
     "name": "stderr",
     "output_type": "stream",
     "text": [
      "100%|██████████| 9950/9950 [00:00<00:00, 59049.04it/s]\n",
      "100%|██████████| 9950/9950 [00:00<00:00, 58127.08it/s]\n",
      "100%|██████████| 9950/9950 [00:00<00:00, 59208.80it/s]\n"
     ]
    },
    {
     "name": "stdout",
     "output_type": "stream",
     "text": [
      "0.25 0.1 0.1977847502358892 0.0057603878441981485\n",
      "\n",
      "dataset1/s_0_25/conf5\n",
      "cutFractions: 0.25  Yukawa: 0.2\n"
     ]
    },
    {
     "name": "stderr",
     "output_type": "stream",
     "text": [
      "100%|██████████| 9950/9950 [00:00<00:00, 57510.22it/s]\n",
      "100%|██████████| 9950/9950 [00:00<00:00, 56989.23it/s]\n",
      "100%|██████████| 9950/9950 [00:00<00:00, 58944.29it/s]\n"
     ]
    },
    {
     "name": "stdout",
     "output_type": "stream",
     "text": [
      "0.25 0.2 0.24403717575531764 0.0012191125871669937\n",
      "\n",
      "dataset1/s_0_25/conf6\n",
      "cutFractions: 0.25  Yukawa: 1.0\n"
     ]
    },
    {
     "name": "stderr",
     "output_type": "stream",
     "text": [
      "100%|██████████| 9949/9949 [00:00<00:00, 57359.31it/s]\n",
      "100%|██████████| 9949/9949 [00:00<00:00, 57045.90it/s]\n",
      "100%|██████████| 9949/9949 [00:00<00:00, 63717.55it/s]\n"
     ]
    },
    {
     "name": "stdout",
     "output_type": "stream",
     "text": [
      "0.25 1.0 0.9586032445142111 6.440990104693364e-14\n",
      "\n",
      "dataset1/s_0_25/conf7\n",
      "cutFractions: 0.25  Yukawa: 2.0\n"
     ]
    },
    {
     "name": "stderr",
     "output_type": "stream",
     "text": [
      "100%|██████████| 9950/9950 [00:00<00:00, 57054.67it/s]\n",
      "100%|██████████| 9950/9950 [00:00<00:00, 57910.43it/s]\n",
      "100%|██████████| 9950/9950 [00:00<00:00, 63578.81it/s]\n"
     ]
    },
    {
     "name": "stdout",
     "output_type": "stream",
     "text": [
      "0.25 2.0 0 0\n",
      "\n",
      "dataset1/s_0_25/conf8\n",
      "cutFractions: 0.25  Yukawa: 10.0\n"
     ]
    },
    {
     "name": "stderr",
     "output_type": "stream",
     "text": [
      "100%|██████████| 9948/9948 [00:00<00:00, 57132.25it/s]\n",
      "100%|██████████| 9948/9948 [00:00<00:00, 63453.90it/s]\n",
      "100%|██████████| 9948/9948 [00:00<00:00, 63574.36it/s]\n"
     ]
    },
    {
     "name": "stdout",
     "output_type": "stream",
     "text": [
      "0.25 10.0 0 0\n",
      "\n",
      "dataset1/s_0_25/conf9\n",
      "cutFractions: 0.25  Yukawa: 20.0\n"
     ]
    },
    {
     "name": "stderr",
     "output_type": "stream",
     "text": [
      "100%|██████████| 9946/9946 [00:00<00:00, 64361.79it/s]\n",
      "100%|██████████| 9946/9946 [00:00<00:00, 63337.50it/s]\n",
      "100%|██████████| 9946/9946 [00:00<00:00, 64479.28it/s]\n"
     ]
    },
    {
     "name": "stdout",
     "output_type": "stream",
     "text": [
      "0.25 20.0 0 0\n",
      "\n",
      "dataset1/s_0_25/conf10\n",
      "cutFractions: 0.25  Yukawa: 100.0\n"
     ]
    },
    {
     "name": "stderr",
     "output_type": "stream",
     "text": [
      "100%|██████████| 9949/9949 [00:00<00:00, 62166.49it/s]\n",
      "100%|██████████| 9949/9949 [00:00<00:00, 60479.10it/s]\n",
      "100%|██████████| 9949/9949 [00:00<00:00, 57041.06it/s]\n"
     ]
    },
    {
     "name": "stdout",
     "output_type": "stream",
     "text": [
      "0.25 100.0 0 0\n",
      "\n",
      "dataset1/s_0_5/conf1\n",
      "cutFractions: 0.5  Yukawa: 1e-05\n"
     ]
    },
    {
     "name": "stderr",
     "output_type": "stream",
     "text": [
      "100%|██████████| 9949/9949 [00:00<00:00, 65189.54it/s]\n",
      "100%|██████████| 9949/9949 [00:00<00:00, 64260.15it/s]\n",
      "100%|██████████| 9949/9949 [00:00<00:00, 62304.04it/s]\n"
     ]
    },
    {
     "name": "stdout",
     "output_type": "stream",
     "text": [
      "0.5 1e-05 0.18232114529698387 0.1797678886609421\n",
      "\n",
      "dataset1/s_0_5/conf2\n",
      "cutFractions: 0.5  Yukawa: 0.01\n"
     ]
    },
    {
     "name": "stderr",
     "output_type": "stream",
     "text": [
      "100%|██████████| 9949/9949 [00:00<00:00, 56476.27it/s]\n",
      "100%|██████████| 9949/9949 [00:00<00:00, 62304.04it/s]\n",
      "100%|██████████| 9949/9949 [00:00<00:00, 63181.73it/s]\n"
     ]
    },
    {
     "name": "stdout",
     "output_type": "stream",
     "text": [
      "0.5 0.01 0.1824922002629946 0.17924243167749815\n",
      "\n",
      "dataset1/s_0_5/conf3\n",
      "cutFractions: 0.5  Yukawa: 0.1\n"
     ]
    },
    {
     "name": "stderr",
     "output_type": "stream",
     "text": [
      "100%|██████████| 9949/9949 [00:00<00:00, 62218.39it/s]\n",
      "100%|██████████| 9949/9949 [00:00<00:00, 63921.34it/s]\n",
      "100%|██████████| 9949/9949 [00:00<00:00, 63983.68it/s]\n"
     ]
    },
    {
     "name": "stdout",
     "output_type": "stream",
     "text": [
      "0.5 0.1 0.20066845348924509 0.13116576718812797\n",
      "\n",
      "dataset1/s_0_5/conf4\n",
      "cutFractions: 0.5  Yukawa: 1.0\n"
     ]
    },
    {
     "name": "stderr",
     "output_type": "stream",
     "text": [
      "100%|██████████| 9948/9948 [00:00<00:00, 62773.53it/s]\n",
      "100%|██████████| 9948/9948 [00:00<00:00, 57696.00it/s]\n",
      "100%|██████████| 9948/9948 [00:00<00:00, 59144.12it/s]\n"
     ]
    },
    {
     "name": "stdout",
     "output_type": "stream",
     "text": [
      "0.5 1.0 0.988435309709675 1.8886597885455568e-07\n",
      "\n",
      "dataset1/s_0_5/conf5\n",
      "cutFractions: 0.5  Yukawa: 10.0\n"
     ]
    },
    {
     "name": "stderr",
     "output_type": "stream",
     "text": [
      "100%|██████████| 9952/9952 [00:00<00:00, 62188.57it/s]\n",
      "100%|██████████| 9952/9952 [00:00<00:00, 64100.86it/s]\n",
      "100%|██████████| 9952/9952 [00:00<00:00, 64866.99it/s]\n"
     ]
    },
    {
     "name": "stdout",
     "output_type": "stream",
     "text": [
      "0.5 10.0 0 0\n",
      "\n",
      "dataset1/s_0_5/conf6\n",
      "cutFractions: 0.5  Yukawa: 0.02\n"
     ]
    },
    {
     "name": "stderr",
     "output_type": "stream",
     "text": [
      "100%|██████████| 9950/9950 [00:00<00:00, 62772.74it/s]\n",
      "100%|██████████| 9950/9950 [00:00<00:00, 65455.72it/s]\n",
      "100%|██████████| 9950/9950 [00:00<00:00, 65217.39it/s]\n"
     ]
    },
    {
     "name": "stdout",
     "output_type": "stream",
     "text": [
      "0.5 0.02 0.183023781246084 0.17761229391224417\n",
      "\n",
      "dataset1/s_0_5/conf7\n",
      "cutFractions: 0.5  Yukawa: 0.2\n"
     ]
    },
    {
     "name": "stderr",
     "output_type": "stream",
     "text": [
      "100%|██████████| 9949/9949 [00:00<00:00, 63644.76it/s]\n",
      "100%|██████████| 9949/9949 [00:00<00:00, 64437.88it/s]\n",
      "100%|██████████| 9949/9949 [00:00<00:00, 64904.42it/s]\n"
     ]
    },
    {
     "name": "stdout",
     "output_type": "stream",
     "text": [
      "0.5 0.2 0.25309929890079635 0.05326190724162104\n",
      "\n",
      "dataset1/s_0_5/conf8\n",
      "cutFractions: 0.5  Yukawa: 2.0\n"
     ]
    },
    {
     "name": "stderr",
     "output_type": "stream",
     "text": [
      "100%|██████████| 9948/9948 [00:00<00:00, 63354.08it/s]\n",
      "100%|██████████| 9948/9948 [00:00<00:00, 65367.01it/s]\n",
      "100%|██████████| 9948/9948 [00:00<00:00, 64854.32it/s]\n"
     ]
    },
    {
     "name": "stdout",
     "output_type": "stream",
     "text": [
      "0.5 2.0 1.5955757481193944 6.14737849434649e-12\n",
      "\n",
      "dataset1/s_0_5/conf9\n",
      "cutFractions: 0.5  Yukawa: 20.0\n"
     ]
    },
    {
     "name": "stderr",
     "output_type": "stream",
     "text": [
      "100%|██████████| 9949/9949 [00:00<00:00, 63719.88it/s]\n",
      "100%|██████████| 9949/9949 [00:00<00:00, 63959.85it/s]\n",
      "100%|██████████| 9949/9949 [00:00<00:00, 64234.73it/s]\n"
     ]
    },
    {
     "name": "stdout",
     "output_type": "stream",
     "text": [
      "0.5 20.0 0 0\n",
      "\n",
      "dataset1/s_0_5/conf10\n",
      "cutFractions: 0.5  Yukawa: 100.0\n"
     ]
    },
    {
     "name": "stderr",
     "output_type": "stream",
     "text": [
      "100%|██████████| 9951/9951 [00:00<00:00, 64164.58it/s]\n",
      "100%|██████████| 9951/9951 [00:00<00:00, 64783.46it/s]\n",
      "100%|██████████| 9951/9951 [00:00<00:00, 64053.50it/s]\n"
     ]
    },
    {
     "name": "stdout",
     "output_type": "stream",
     "text": [
      "0.5 100.0 -0.0001980097375419668 -0.0020101100444788827\n",
      "\n",
      "dataset1/s_1_0/conf1\n",
      "cutFractions: 1.0  Yukawa: 1e-05\n"
     ]
    },
    {
     "name": "stderr",
     "output_type": "stream",
     "text": [
      "100%|██████████| 9949/9949 [00:00<00:00, 59604.44it/s]\n",
      "100%|██████████| 9949/9949 [00:00<00:00, 64203.80it/s]\n",
      "100%|██████████| 9949/9949 [00:00<00:00, 64018.52it/s]\n"
     ]
    },
    {
     "name": "stdout",
     "output_type": "stream",
     "text": [
      "1.0 1e-05 0.18232309093930493 0.7354404126932114\n",
      "\n",
      "dataset1/s_1_0/conf2\n",
      "cutFractions: 1.0  Yukawa: 0.01\n"
     ]
    },
    {
     "name": "stderr",
     "output_type": "stream",
     "text": [
      "100%|██████████| 9949/9949 [00:00<00:00, 63225.09it/s]\n",
      "100%|██████████| 9949/9949 [00:00<00:00, 63658.54it/s]\n",
      "100%|██████████| 9949/9949 [00:00<00:00, 64943.21it/s]\n"
     ]
    },
    {
     "name": "stdout",
     "output_type": "stream",
     "text": [
      "1.0 0.01 0.18261041144221535 0.733656937163666\n",
      "\n",
      "dataset1/s_1_0/conf3\n",
      "cutFractions: 1.0  Yukawa: 0.1\n"
     ]
    },
    {
     "name": "stderr",
     "output_type": "stream",
     "text": [
      "100%|██████████| 9950/9950 [00:00<00:00, 64813.46it/s]\n",
      "100%|██████████| 9950/9950 [00:00<00:00, 65648.27it/s]\n",
      "100%|██████████| 9950/9950 [00:00<00:00, 64678.46it/s]\n"
     ]
    },
    {
     "name": "stdout",
     "output_type": "stream",
     "text": [
      "1.0 0.1 0.20299510241820506 0.6184087924028787\n",
      "\n",
      "dataset1/s_1_0/conf4\n",
      "cutFractions: 1.0  Yukawa: 1.0\n"
     ]
    },
    {
     "name": "stderr",
     "output_type": "stream",
     "text": [
      "100%|██████████| 9951/9951 [00:00<00:00, 64057.04it/s]\n",
      "100%|██████████| 9951/9951 [00:00<00:00, 64871.66it/s]\n",
      "100%|██████████| 9951/9951 [00:00<00:00, 63355.78it/s]\n"
     ]
    },
    {
     "name": "stdout",
     "output_type": "stream",
     "text": [
      "1.0 1.0 1.0216475371020806 0.00039511485617187516\n",
      "\n",
      "dataset1/s_1_0/conf5\n",
      "cutFractions: 1.0  Yukawa: 10.0\n"
     ]
    },
    {
     "name": "stderr",
     "output_type": "stream",
     "text": [
      "100%|██████████| 9950/9950 [00:00<00:00, 64421.77it/s]\n",
      "100%|██████████| 9950/9950 [00:00<00:00, 65556.49it/s]\n",
      "100%|██████████| 9950/9950 [00:00<00:00, 65115.53it/s]\n"
     ]
    },
    {
     "name": "stdout",
     "output_type": "stream",
     "text": [
      "1.0 10.0 0 0\n",
      "\n",
      "dataset1/s_1_0/conf6\n",
      "cutFractions: 1.0  Yukawa: 0.02\n"
     ]
    },
    {
     "name": "stderr",
     "output_type": "stream",
     "text": [
      "100%|██████████| 9949/9949 [00:00<00:00, 60581.22it/s]\n",
      "100%|██████████| 9949/9949 [00:00<00:00, 65995.99it/s]\n",
      "100%|██████████| 9949/9949 [00:00<00:00, 64894.63it/s]\n"
     ]
    },
    {
     "name": "stdout",
     "output_type": "stream",
     "text": [
      "1.0 0.02 0.18325792813920969 0.7297563577187429\n",
      "\n",
      "dataset1/s_1_0/conf7\n",
      "cutFractions: 1.0  Yukawa: 0.2\n"
     ]
    },
    {
     "name": "stderr",
     "output_type": "stream",
     "text": [
      "100%|██████████| 9951/9951 [00:00<00:00, 63689.90it/s]\n",
      "100%|██████████| 9951/9951 [00:00<00:00, 63667.84it/s]\n",
      "100%|██████████| 9951/9951 [00:00<00:00, 63693.30it/s]\n"
     ]
    },
    {
     "name": "stdout",
     "output_type": "stream",
     "text": [
      "1.0 0.2 0.2602518756447944 0.37627861777538546\n",
      "\n",
      "dataset1/s_1_0/conf8\n",
      "cutFractions: 1.0  Yukawa: 2.0\n"
     ]
    },
    {
     "name": "stderr",
     "output_type": "stream",
     "text": [
      "100%|██████████| 9952/9952 [00:00<00:00, 64654.49it/s]\n",
      "100%|██████████| 9952/9952 [00:00<00:00, 63723.43it/s]\n",
      "100%|██████████| 9952/9952 [00:00<00:00, 65404.25it/s]\n"
     ]
    },
    {
     "name": "stdout",
     "output_type": "stream",
     "text": [
      "1.0 2.0 1.6348331298152459 1.5881787934229e-06\n",
      "\n",
      "dataset1/s_1_0/conf9\n",
      "cutFractions: 1.0  Yukawa: 20.0\n"
     ]
    },
    {
     "name": "stderr",
     "output_type": "stream",
     "text": [
      "100%|██████████| 9950/9950 [00:00<00:00, 65695.39it/s]\n",
      "100%|██████████| 9950/9950 [00:00<00:00, 64726.51it/s]\n",
      "100%|██████████| 9950/9950 [00:00<00:00, 63110.68it/s]\n"
     ]
    },
    {
     "name": "stdout",
     "output_type": "stream",
     "text": [
      "1.0 20.0 0 0\n",
      "\n",
      "dataset1/s_1_0/conf10\n",
      "cutFractions: 1.0  Yukawa: 100.0\n"
     ]
    },
    {
     "name": "stderr",
     "output_type": "stream",
     "text": [
      "100%|██████████| 9953/9953 [00:00<00:00, 61862.56it/s]\n",
      "100%|██████████| 9953/9953 [00:00<00:00, 64955.27it/s]\n",
      "100%|██████████| 9953/9953 [00:00<00:00, 65365.35it/s]"
     ]
    },
    {
     "name": "stdout",
     "output_type": "stream",
     "text": [
      "1.0 100.0 0 0\n",
      "\n"
     ]
    },
    {
     "name": "stderr",
     "output_type": "stream",
     "text": [
      "\n"
     ]
    }
   ],
   "source": [
    "phi = {}\n",
    "cond = {}\n",
    "absphi = {}\n",
    "chi2 = {}\n",
    "mr = {}\n",
    "mqphys = {}\n",
    "cutoffs = []\n",
    "\n",
    "for f in folders:\n",
    "    print(f)\n",
    "    params = toml.load(\"data/\" + f + \"/input.toml\") # read toml file with parameters\n",
    "\n",
    "    s = str(params['physics']['cutFraction']) # read cutoff\n",
    "    # if cutoff is not already in the list, add it and create the corresponding data arrays\n",
    "    if not (float(s) in cutoffs):\n",
    "        cutoffs.append(float(s))\n",
    "        phi[s] = []\n",
    "        cond[s] = []\n",
    "        chi2[s] = []\n",
    "        mr[s] = []\n",
    "        mqphys[s] = []\n",
    "\n",
    "    Nt = int(Nt0 / float(s))\n",
    "    Nx = int(Nx0 / float(s))\n",
    "    volume = (Nt, Nx)\n",
    "    \n",
    "    g = float(params['fermions']['yukawa_coupling']) # read yukawa coupling\n",
    "    if g == 0:\n",
    "        g = 1e-5\n",
    "    \n",
    "    print(\"cutFractions:\", s, \" Yukawa:\", g)\n",
    "\n",
    "    data = read_csv(\"data/\" + f + \"/traces.csv\") # read file with magnetisation, condensate, ...\n",
    "\n",
    "    # Get bosonic time slices computed in main.cu\n",
    "    S_t = get_time_slices_from_timeslicefile(\"data/\" + f + \"/slice.dat\", field_axis=0, return_all=False)\n",
    "    # Get fermionic time slices computed in main.cu\n",
    "    data_Sq_t = read_csv(\"data/\" + f + \"/data.csv\")\n",
    "    Sq_t = data_Sq_t['corr'].to_numpy(np.dtype('f8')).reshape((-1, Nt))\n",
    "\n",
    "    # magnetisation\n",
    "    val, err = get_mag(data['sigma'].to_numpy())\n",
    "    phi[s].append((val, err, g))\n",
    "    # condensate\n",
    "    val, err = get_mag(data['tr'].to_numpy())\n",
    "    cond[s].append((val, err, g))\n",
    "    # susceptibility\n",
    "    val, err = get_chi2(data['sigma'].to_numpy())\n",
    "    chi2[s].append((val, err, g))\n",
    "    # renormalised bosonic mass\n",
    "    val, err = get_ren_mass_right_via_timeslices(S_t,volume)\n",
    "    mr[s].append((val, err, g))\n",
    "    # physical quark mass\n",
    "    val, err = get_phys_quark_mass_via_timeslices(Sq_t,volume)\n",
    "    print(s, g, val, err)\n",
    "    mqphys[s].append((val, err, g))\n",
    "    \n",
    "    print()\n",
    "\n",
    "for k in phi.keys():\n",
    "    phi[k] = sorted(phi[k], key=lambda x: x[2])\n",
    "    cond[k] = sorted(cond[k], key=lambda x: x[2])\n",
    "    chi2[k] = sorted(chi2[k], key=lambda x: x[2])\n",
    "    mr[k] = sorted(mr[k], key=lambda x: x[2])\n",
    "    mqphys[k] = sorted(mqphys[k], key=lambda x: x[2])"
   ]
  },
  {
   "cell_type": "code",
   "execution_count": 95,
   "id": "48a8dd3e-1536-4629-b724-fa288065ef29",
   "metadata": {},
   "outputs": [
    {
     "data": {
      "text/plain": [
       "'IMPORTANT: should I use the one for large t, small t or the whole? \\ntmp_ren = []\\ntmp_large_t = []\\ntmp_small_t = []\\n\\nS_t = get_time_slices_from_timeslicefile(\"data/sim1/slice.dat\")\\ntmp_ren = get_ren_mass_right_via_timeslices(S_t,volume)\\ntmp_large_ = get_masses_from_large_t(S_t, volume, [0,0,0,0],inc_in_fit=3, with_plot = False)\\ntmp_small_t = get_masses_from_small_t(S_t, volume, [0,0,0,0],inc_in_fit=3, with_plot = False)\\n\\nren_masses = tmp_ren\\nprint(\"ren mass:\", val, err)'"
      ]
     },
     "execution_count": 95,
     "metadata": {},
     "output_type": "execute_result"
    }
   ],
   "source": [
    "'''IMPORTANT: should I use the one for large t, small t or the whole? \n",
    "tmp_ren = []\n",
    "tmp_large_t = []\n",
    "tmp_small_t = []\n",
    "\n",
    "S_t = get_time_slices_from_timeslicefile(\"data/sim1/slice.dat\")\n",
    "tmp_ren = get_ren_mass_right_via_timeslices(S_t,volume)\n",
    "tmp_large_ = get_masses_from_large_t(S_t, volume, [0,0,0,0],inc_in_fit=3, with_plot = False)\n",
    "tmp_small_t = get_masses_from_small_t(S_t, volume, [0,0,0,0],inc_in_fit=3, with_plot = False)\n",
    "\n",
    "ren_masses = tmp_ren\n",
    "print(\"ren mass:\", val, err)'''"
   ]
  },
  {
   "cell_type": "markdown",
   "id": "3a286e66-ea51-4d32-86e9-6b81f04e1f08",
   "metadata": {},
   "source": [
    "# Plot Stuff"
   ]
  },
  {
   "cell_type": "markdown",
   "id": "8458366e-8551-403c-bc31-1a8f82b02919",
   "metadata": {},
   "source": [
    "### Plot of the magnetization"
   ]
  },
  {
   "cell_type": "code",
   "execution_count": 109,
   "id": "8e618612-80b6-4ef0-82fe-a9ce63b2f40d",
   "metadata": {},
   "outputs": [
    {
     "data": {
      "image/png": "[encoded data removed]",
      "text/plain": [
       "<Figure size 432x288 with 1 Axes>"
      ]
     },
     "metadata": {
      "needs_background": "light"
     },
     "output_type": "display_data"
    }
   ],
   "source": [
    "for k in phi.keys():\n",
    "    plt.errorbar([v[2] for v in phi[k]], [v[0] for v in phi[k]], [v[1] for v in phi[k]], fmt='o--', label='s = ' + str(k))\n",
    "\n",
    "plt.legend(fontsize=12)\n",
    "plt.xscale('log')\n",
    "plt.xlabel('yukawa', fontsize=16)\n",
    "plt.ylabel(r'$\\left\\langle \\phi \\right\\rangle$', fontsize=16)\n",
    "plt.tight_layout()\n",
    "plt.show()"
   ]
  },
  {
   "cell_type": "markdown",
   "id": "f033110d-ccab-470c-b762-db8fdb5fffd3",
   "metadata": {},
   "source": [
    "### Plot of the magnetic susceptibility"
   ]
  },
  {
   "cell_type": "code",
   "execution_count": 110,
   "id": "bc634950-5c1f-4809-a21b-ae81c0781369",
   "metadata": {},
   "outputs": [
    {
     "data": {
      "image/png": "[encoded data removed]",
      "text/plain": [
       "<Figure size 432x288 with 1 Axes>"
      ]
     },
     "metadata": {
      "needs_background": "light"
     },
     "output_type": "display_data"
    }
   ],
   "source": [
    "for k in chi2.keys():\n",
    "    plt.errorbar([v[2] for v in chi2[k]], [v[0] for v in chi2[k]], [v[1] for v in chi2[k]], fmt='o--', label='s = ' + str(k))\n",
    "\n",
    "plt.legend(fontsize=12)\n",
    "plt.xscale('log')\n",
    "plt.xlabel('yukawa', fontsize=16)\n",
    "plt.ylabel(r'$\\chi^2$', fontsize=16)\n",
    "plt.tight_layout()\n",
    "plt.show()"
   ]
  },
  {
   "cell_type": "markdown",
   "id": "911c8224-6a02-4bcb-b89a-9a0027684e68",
   "metadata": {},
   "source": [
    "### Plot of the condensate"
   ]
  },
  {
   "cell_type": "code",
   "execution_count": 80,
   "id": "836f9b36-bae4-48af-9121-97373f71a1cd",
   "metadata": {},
   "outputs": [
    {
     "data": {
      "image/png": "[encoded data removed]",
      "text/plain": [
       "<Figure size 432x288 with 1 Axes>"
      ]
     },
     "metadata": {
      "needs_background": "light"
     },
     "output_type": "display_data"
    }
   ],
   "source": [
    "for k in cond.keys():\n",
    "    Nx = Nx0/float(k)\n",
    "    plt.errorbar([v[2] for v in cond[k]], [Nx*Nx*v[0] for v in cond[k]], [Nx*Nx*v[1] for v in cond[k]], fmt='o--', label='s = ' + str(k))\n",
    "\n",
    "plt.legend(fontsize=12)\n",
    "plt.xscale('log')\n",
    "plt.xlabel('yukawa', fontsize=16)\n",
    "plt.ylabel(r'$N_x^2 \\, \\left\\langle \\bar \\psi \\psi \\right\\rangle$', fontsize=16)\n",
    "plt.tight_layout()\n",
    "plt.show()"
   ]
  },
  {
   "cell_type": "markdown",
   "id": "94fff7ff-2246-43df-84fe-1888c48716d7",
   "metadata": {},
   "source": [
    "### Plot of the physical quark mass"
   ]
  },
  {
   "cell_type": "code",
   "execution_count": 81,
   "id": "d7adea67-a884-4020-9c93-447d1e4d55f6",
   "metadata": {},
   "outputs": [
    {
     "data": {
      "image/png": "[encoded data removed]",
      "text/plain": [
       "<Figure size 432x288 with 1 Axes>"
      ]
     },
     "metadata": {
      "needs_background": "light"
     },
     "output_type": "display_data"
    }
   ],
   "source": [
    "for k in mr.keys():\n",
    "    Nx = Nx0/float(k)\n",
    "    plt.errorbar([v[2] for v in mqphys[k]], [v[0] for v in mqphys[k]], [0 for _ in range(len(mqphys[k]))], fmt='o--', label='s = ' + str(k))\n",
    "\n",
    "plt.legend(fontsize=12)\n",
    "plt.xscale('log')\n",
    "plt.xlabel('yukawa', fontsize=16)\n",
    "plt.ylabel(r'$m^q_{phys}$', fontsize=16)\n",
    "plt.tight_layout()\n",
    "plt.show()"
   ]
  },
  {
   "cell_type": "markdown",
   "id": "96d97e95-9dda-4793-8032-b3fd1301de97",
   "metadata": {},
   "source": [
    "### Plot of the bosonic renormalised mass"
   ]
  },
  {
   "cell_type": "code",
   "execution_count": 84,
   "id": "19117de8-6543-46c1-a5d1-5d7f43b7d2d6",
   "metadata": {
    "scrolled": true
   },
   "outputs": [
    {
     "data": {
      "image/png": "[encoded data removed]",
      "text/plain": [
       "<Figure size 432x288 with 1 Axes>"
      ]
     },
     "metadata": {
      "needs_background": "light"
     },
     "output_type": "display_data"
    }
   ],
   "source": [
    "for k in mr.keys():\n",
    "    Nx = Nx0/float(k)\n",
    "    plt.errorbar([v[2] for v in mr[k]], [Nx*v[0] for v in mr[k]], [Nx*v[1] for v in mr[k]], fmt='o--', label='s = ' + str(k))\n",
    "\n",
    "plt.legend(fontsize=12)\n",
    "plt.xscale('log')\n",
    "plt.xlabel('yukawa', fontsize=16)\n",
    "plt.ylabel(r'$N_x \\, m^\\phi_r$', fontsize=16)\n",
    "plt.tight_layout()\n",
    "plt.show()"
   ]
  },
  {
   "cell_type": "markdown",
   "id": "lucky-bailey",
   "metadata": {},
   "source": [
    "# Physical quark mass"
   ]
  },
  {
   "cell_type": "code",
   "execution_count": 56,
   "id": "worse-tissue",
   "metadata": {},
   "outputs": [
    {
     "name": "stdout",
     "output_type": "stream",
     "text": [
      "s: 1.0  g: 0.0\n",
      "Number of data points: 9951\n",
      "Nt: 16\n",
      "Mass = 0.18232309093929663\n"
     ]
    }
   ],
   "source": [
    "from scipy.optimize import curve_fit as fit\n",
    "\n",
    "####################################################\n",
    "data_folder = \"dataset2/s_1_0/conf1\"\n",
    "Nt = 16\n",
    "plot = True\n",
    "####################################################\n",
    "\n",
    "def fitfuncSinh(x, m_re, A):\n",
    "    return A * np.sinh(m_re*(Nt/2-x))\n",
    "\n",
    "def fitToSinh(ydata, startidx, endidx, plot=False):\n",
    "    yvals = ydata[startidx:endidx]\n",
    "    xvals = np.array(range(startidx, endidx))\n",
    "\n",
    "    fitparams = fit(fitfuncSinh, xvals, yvals, p0=[1e-2, 0])\n",
    "    #print(\"Mass: \", abs(fitparams[0][0]))\n",
    "        \n",
    "    return fitparams[0]\n",
    "\n",
    "params = toml.load(\"data/\" + data_folder + \"/input.toml\") # read toml file with parameters\n",
    "s = params['physics']['cutFraction'] # read cutoff\n",
    "g = params['fermions']['yukawa_coupling']\n",
    "\n",
    "data = read_csv(\"data/\" + data_folder + \"/data.csv\")\n",
    "timeslices = data['corr'].to_numpy(np.dtype('f8')).reshape((-1, Nt))\n",
    "\n",
    "corr = np.average(timeslices, axis=0)\n",
    "\n",
    "fitparams = fitToSinh(corr, 1, Nt, plot)\n",
    "\n",
    "print(\"s:\", s, \" g:\", g)\n",
    "print(\"Number of data points:\", timeslices.shape[0])\n",
    "print(\"Nt:\", Nt)\n",
    "print(\"Mass =\", fitparams[0])"
   ]
  },
  {
   "cell_type": "code",
   "execution_count": null,
   "id": "a3088e35-2246-4cc9-837b-2baa3d239773",
   "metadata": {},
   "outputs": [],
   "source": [
    "plt.plot(range(1, Nt), corr[1:Nt])\n",
    "plt.xlabel(r'$N_t$')\n",
    "plt.title(\"Correlator\")\n",
    "plt.tight_layout()\n",
    "plt.savefig(\"mass.pdf\")\n",
    "plt.show()"
   ]
  },
  {
   "cell_type": "code",
   "execution_count": null,
   "id": "a52c131a-d7e0-41b8-9993-4491423b4204",
   "metadata": {},
   "outputs": [],
   "source": [
    "plt.plot(range(1, Nt), corr[1:Nt], label=\"data\")\n",
    "xvals = np.linspace(0, Nt, 1000)\n",
    "plt.plot(xvals, fitfuncSinh(xvals, fitparams[0], fitparams[1]), label='fit')\n",
    "plt.legend()\n",
    "plt.xlabel(r'$N_t$')\n",
    "plt.title(\"Correlator\")\n",
    "plt.tight_layout()\n",
    "plt.savefig(\"mass.pdf\")\n",
    "plt.show()"
   ]
  },
  {
   "cell_type": "markdown",
   "id": "residential-giving",
   "metadata": {},
   "source": [
    "Compute expected mass from background fields"
   ]
  },
  {
   "cell_type": "code",
   "execution_count": null,
   "id": "2aa8bf4a-b383-4b47-81ad-38513d1ce853",
   "metadata": {},
   "outputs": [],
   "source": [
    "def expectedM(m0, g, sigma, pi):\n",
    "    r2 = sigma**2 + pi[0]**2 + pi[1]**2 + pi[2]**2\n",
    "    denom = 2*(g*sigma + m0 + 1)\n",
    "    sqrroot = np.sqrt((g**2*r2 + 2*m0*(g*sigma + 1) + 2*g*sigma + m0**2 + 2)**2 - 4*(g*sigma+m0+1)**2)\n",
    "    num = -sqrroot + g**2*r2 + 2*g*m0*sigma + 2*g*sigma + m0**2 + 2*m0 + 2\n",
    "    return -np.log(num/denom)\n",
    "\n",
    "mq0 = 0.2\n",
    "yukawa_coupling = 0.1\n",
    "sigma = 0.16\n",
    "pi = [0, 0, 0]\n",
    "\n",
    "print(\"Expected mass with phi =\", np.concatenate(([sigma], pi)), \":\", expectedM(mq0, yukawa_coupling, sigma, pi))"
   ]
  },
  {
   "cell_type": "markdown",
   "id": "6df606df-db92-4183-95f3-fabac59f8dec",
   "metadata": {},
   "source": [
    "# Renormalised boson mass"
   ]
  },
  {
   "cell_type": "code",
   "execution_count": null,
   "id": "210fa0da-2ff9-46ff-a90a-edeb3d5c48e7",
   "metadata": {},
   "outputs": [],
   "source": [
    "from correlations import *\n",
    "from read_in_data import *\n",
    "from mass_fit import *"
   ]
  },
  {
   "cell_type": "code",
   "execution_count": null,
   "id": "057744d2-0f84-43a0-97ad-09537cd0373a",
   "metadata": {},
   "outputs": [],
   "source": [
    "####################################################\n",
    "f = \"dataset1/s_1_0/conf1\"\n",
    "Nt = 16\n",
    "Nx = 16\n",
    "####################################################\n",
    "volume = (Nt, Nx)"
   ]
  },
  {
   "cell_type": "code",
   "execution_count": null,
   "id": "d2833a9a-a272-4360-901b-7a21d87b368b",
   "metadata": {},
   "outputs": [],
   "source": [
    "S_t = get_time_slices_from_timeslicefile(\"data/\" + f + \"/slice.dat\", field_axis=0, return_all=False)\n",
    "val, err = get_phys_quark_mass_via_timeslices(S_t,volume)\n",
    "print(\"mr:\", val, err)"
   ]
  },
  {
   "cell_type": "markdown",
   "id": "719bc6fe-3b3d-48e2-b989-0e3222fe7540",
   "metadata": {},
   "source": [
    "# Mean Field equations of motion"
   ]
  },
  {
   "cell_type": "markdown",
   "id": "912f80ca-810e-4fbf-b82e-ce5a6d452700",
   "metadata": {},
   "source": [
    "Reset data arrays"
   ]
  },
  {
   "cell_type": "code",
   "execution_count": null,
   "id": "7a4d49ef-1f44-4a7e-a769-b653151262e3",
   "metadata": {},
   "outputs": [],
   "source": [
    "sigma_vals = []\n",
    "sigma_errs = []\n",
    "tr_vals = []\n",
    "tr_errs = []\n",
    "cutFractions = []"
   ]
  },
  {
   "cell_type": "code",
   "execution_count": 39,
   "id": "marine-southwest",
   "metadata": {},
   "outputs": [
    {
     "ename": "FileNotFoundError",
     "evalue": "[Errno 2] No such file or directory: 'data/s1'",
     "output_type": "error",
     "traceback": [
      "\u001b[0;31m---------------------------------------------------------------------------\u001b[0m",
      "\u001b[0;31mFileNotFoundError\u001b[0m                         Traceback (most recent call last)",
      "\u001b[0;32m<ipython-input-39-0f15e8c03f0b>\u001b[0m in \u001b[0;36m<module>\u001b[0;34m\u001b[0m\n\u001b[1;32m     13\u001b[0m     \u001b[0mdata\u001b[0m \u001b[0;34m=\u001b[0m \u001b[0;34m[\u001b[0m\u001b[0;34m]\u001b[0m \u001b[0;31m# each element will be a triple (s, sigma, err_sigma)\u001b[0m\u001b[0;34m\u001b[0m\u001b[0;34m\u001b[0m\u001b[0m\n\u001b[1;32m     14\u001b[0m     \u001b[0mdata_trace\u001b[0m \u001b[0;34m=\u001b[0m \u001b[0;34m[\u001b[0m\u001b[0;34m]\u001b[0m \u001b[0;31m# each element will be a triple (s, condensate, err_condensate)\u001b[0m\u001b[0;34m\u001b[0m\u001b[0;34m\u001b[0m\u001b[0m\n\u001b[0;32m---> 15\u001b[0;31m     \u001b[0;32mfor\u001b[0m \u001b[0mf\u001b[0m \u001b[0;32min\u001b[0m \u001b[0mos\u001b[0m\u001b[0;34m.\u001b[0m\u001b[0mlistdir\u001b[0m\u001b[0;34m(\u001b[0m\u001b[0mmypath\u001b[0m \u001b[0;34m+\u001b[0m \u001b[0mfold\u001b[0m\u001b[0;34m)\u001b[0m\u001b[0;34m:\u001b[0m\u001b[0;34m\u001b[0m\u001b[0;34m\u001b[0m\u001b[0m\n\u001b[0m\u001b[1;32m     16\u001b[0m \u001b[0;34m\u001b[0m\u001b[0m\n\u001b[1;32m     17\u001b[0m         \u001b[0mfull_path\u001b[0m \u001b[0;34m=\u001b[0m \u001b[0mmypath\u001b[0m \u001b[0;34m+\u001b[0m \u001b[0mfold\u001b[0m \u001b[0;34m+\u001b[0m \u001b[0;34m\"/\"\u001b[0m \u001b[0;34m+\u001b[0m \u001b[0mf\u001b[0m \u001b[0;34m+\u001b[0m \u001b[0;34m\"/\"\u001b[0m\u001b[0;34m\u001b[0m\u001b[0;34m\u001b[0m\u001b[0m\n",
      "\u001b[0;31mFileNotFoundError\u001b[0m: [Errno 2] No such file or directory: 'data/s1'"
     ]
    }
   ],
   "source": [
    "rcParams['text.usetex'] = True\n",
    "\n",
    "####################################################\n",
    "folders = [\"s1\"]\n",
    "mypath = \"data/\"\n",
    "plot_trace = True\n",
    "####################################################\n",
    "\n",
    "\n",
    "c = 0\n",
    "for fold in folders:\n",
    "    s = []\n",
    "    data = [] # each element will be a triple (s, sigma, err_sigma)\n",
    "    data_trace = [] # each element will be a triple (s, condensate, err_condensate)\n",
    "    for f in os.listdir(mypath + fold):\n",
    "        \n",
    "        full_path = mypath + fold + \"/\" + f + \"/\"   \n",
    "        \n",
    "        params = toml.load(full_path + \"/input.toml\")\n",
    "        s = float(params['physics']['cutFraction'])\n",
    "       \n",
    "        filedata = read_csv(full_path + \"traces.csv\")\n",
    "        N = len(filedata['sigma'])\n",
    "    \n",
    "        # vals\n",
    "        sigma = np.average(filedata['sigma'].to_numpy())\n",
    "        tr = np.average(filedata['tr'].to_numpy())\n",
    "        \n",
    "        print(\"s =\", s, \" <|sigma|> = \", sigma, \" <|psibar psi|> = \", tr)\n",
    "        \n",
    "        # errs\n",
    "        sigma_err = np.std(filedata['sigma'].to_numpy()) / np.sqrt(N-1)\n",
    "        tr_err = np.std(filedata['tr'].to_numpy()) / np.sqrt(N-1)\n",
    "                    \n",
    "        data.append((s, sigma, sigma_err))\n",
    "        data_trace.append((s, tr, tr_err))\n",
    "    \n",
    "    data = sorted(data, key=lambda x: x[0])\n",
    "    data_trace = sorted(data_trace, key=lambda x: x[0])\n",
    "                    \n",
    "    for el in data:\n",
    "        cutFractions.append(el[0])\n",
    "        sigma_vals.append(el[1])\n",
    "        sigma_errs.append(el[2])\n",
    "    \n",
    "    for el in data_trace:\n",
    "        tr_vals.append(el[1])\n",
    "        tr_errs.append(el[2])\n",
    "\n",
    "    plt.errorbar(cutFractions, sigma_vals, yerr=sigma_errs, fmt='o', color=colors[c])\n",
    "    if plot_trace:\n",
    "        plt.errorbar(cutFractions, [t/1 for t in tr_vals], yerr=[t/1 for t in tr_errs], fmt='o')\n",
    "\n",
    "    c += 1\n",
    "                    \n",
    "plt.show()\n",
    "\n"
   ]
  },
  {
   "cell_type": "code",
   "execution_count": null,
   "id": "decimal-accessory",
   "metadata": {},
   "outputs": [],
   "source": []
  },
  {
   "cell_type": "code",
   "execution_count": null,
   "id": "danish-brass",
   "metadata": {},
   "outputs": [],
   "source": []
  }
 ],
 "metadata": {
  "kernelspec": {
   "display_name": "Python 3",
   "language": "python",
   "name": "python3"
  },
  "language_info": {
   "codemirror_mode": {
    "name": "ipython",
    "version": 3
   },
   "file_extension": ".py",
   "mimetype": "text/x-python",
   "name": "python",
   "nbconvert_exporter": "python",
   "pygments_lexer": "ipython3",
   "version": "3.9.2"
  }
 },
 "nbformat": 4,
 "nbformat_minor": 5
}
