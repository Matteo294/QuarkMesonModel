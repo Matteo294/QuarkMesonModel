{
 "cells": [
  {
   "cell_type": "code",
   "execution_count": 89,
   "id": "resistant-television",
   "metadata": {},
   "outputs": [],
   "source": [
    "import numpy as np\n",
    "from matplotlib import pyplot as plt \n",
    "from pandas import read_csv\n",
    "import sys\n",
    "import os\n",
    "from matplotlib import rcParams\n",
    "import toml"
   ]
  },
  {
   "cell_type": "markdown",
   "id": "leading-columbia",
   "metadata": {},
   "source": [
    "# Rescaling plot"
   ]
  },
  {
   "cell_type": "code",
   "execution_count": 107,
   "id": "beautiful-alpha",
   "metadata": {},
   "outputs": [
    {
     "data": {
      "text/plain": [
       "['rescaling.py',\n",
       " 'condensate.py',\n",
       " 'data',\n",
       " 'plots',\n",
       " 'phi.pdf',\n",
       " 'mass.py',\n",
       " 'analysis.ipynb',\n",
       " '.ipynb_checkpoints',\n",
       " 'plot.py']"
      ]
     },
     "execution_count": 107,
     "metadata": {},
     "output_type": "execute_result"
    }
   ],
   "source": [
    "data_to_plot = []\n",
    "os.chdir(\"./analysis/\")\n",
    "os.listdir(\"./\")"
   ]
  },
  {
   "cell_type": "markdown",
   "id": "charitable-cross",
   "metadata": {},
   "source": [
    "Load data from selected folder"
   ]
  },
  {
   "cell_type": "code",
   "execution_count": 108,
   "id": "genuine-testing",
   "metadata": {},
   "outputs": [],
   "source": [
    "####################################################\n",
    "folders = [\"s_0.125_\", \"s_0.25_\", \"s_0.5_\", \"s_1.0_\"] \n",
    "param_to_plot = \"yukawa_coupling\"\n",
    "section_param_to_plot = \"fermions\"\n",
    "####################################################\n",
    "\n",
    "\n",
    "data = []\n",
    "\n",
    "for folder in folders:\n",
    "    \n",
    "    os.chdir(\"data/\" + folder)\n",
    "    \n",
    "    for config in sorted(os.listdir(\"./\")):\n",
    "        os.chdir(config)\n",
    "        params = toml.load(\"input.toml\")\n",
    "        s = float(params['physics']['cutFraction'])\n",
    "        plot_param = float(params[section_param_to_plot][param_to_plot])\n",
    "        if plot_param == 0.0:\n",
    "            plot_param = 1e-5\n",
    "        csv_data = read_csv(\"traces.csv\")\n",
    "        phi = csv_data['phi'].to_numpy()\n",
    "        #print(s, plot_param, np.average(phi))\n",
    "        N = len(phi)\n",
    "        data.append( (plot_param, s, np.average(phi), np.std(phi) / np.sqrt(N)) )\n",
    "        os.chdir(\"../\")\n",
    "        os.listdir(\"./\")\n",
    "\n",
    "        data = sorted(data, key = lambda x: x[0])\n",
    "\n",
    "    data_to_plot.append([data])\n",
    "    os.chdir(\"../../\")"
   ]
  },
  {
   "cell_type": "markdown",
   "id": "shared-tradition",
   "metadata": {},
   "source": [
    "Show plot"
   ]
  },
  {
   "cell_type": "code",
   "execution_count": 109,
   "id": "occupational-release",
   "metadata": {},
   "outputs": [
    {
     "data": {
      "image/png": "[encoded data removed]",
      "text/plain": [
       "<Figure size 432x288 with 1 Axes>"
      ]
     },
     "metadata": {
      "needs_background": "light"
     },
     "output_type": "display_data"
    }
   ],
   "source": [
    "for data in data_to_plot:\n",
    "    param = [d[0] for d in data[0]]\n",
    "    s = data[0][0][1]\n",
    "    val = [d[2] for d in data[0]]\n",
    "    err = [d[3] for d in data[0]]   \n",
    "    lab = \"s=\" + str(s)\n",
    "    plt.errorbar(param, val, err, fmt='o--', label=lab, linewidth=2.0, markersize=8)\n",
    "\n",
    "plt.xlabel(param_to_plot, fontsize=14)\n",
    "plt.ylabel(r\"$\\left\\langle |\\phi| \\right\\rangle$\", fontsize=14)\n",
    "plt.xscale('log')\n",
    "plt.legend(fontsize=12)\n",
    "plt.tight_layout()\n",
    "plt.savefig(\"phi.pdf\")\n",
    "plt.show()"
   ]
  },
  {
   "cell_type": "markdown",
   "id": "dutch-enforcement",
   "metadata": {},
   "source": [
    "# Mean Field equations of motion"
   ]
  },
  {
   "cell_type": "code",
   "execution_count": null,
   "id": "marine-southwest",
   "metadata": {},
   "outputs": [],
   "source": [
    "rcParams['text.usetex'] = True\n",
    "\n",
    "####################################################\n",
    "mypath = \"./data/\"\n",
    "####################################################\n",
    "\n",
    "onlyfiles = [f for f in listdir(mypath) if isfile(join(mypath, f))]\n",
    "\n",
    "sigma_vals = []\n",
    "sigma_errs = []\n",
    "tr_vals = []\n",
    "tr_errs = []\n",
    "\n",
    "pi_vals = [[] for _ in range(3)]\n",
    "pi_errs = [[] for _ in range(3)]\n",
    "trpi_vals = [[] for _ in range(3)]\n",
    "trpi_errs = [[] for _ in range(3)]\n",
    "\n",
    "s = []\n",
    "for f in onlyfiles:\n",
    "    cutoff_frac = float(f.split('_')[1])\n",
    "    s.append(cutoff_frac)\n",
    "print(s)\n",
    "    \n",
    "    \n",
    "mypath = \"./data/\"\n",
    "for cutoff_frac in sorted(s):\n",
    "    filename = mypath + \"traces_\" + str(cutoff_frac) + \"_.csv\"\n",
    "    \n",
    "    print(\"\\n Cutoff fraction:\", cutoff_frac)\n",
    "   \n",
    "    data = read_csv(filename)\n",
    "    #data = data.drop(labels=range(1,1000), axis=0)\n",
    "    N = len(data['sigma'])\n",
    "\n",
    "    # vals\n",
    "    sigma_vals.append(np.average(data['sigma'].to_numpy()))\n",
    "    pi_vals[0].append(np.average(data['pi1'].to_numpy()))\n",
    "    pi_vals[1].append(np.average(data['pi2'].to_numpy()))\n",
    "    pi_vals[2].append(np.average(data['pi3'].to_numpy()))\n",
    "    tr_vals.append(np.average(data['tr'].to_numpy()))\n",
    "    trpi_vals[0].append(np.average(data['trp1'].to_numpy()))\n",
    "    trpi_vals[1].append(np.average(data['trp2'].to_numpy()))\n",
    "    trpi_vals[2].append(np.average(data['trp3'].to_numpy()))\n",
    "    \n",
    "    print(\"sigma:\", np.average(data['sigma'].to_numpy()))\n",
    "    print(\"pions:\", np.average(data['pi1'].to_numpy()), np.average(data['pi2'].to_numpy()), np.average(data['pi3'].to_numpy()))\n",
    "    \n",
    "    # errs\n",
    "    sigma_errs.append(np.std(data['sigma'].to_numpy()) / np.sqrt(N-1))\n",
    "    pi_errs[0].append(np.std(data['pi1'].to_numpy()) / np.sqrt(N-1))\n",
    "    pi_errs[1].append(np.std(data['pi2'].to_numpy()) / np.sqrt(N-1))\n",
    "    pi_errs[2].append(np.std(data['pi3'].to_numpy()) / np.sqrt(N-1))\n",
    "    tr_errs.append(np.std(data['tr'].to_numpy()) / np.sqrt(N-1))\n",
    "    trpi_errs[0].append(np.std(data['trp1'].to_numpy()) / np.sqrt(N-1))\n",
    "    trpi_errs[1].append(np.std(data['trp2'].to_numpy()) / np.sqrt(N-1))\n",
    "    trpi_errs[2].append(np.std(data['trp3'].to_numpy()) / np.sqrt(N-1))\n",
    "\n",
    "    '''plt.plot(range(len(sigma_vals)), sigma_vals, label=r'$\\sigma$')\n",
    "    plt.xlabel(\"Langevin time\", fontsize=22)\n",
    "    plt.title(r\"$s=\\Lambda' / \\Lambda$ = \" + str(cutoff_frac), fontsize=22)\n",
    "    plt.tight_layout()\n",
    "    plt.savefig(\"plots/pi_evol/sigmaevol_\" + str(cutoff_frac) + \".pdf\")\n",
    "    plt.close()\n",
    "\n",
    "    plt.plot(range(len(pi_vals[0])), pi_vals[0], label=r'$\\pi_1$')\n",
    "    plt.plot(range(len(pi_vals[1])), pi_vals[1], label=r'$\\pi_2$')\n",
    "    plt.plot(range(len(pi_vals[2])), pi_vals[2], label=r'$\\pi_3$')\n",
    "    plt.xlabel(\"Langevin time\", fontsize=22)\n",
    "    plt.title(r\"$s=\\Lambda' / \\Lambda$ = \" + str(cutoff_frac), fontsize=22)\n",
    "    plt.tight_layout()\n",
    "    plt.savefig(\"plots/sigma_evol/pievol_\" + str(cutoff_frac) + \".pdf\")\n",
    "    plt.close()\n",
    "\n",
    "    pisq = [x*x + y*y + z*z for x, y, z in zip(data['pi1'], data['pi2'], data['pi3'])]\n",
    "    plt.plot(range(len(pisq)), pisq)\n",
    "    plt.xlabel(\"Langevin time\", fontsize=22)\n",
    "    plt.ylabel(r\"$|\\pi|^2$\", fontsize=18)\n",
    "    plt.title(r\"$s=\\Lambda' / \\Lambda$ = \" + str(cutoff_frac), fontsize=22)\n",
    "    plt.tight_layout()\n",
    "    plt.savefig(\"plots/pi2_evol/pi2_evol_\" + str(cutoff_frac) + \".pdf\")\n",
    "    plt.close()'''\n",
    "\n",
    "print(len(s), len(sigma_vals))\n",
    "\n"
   ]
  },
  {
   "cell_type": "markdown",
   "id": "lucky-bailey",
   "metadata": {},
   "source": [
    "# Mass fit\n",
    "### Fit exponential decay to get the mass"
   ]
  },
  {
   "cell_type": "markdown",
   "id": "challenging-champion",
   "metadata": {},
   "source": [
    "Load data"
   ]
  },
  {
   "cell_type": "code",
   "execution_count": null,
   "id": "worse-tissue",
   "metadata": {},
   "outputs": [],
   "source": [
    "from scipy.optimize import curve_fit as fit\n",
    "\n",
    "####################################################\n",
    "data_folder = \"\"\n",
    "Nt = \n",
    "####################################################\n",
    "\n",
    "def fitfuncSinh(x, m_re, A):\n",
    "    return A * np.sinh(m_re*(Nt/2-x))\n",
    "\n",
    "def fitToSinh(ydata, startidx, endidx, plot=False):\n",
    "    yvals = ydata[startidx:endidx]\n",
    "    xvals = np.array(range(startidx, endidx))\n",
    "\n",
    "    fitparams = fit(fitfuncSinh, xvals, yvals, p0=[1e-2, np.log(1+mq0+yukawa_coupling*sigma)])\n",
    "    #print(\"Mass: \", abs(fitparams[0][0]))\n",
    "        \n",
    "    return fitparams[0]\n",
    "    \n",
    "timeslices = data['corr'].to_numpy(np.dtype('f8')).reshape((-1, Nt))\n",
    "\n",
    "corr = np.average(timeslices, axis=0)\n",
    "\n",
    "fitparams = fitToSinh(corr, 1, Nt, plot)\n",
    "\n",
    "plt.plot(range(1, Nt), corr[1:Nt], label=\"data\")\n",
    "xvals = np.linspace(0, Nt, 1000)\n",
    "plt.plot(xvals, fitfuncSinh(xvals, fitparams[0], fitparams[1]), label='fit')\n",
    "plt.xlabel(r'$N_t$')\n",
    "plt.title(\"Correlator\")\n",
    "plt.tight_layout()\n",
    "plt.savefig(\"mass.pdf\")\n",
    "plt.show()\n",
    "\n",
    "print(\"Params: \")\n",
    "print(\"mq0:\", mq0)\n",
    "print(\"g:\", yukawa_coupling)\n",
    "print(\"Number of data points:\", timeslices.shape[0])\n",
    "print(\"Nt:\", timeslices.shape[1])\n",
    "print(\"Measured mass:\", fitparams[0])"
   ]
  },
  {
   "cell_type": "markdown",
   "id": "beneficial-energy",
   "metadata": {},
   "source": [
    "Sigma and condensate"
   ]
  },
  {
   "cell_type": "code",
   "execution_count": null,
   "id": "controlled-glass",
   "metadata": {},
   "outputs": [],
   "source": [
    "# Condensates plot\n",
    "plt.errorbar(sorted(s), np.abs(sigma_vals), fmt='.-', yerr=sigma_errs, capsize=4, markersize=4, label=r'$\\left\\langle|\\sigma|\\right\\rangle$')\n",
    "plt.errorbar(sorted(s), np.abs(tr_vals), fmt='.-', yerr=tr_errs, capsize=4, markersize=4, label=r'$\\left\\langle|\\bar\\psi\\psi|\\right\\rangle$')\n",
    "plt.grid()\n",
    "plt.legend(fontsize=18)\n",
    "plt.xlabel(r\"$s=\\frac{\\Lambda'}{\\Lambda}$\", fontsize=22)\n",
    "plt.tight_layout()\n",
    "#plt.ylim([0.78, 0.79])\n",
    "plt.savefig(\"plots/condensates/sigma.pdf\")\n",
    "plt.close()\n"
   ]
  },
  {
   "cell_type": "markdown",
   "id": "weird-condition",
   "metadata": {},
   "source": [
    "Compare each pion with corresponding condensate"
   ]
  },
  {
   "cell_type": "code",
   "execution_count": null,
   "id": "unusual-nudist",
   "metadata": {},
   "outputs": [],
   "source": [
    "plt.errorbar(sorted(s), np.abs(pi_vals[0]), fmt='.-', yerr=pi_errs[0], capsize=4, markersize=12, label=r'$\\left\\langle|\\pi_1|\\right\\rangle$')\n",
    "plt.errorbar(sorted(s), np.abs(trpi_vals[0]), fmt='.-', yerr=trpi_errs[0], capsize=4, markersize=12, label=r'$\\left\\langle|\\bar\\psi\\,\\gamma_5\\tau_1\\,\\psi|\\right\\rangle$')\n",
    "plt.grid()\n",
    "plt.legend(fontsize=18)\n",
    "plt.xlabel(r\"$s=\\frac{\\Lambda'}{\\Lambda}$\", fontsize=22)\n",
    "plt.tight_layout()\n",
    "plt.yscale('log')\n",
    "#plt.ylim([0.0, 0.02])\n",
    "plt.savefig(\"plots/condensates/pi1.pdf\")\n",
    "plt.close()\n",
    "\n",
    "plt.errorbar(sorted(s), np.abs(pi_vals[1]), fmt='.-', yerr=pi_errs[1], capsize=4, markersize=12, label=r'$\\left\\langle|\\pi_2|\\right\\rangle$')\n",
    "plt.errorbar(sorted(s), np.abs(trpi_vals[1]), fmt='.-', yerr=trpi_errs[1], capsize=4, markersize=12, label=r'$\\left\\langle|\\bar\\psi\\,\\gamma_5\\tau_2\\,\\psi|\\right\\rangle$')\n",
    "plt.grid()\n",
    "plt.legend(fontsize=18)\n",
    "plt.xlabel(r\"$s=\\frac{\\Lambda'}{\\Lambda}$\", fontsize=22)\n",
    "plt.yscale('log')\n",
    "plt.tight_layout()\n",
    "#plt.ylim([0.577, 0.579])\n",
    "plt.savefig(\"plots/condensates/pi2.pdf\")\n",
    "plt.close()\n",
    "\n",
    "plt.errorbar(sorted(s), np.abs(pi_vals[2]), fmt='.-', yerr=pi_errs[2], capsize=4, markersize=12, label=r'$\\left\\langle|\\pi_3|\\right\\rangle$')\n",
    "plt.errorbar(sorted(s), np.abs(trpi_vals[2]), fmt='.-', yerr=trpi_errs[2], capsize=4, markersize=12, label=r'$\\left\\langle|\\bar\\psi\\,\\gamma_5\\tau_3\\,\\psi\\right\\rangle$')\n",
    "plt.grid()\n",
    "plt.legend(fontsize=18)\n",
    "plt.xlabel(r\"$s=\\frac{\\Lambda'}{\\Lambda}$\", fontsize=22)\n",
    "plt.yscale('log')\n",
    "plt.tight_layout()\n",
    "#plt.ylim([0.28, 0.283])\n",
    "plt.savefig(\"plots/condensates/pi3.pdf\")\n",
    "plt.close()"
   ]
  },
  {
   "cell_type": "markdown",
   "id": "miniature-camera",
   "metadata": {},
   "source": [
    "Only pions"
   ]
  },
  {
   "cell_type": "code",
   "execution_count": null,
   "id": "dominican-permit",
   "metadata": {},
   "outputs": [],
   "source": [
    "plt.errorbar(sorted(s), np.abs(pi_vals[0]), fmt='.-', yerr=pi_errs[0], capsize=4, markersize=12, label=r'$\\left\\langle|\\pi_1|\\right\\rangle$')\n",
    "plt.errorbar(sorted(s), np.abs(pi_vals[1]), fmt='.-', yerr=pi_errs[1], capsize=4, markersize=12, label=r'$\\left\\langle|\\pi_2|\\right\\rangle$')\n",
    "plt.errorbar(sorted(s), np.abs(pi_vals[2]), fmt='.-', yerr=pi_errs[2], capsize=4, markersize=12, label=r'$\\left\\langle|\\pi_3|\\right\\rangle$')\n",
    "plt.grid()\n",
    "plt.legend(fontsize=18)\n",
    "plt.xlabel(r\"$s=\\frac{\\Lambda'}{\\Lambda}$\", fontsize=22)\n",
    "#plt.yscale('log')\n",
    "plt.tight_layout()\n",
    "#plt.ylim([0, 0.03])\n",
    "plt.savefig(\"plots/pions.pdf\")\n",
    "plt.close()"
   ]
  },
  {
   "cell_type": "markdown",
   "id": "residential-giving",
   "metadata": {},
   "source": [
    "Compute expected mass from background fields"
   ]
  },
  {
   "cell_type": "code",
   "execution_count": null,
   "id": "daily-scientist",
   "metadata": {},
   "outputs": [],
   "source": [
    "def expectedM(m0, g, sigma, pi):\n",
    "    r2 = sigma**2 + pi[0]**2 + pi[1]**2 + pi[2]**2\n",
    "    denom = 2*(g*sigma + m0 + 1)\n",
    "    sqrroot = np.sqrt((g**2*r2 + 2*m0*(g*sigma + 1) + 2*g*sigma + m0**2 + 2)**2 - 4*(g*sigma+m0+1)**2)\n",
    "    num = -sqrroot + g**2*r2 + 2*g*m0*sigma + 2*g*sigma + m0**2 + 2*m0 + 2\n",
    "    return -np.log(num/denom)\n",
    "\n",
    "mq0 = 0.3\n",
    "yukawa_coupling = 1.0\n",
    "sigma = 0.10064470516582914\n",
    "pi = [-0.00042856927638190923, 0.0012371204007035174, -0.0006443482380904521]\n",
    "\n",
    "print(\"Expected mass with phi =\", np.concatenate(([sigma], pi)), \":\", expectedM(mq0, yukawa_coupling, sigma, pi))"
   ]
  }
 ],
 "metadata": {
  "kernelspec": {
   "display_name": "Python 3",
   "language": "python",
   "name": "python3"
  },
  "language_info": {
   "codemirror_mode": {
    "name": "ipython",
    "version": 3
   },
   "file_extension": ".py",
   "mimetype": "text/x-python",
   "name": "python",
   "nbconvert_exporter": "python",
   "pygments_lexer": "ipython3",
   "version": "3.9.2"
  }
 },
 "nbformat": 4,
 "nbformat_minor": 5
}
