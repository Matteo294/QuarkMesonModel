{
 "cells": [
  {
   "cell_type": "code",
   "execution_count": 3,
   "id": "mighty-albuquerque",
   "metadata": {},
   "outputs": [],
   "source": [
    "import numpy as np\n",
    "from matplotlib import pyplot as plt \n",
    "from pandas import read_csv\n",
    "import sys\n",
    "import os\n",
    "from matplotlib import rcParams\n",
    "import toml\n",
    "\n",
    "from correlations import *\n",
    "from read_in_data import *\n",
    "from mass_fit import *\n",
    "from mass_matteo import *\n",
    "from functions import *\n",
    "\n",
    "%load_ext autoreload\n",
    "%autoreload 2"
   ]
  },
  {
   "cell_type": "code",
   "execution_count": 8,
   "id": "minimal-survival",
   "metadata": {},
   "outputs": [],
   "source": [
    "param = (\"fermions\", \"fermion_mass\")\n",
    "simulations = []\n",
    "for i in range(2, 22):\n",
    "    dataset = Dataset(16, 16)\n",
    "    dataset.add_data(\"./data/conf\" + str(i) + \"/\", p, 0)\n",
    "    simulations.append(dataset)\n",
    "for i in range(56, 77):\n",
    "    dataset = Dataset(16, 16)\n",
    "    dataset.add_data(\"./data/conf\" + str(i) + \"/\", p, 0)\n",
    "    simulations.append(dataset)"
   ]
  },
  {
   "cell_type": "code",
   "execution_count": 26,
   "id": "artificial-chance",
   "metadata": {},
   "outputs": [
    {
     "name": "stdout",
     "output_type": "stream",
     "text": [
      "0.024240506148008892 3.2686765752137825\n",
      "0.05930439875569367 1.7599434012472421\n",
      "0.08279111301270367 1.4862228736966048\n",
      "0.10087479257926397 1.3395669367119598\n",
      "0.11586440351247312 1.2278372915612488\n",
      "0.1348911776809866 1.0671588153019826\n",
      "0.1516099821529837 0.9386566966788124\n",
      "0.1707253660568151 0.8062413161020879\n",
      "0.18667181414350617 0.7098140275477797\n",
      "0.20228235177087442 0.6232989104469894\n",
      "0.21851026626245615 0.5425877230920678\n",
      "0.23440429725732026 0.4733818424425386\n",
      "0.25072783185942066 0.4106163327253552\n",
      "0.26599310045941676 0.36035361218694345\n",
      "0.28087883437418165 0.31552325119355484\n",
      "0.2952793034960311 0.2775049613664667\n",
      "0.3095968058518811 0.24437528348978024\n",
      "0.324998199352286 0.2135084974792412\n",
      "0.3388707814966944 0.18859913684162932\n",
      "0.35372936784687903 0.1655808102094176\n",
      "0.034602640513695306 2.271200632558878\n",
      "critical mass: -0.05486754668215925\n"
     ]
    },
    {
     "data": {
      "image/png": "[encoded data removed]",
      "text/plain": [
       "<Figure size 432x288 with 1 Axes>"
      ]
     },
     "metadata": {
      "needs_background": "light"
     },
     "output_type": "display_data"
    }
   ],
   "source": [
    "data = []\n",
    "for sim in simulations:\n",
    "    \n",
    "    try:\n",
    "        if (sim.toml_params[param[0]][param[1]] >= 0):\n",
    "            val, err = sim.compute_mqphys(printing=False)\n",
    "            data.append((sim.toml_params[param[0]][param[1]], val, err))\n",
    "            params, vals, errs = sort_data(data)\n",
    "    except:\n",
    "        pass\n",
    "\n",
    "plt.errorbar(params, vals, errs, fmt='o--', markersize=4)\n",
    "\n",
    "m, b = np.polyfit(params, vals, 1)\n",
    "print(\"critical mass:\", -b/m)\n",
    "xline = np.linspace(-0.2, 1.0, 1000)\n",
    "plt.plot(xline, m*xline + b)\n",
    "\n",
    "plt.xlim([-0.2,1])\n",
    "plt.ylim([-0.2,1.0])\n",
    "plt.show()"
   ]
  },
  {
   "cell_type": "code",
   "execution_count": null,
   "id": "pacific-flavor",
   "metadata": {},
   "outputs": [],
   "source": []
  }
 ],
 "metadata": {
  "kernelspec": {
   "display_name": "Python 3",
   "language": "python",
   "name": "python3"
  },
  "language_info": {
   "codemirror_mode": {
    "name": "ipython",
    "version": 3
   },
   "file_extension": ".py",
   "mimetype": "text/x-python",
   "name": "python",
   "nbconvert_exporter": "python",
   "pygments_lexer": "ipython3",
   "version": "3.9.2"
  }
 },
 "nbformat": 4,
 "nbformat_minor": 5
}
