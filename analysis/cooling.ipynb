{
 "cells": [
  {
   "cell_type": "code",
   "execution_count": null,
   "id": "91a41eb6-f70f-4e05-b310-7b23263d9c6b",
   "metadata": {},
   "outputs": [],
   "source": []
  },
  {
   "cell_type": "code",
   "execution_count": 3,
   "id": "5d2e9163-9c67-4b14-bd51-917f87b7b861",
   "metadata": {},
   "outputs": [],
   "source": [
    "import numpy as np\n",
    "from matplotlib import pyplot as plt \n",
    "from pandas import read_csv\n",
    "import sys\n",
    "import os\n",
    "from matplotlib import rcParams\n",
    "import toml\n",
    "\n",
    "from correlations import *\n",
    "from read_in_data import *\n",
    "from mass_fit import *\n",
    "from mass_matteo import *\n",
    "from functions import *\n",
    "\n",
    "%load_ext autoreload\n",
    "%autoreload 2"
   ]
  },
  {
   "cell_type": "markdown",
   "id": "886ac142-ba6f-459e-9f8e-fc6830c8c833",
   "metadata": {},
   "source": [
    "# Read data"
   ]
  },
  {
   "cell_type": "code",
   "execution_count": 4,
   "id": "49586dd7-e1d2-4ad5-8d9e-1792df0dd1c0",
   "metadata": {},
   "outputs": [
    {
     "name": "stdout",
     "output_type": "stream",
     "text": [
      "Reshaping fermionic correlator was not possible\n",
      "Reshaping fermionic correlator was not possible\n"
     ]
    }
   ],
   "source": [
    "p = (\"physics\", \"mass\")\n",
    "simulations = []\n",
    "for i in range(1, 2):\n",
    "    dataset = Dataset(32, 32)\n",
    "    dataset.add_data(\"../conf\" + str(i) + \"/\", p, 1)\n",
    "    simulations.append(dataset)\n",
    "for i in range(2, 3):\n",
    "    dataset = Dataset(64, 64)\n",
    "    dataset.add_data(\"../conf\" + str(i) + \"/\", p, 1)\n",
    "    simulations.append(dataset)\n",
    "for i in range(3, 4):\n",
    "    dataset = Dataset(128, 128)\n",
    "    dataset.add_data(\"../conf\" + str(i) + \"/\", p, 1)\n",
    "    simulations.append(dataset)"
   ]
  },
  {
   "cell_type": "markdown",
   "id": "3256cb29-569f-4b82-aa55-6fd1970889ba",
   "metadata": {},
   "source": [
    "# Magnetisation"
   ]
  },
  {
   "cell_type": "code",
   "execution_count": 5,
   "id": "75537855-2dd7-4e48-9d4b-6c938f41e1ce",
   "metadata": {},
   "outputs": [
    {
     "data": {
      "text/plain": [
       "Text(0, 0.5, '$\\\\left\\\\langle |\\\\phi| \\\\right\\\\rangle$')"
      ]
     },
     "execution_count": 5,
     "metadata": {},
     "output_type": "execute_result"
    },
    {
     "data": {
      "image/png": "[encoded data removed]",
      "text/plain": [
       "<Figure size 432x288 with 1 Axes>"
      ]
     },
     "metadata": {
      "needs_background": "light"
     },
     "output_type": "display_data"
    }
   ],
   "source": [
    "param = (\"physics\", \"mass\")\n",
    "\n",
    "# s = 1.0\n",
    "data = []\n",
    "for s in simulations:\n",
    "    if s.toml_params[\"physics\"][\"cutFraction\"] == 1:\n",
    "        val, err = s.compute_mag(printing=False)\n",
    "        data.append((s.toml_params[param[0]][param[1]], val, err))\n",
    "        params, vals, errs = sort_data(data)\n",
    "plt.errorbar([m2 for m2 in params], vals, errs, fmt='o--', markersize=4, label=\"s=1\")\n",
    "\n",
    "# s = 0.5\n",
    "data = []\n",
    "for s in simulations:\n",
    "    if s.toml_params[\"physics\"][\"cutFraction\"] == 0.5:\n",
    "        val, err = s.compute_mag(printing=False)\n",
    "        data.append((s.toml_params[param[0]][param[1]], val, err))\n",
    "        params, vals, errs = sort_data(data)\n",
    "plt.errorbar([m2/0.5/0.5 for m2 in params], vals, errs, fmt='o--', markersize=4, label=\"s=1/2\")\n",
    "\n",
    "# s = 0.25\n",
    "data = []\n",
    "for s in simulations:\n",
    "    if s.toml_params[\"physics\"][\"cutFraction\"] == 0.25:\n",
    "        val, err = s.compute_abs_mag(printing=False)\n",
    "        data.append((s.toml_params[param[0]][param[1]], val, err))\n",
    "        params, vals, errs = sort_data(data)\n",
    "plt.errorbar([m2/0.25/0.25 for m2 in params], vals, errs, fmt='o--', markersize=4, label=\"s=1/4\")\n",
    "\n",
    "plt.legend()\n",
    "plt.grid()\n",
    "plt.xlabel(r\"$m_\\phi^2 \\, / \\, s^2$\")\n",
    "plt.ylabel(r\"$\\left\\langle |\\phi| \\right\\rangle$\")"
   ]
  },
  {
   "cell_type": "markdown",
   "id": "caring-material",
   "metadata": {},
   "source": [
    "# Condensate"
   ]
  },
  {
   "cell_type": "code",
   "execution_count": 6,
   "id": "gorgeous-engagement",
   "metadata": {},
   "outputs": [
    {
     "data": {
      "text/plain": [
       "Text(0, 0.5, '$\\\\left\\\\langle |\\\\phi| \\\\right\\\\rangle$')"
      ]
     },
     "execution_count": 6,
     "metadata": {},
     "output_type": "execute_result"
    },
    {
     "data": {
      "image/png": "[encoded data removed]",
      "text/plain": [
       "<Figure size 432x288 with 1 Axes>"
      ]
     },
     "metadata": {
      "needs_background": "light"
     },
     "output_type": "display_data"
    }
   ],
   "source": [
    "param = (\"physics\", \"mass\")\n",
    "\n",
    "# s = 1.0\n",
    "data = []\n",
    "for s in simulations:\n",
    "    if s.toml_params[\"physics\"][\"cutFraction\"] == 1:\n",
    "        Nx = s.Nx\n",
    "        val, err = s.compute_condensate(printing=False)\n",
    "        data.append((s.toml_params[param[0]][param[1]], val, err))\n",
    "        params, vals, errs = sort_data(data)\n",
    "plt.errorbar([m2 for m2 in params], [Nx*v for v in vals], errs, fmt='o--', markersize=4, label=\"s=1\")\n",
    "\n",
    "# s = 0.5\n",
    "data = []\n",
    "for s in simulations:\n",
    "    if s.toml_params[\"physics\"][\"cutFraction\"] == 0.5:\n",
    "        Nx = s.Nx\n",
    "        val, err = s.compute_condensate(printing=False)\n",
    "        data.append((s.toml_params[param[0]][param[1]], val, err))\n",
    "        params, vals, errs = sort_data(data)\n",
    "plt.errorbar([m2/0.5/0.5 for m2 in params], [Nx*v for v in vals], errs, fmt='o--', markersize=4, label=\"s=1/2\")\n",
    "\n",
    "# s = 0.25\n",
    "data = []\n",
    "for s in simulations:\n",
    "    if s.toml_params[\"physics\"][\"cutFraction\"] == 0.25:\n",
    "        Nx = s.Nx\n",
    "        val, err = s.compute_condensate(printing=False)\n",
    "        data.append((s.toml_params[param[0]][param[1]], val, err))\n",
    "        params, vals, errs = sort_data(data)\n",
    "plt.errorbar([m2/0.25/0.25 for m2 in params], [Nx*v for v in vals], errs, fmt='o--', markersize=4, label=\"s=1/4\")\n",
    "\n",
    "plt.legend()\n",
    "plt.grid()\n",
    "plt.xlabel(r\"$m_\\phi^2 \\, / \\, s^2$\")\n",
    "plt.ylabel(r\"$\\left\\langle |\\phi| \\right\\rangle$\")"
   ]
  },
  {
   "cell_type": "markdown",
   "id": "03e5acc8-94cf-4a61-9677-5515c9515b99",
   "metadata": {},
   "source": [
    "# Susceptibility"
   ]
  },
  {
   "cell_type": "code",
   "execution_count": 7,
   "id": "27f66229-2256-4385-a20c-9e58e9142b7d",
   "metadata": {},
   "outputs": [
    {
     "data": {
      "text/plain": [
       "Text(0, 0.5, '$\\\\chi^2 \\\\, / \\\\, V$')"
      ]
     },
     "execution_count": 7,
     "metadata": {},
     "output_type": "execute_result"
    },
    {
     "data": {
      "image/png": "[encoded data removed]",
      "text/plain": [
       "<Figure size 432x288 with 1 Axes>"
      ]
     },
     "metadata": {
      "needs_background": "light"
     },
     "output_type": "display_data"
    }
   ],
   "source": [
    "param = (\"physics\", \"mass\")\n",
    "\n",
    "# s = 1.0\n",
    "data = []\n",
    "for s in simulations:\n",
    "    if s.toml_params[\"physics\"][\"cutFraction\"] == 1:\n",
    "        val, err = s.compute_susceptibility(printing=False)\n",
    "        data.append((s.toml_params[param[0]][param[1]], val, err))\n",
    "        params, vals, errs = sort_data(data)\n",
    "plt.errorbar([m2 for m2 in params], vals, errs, fmt='o--', markersize=4, label=\"s=1\")\n",
    "\n",
    "# s = 0.5\n",
    "data = []\n",
    "for s in simulations:\n",
    "    if s.toml_params[\"physics\"][\"cutFraction\"] == 0.5:\n",
    "        val, err = s.compute_susceptibility(printing=False)\n",
    "        data.append((s.toml_params[param[0]][param[1]], val, err))\n",
    "        params, vals, errs = sort_data(data)\n",
    "plt.errorbar([m2/0.5/0.5 for m2 in params], vals, errs, fmt='o--', markersize=4, label=\"s=1/2\")\n",
    "\n",
    "# s = 0.25\n",
    "data = []\n",
    "for s in simulations:\n",
    "    if s.toml_params[\"physics\"][\"cutFraction\"] == 0.25:\n",
    "        val, err = s.compute_susceptibility(printing=False)\n",
    "        data.append((s.toml_params[param[0]][param[1]], val, err))\n",
    "        params, vals, errs = sort_data(data)\n",
    "plt.errorbar([m2/0.25/0.25 for m2 in params], vals, errs, fmt='o--', markersize=4, label=\"s=1/4\")\n",
    "\n",
    "plt.legend()\n",
    "plt.grid()\n",
    "plt.xlabel(r\"$m_\\phi^2 \\, / \\, s^2$\")\n",
    "plt.ylabel(r\"$\\chi^2 \\, / \\, V$\")"
   ]
  },
  {
   "cell_type": "markdown",
   "id": "b597ae8f-c63f-46e3-aef1-b62e15d306f7",
   "metadata": {},
   "source": [
    "# Renormalised boson mass"
   ]
  },
  {
   "cell_type": "code",
   "execution_count": 8,
   "id": "51b1050a-8c7c-4643-9e62-2670d180a42f",
   "metadata": {},
   "outputs": [
    {
     "data": {
      "image/png": "[encoded data removed]",
      "text/plain": [
       "<Figure size 432x288 with 1 Axes>"
      ]
     },
     "metadata": {
      "needs_background": "light"
     },
     "output_type": "display_data"
    }
   ],
   "source": [
    "param = (\"physics\", \"mass\")\n",
    "\n",
    "# s = 1.0\n",
    "data = []\n",
    "for s in simulations:\n",
    "    if s.toml_params[\"physics\"][\"cutFraction\"] == 1:\n",
    "        Nx = s.Nx\n",
    "        val, err = s.compute_mphir(printing=False)\n",
    "        data.append((s.toml_params[param[0]][param[1]], val, err))\n",
    "        params, vals, errs = sort_data(data)\n",
    "plt.errorbar([m2 for m2 in params], [Nx*v for v in vals], [Nx*e for e in errs], fmt='o--', markersize=4, label=\"s=1\")\n",
    "\n",
    "# s = 0.5\n",
    "data = []\n",
    "for s in simulations:\n",
    "    if s.toml_params[\"physics\"][\"cutFraction\"] == 0.5:\n",
    "        Nx = s.Nx\n",
    "        val, err = s.compute_mphir(printing=False)\n",
    "        data.append((s.toml_params[param[0]][param[1]], val, err))\n",
    "        params, vals, errs = sort_data(data)\n",
    "plt.errorbar([m2/0.5/0.5 for m2 in params], [Nx*v for v in vals], [Nx*e for e in errs], fmt='o--', markersize=4, label=\"s=1/2\")\n",
    "\n",
    "# s = 0.25\n",
    "data = []\n",
    "for s in simulations:\n",
    "    if s.toml_params[\"physics\"][\"cutFraction\"] == 0.25:\n",
    "        Nx = s.Nx\n",
    "        val, err = s.compute_mphir(printing=False)\n",
    "        data.append((s.toml_params[param[0]][param[1]], val, err))\n",
    "        params, vals, errs = sort_data(data)\n",
    "plt.errorbar([m2/0.25/0.25 for m2 in params], [Nx*v for v in vals], [Nx*e for e in errs], fmt='o--', markersize=4, label=\"s=1/4\")\n",
    "\n",
    "plt.legend()\n",
    "plt.grid()\n",
    "plt.xlabel(r\"$m_\\phi^2 \\, / \\, s^2$\")\n",
    "plt.ylabel(r\"$ N_x \\, m_{\\phi, r} $\");"
   ]
  },
  {
   "cell_type": "markdown",
   "id": "1ad8a63c-12d2-4fed-aa86-8b280891d650",
   "metadata": {},
   "source": [
    "# Physical quark mass"
   ]
  },
  {
   "cell_type": "code",
   "execution_count": 9,
   "id": "85dbbdc4-7545-4475-89bf-5ed029c39484",
   "metadata": {},
   "outputs": [
    {
     "name": "stdout",
     "output_type": "stream",
     "text": [
      "0.4377324921613431 1.0877539308507257e-05\n"
     ]
    },
    {
     "ename": "AttributeError",
     "evalue": "'Dataset' object has no attribute 'Sq_t'",
     "output_type": "error",
     "traceback": [
      "\u001b[0;31m---------------------------------------------------------------------------\u001b[0m",
      "\u001b[0;31mAttributeError\u001b[0m                            Traceback (most recent call last)",
      "\u001b[0;32m<ipython-input-9-554ede5fb8d7>\u001b[0m in \u001b[0;36m<module>\u001b[0;34m\u001b[0m\n\u001b[1;32m     16\u001b[0m     \u001b[0;32mif\u001b[0m \u001b[0ms\u001b[0m\u001b[0;34m.\u001b[0m\u001b[0mtoml_params\u001b[0m\u001b[0;34m[\u001b[0m\u001b[0;34m\"physics\"\u001b[0m\u001b[0;34m]\u001b[0m\u001b[0;34m[\u001b[0m\u001b[0;34m\"cutFraction\"\u001b[0m\u001b[0;34m]\u001b[0m \u001b[0;34m==\u001b[0m \u001b[0;36m0.5\u001b[0m\u001b[0;34m:\u001b[0m\u001b[0;34m\u001b[0m\u001b[0;34m\u001b[0m\u001b[0m\n\u001b[1;32m     17\u001b[0m         \u001b[0mNx\u001b[0m \u001b[0;34m=\u001b[0m \u001b[0ms\u001b[0m\u001b[0;34m.\u001b[0m\u001b[0mNx\u001b[0m\u001b[0;34m\u001b[0m\u001b[0;34m\u001b[0m\u001b[0m\n\u001b[0;32m---> 18\u001b[0;31m         \u001b[0mval\u001b[0m\u001b[0;34m,\u001b[0m \u001b[0merr\u001b[0m \u001b[0;34m=\u001b[0m \u001b[0ms\u001b[0m\u001b[0;34m.\u001b[0m\u001b[0mcompute_mqphys\u001b[0m\u001b[0;34m(\u001b[0m\u001b[0mprinting\u001b[0m\u001b[0;34m=\u001b[0m\u001b[0;32mFalse\u001b[0m\u001b[0;34m)\u001b[0m\u001b[0;34m\u001b[0m\u001b[0;34m\u001b[0m\u001b[0m\n\u001b[0m\u001b[1;32m     19\u001b[0m         \u001b[0mdata\u001b[0m\u001b[0;34m.\u001b[0m\u001b[0mappend\u001b[0m\u001b[0;34m(\u001b[0m\u001b[0;34m(\u001b[0m\u001b[0ms\u001b[0m\u001b[0;34m.\u001b[0m\u001b[0mtoml_params\u001b[0m\u001b[0;34m[\u001b[0m\u001b[0mparam\u001b[0m\u001b[0;34m[\u001b[0m\u001b[0;36m0\u001b[0m\u001b[0;34m]\u001b[0m\u001b[0;34m]\u001b[0m\u001b[0;34m[\u001b[0m\u001b[0mparam\u001b[0m\u001b[0;34m[\u001b[0m\u001b[0;36m1\u001b[0m\u001b[0;34m]\u001b[0m\u001b[0;34m]\u001b[0m\u001b[0;34m,\u001b[0m \u001b[0mval\u001b[0m\u001b[0;34m,\u001b[0m \u001b[0merr\u001b[0m\u001b[0;34m)\u001b[0m\u001b[0;34m)\u001b[0m\u001b[0;34m\u001b[0m\u001b[0;34m\u001b[0m\u001b[0m\n\u001b[1;32m     20\u001b[0m         \u001b[0mparams\u001b[0m\u001b[0;34m,\u001b[0m \u001b[0mvals\u001b[0m\u001b[0;34m,\u001b[0m \u001b[0merrs\u001b[0m \u001b[0;34m=\u001b[0m \u001b[0msort_data\u001b[0m\u001b[0;34m(\u001b[0m\u001b[0mdata\u001b[0m\u001b[0;34m)\u001b[0m\u001b[0;34m\u001b[0m\u001b[0;34m\u001b[0m\u001b[0m\n",
      "\u001b[0;32m~/QuarkMesonModel/analysis/functions.py\u001b[0m in \u001b[0;36mcompute_mqphys\u001b[0;34m(self, printing)\u001b[0m\n\u001b[1;32m     68\u001b[0m \u001b[0;34m\u001b[0m\u001b[0m\n\u001b[1;32m     69\u001b[0m     \u001b[0;32mdef\u001b[0m \u001b[0mcompute_mqphys\u001b[0m\u001b[0;34m(\u001b[0m\u001b[0mself\u001b[0m\u001b[0;34m,\u001b[0m \u001b[0mprinting\u001b[0m\u001b[0;34m=\u001b[0m\u001b[0;32mFalse\u001b[0m\u001b[0;34m)\u001b[0m\u001b[0;34m:\u001b[0m\u001b[0;34m\u001b[0m\u001b[0;34m\u001b[0m\u001b[0m\n\u001b[0;32m---> 70\u001b[0;31m         \u001b[0mval\u001b[0m\u001b[0;34m,\u001b[0m \u001b[0merr\u001b[0m \u001b[0;34m=\u001b[0m \u001b[0mget_fermionic_correlator\u001b[0m\u001b[0;34m(\u001b[0m\u001b[0mself\u001b[0m\u001b[0;34m.\u001b[0m\u001b[0mSq_t\u001b[0m\u001b[0;34m)\u001b[0m\u001b[0;34m\u001b[0m\u001b[0;34m\u001b[0m\u001b[0m\n\u001b[0m\u001b[1;32m     71\u001b[0m         \u001b[0mval\u001b[0m\u001b[0;34m,\u001b[0m \u001b[0merr\u001b[0m \u001b[0;34m=\u001b[0m \u001b[0mget_phys_quark_mass_via_sinh\u001b[0m\u001b[0;34m(\u001b[0m\u001b[0mval\u001b[0m\u001b[0;34m,\u001b[0m \u001b[0mself\u001b[0m\u001b[0;34m.\u001b[0m\u001b[0mvolume\u001b[0m\u001b[0;34m,\u001b[0m \u001b[0mplotting\u001b[0m\u001b[0;34m=\u001b[0m\u001b[0;32mFalse\u001b[0m\u001b[0;34m)\u001b[0m\u001b[0;34m\u001b[0m\u001b[0;34m\u001b[0m\u001b[0m\n\u001b[1;32m     72\u001b[0m         \u001b[0;32mif\u001b[0m \u001b[0mprinting\u001b[0m\u001b[0;34m:\u001b[0m\u001b[0;34m\u001b[0m\u001b[0;34m\u001b[0m\u001b[0m\n",
      "\u001b[0;31mAttributeError\u001b[0m: 'Dataset' object has no attribute 'Sq_t'"
     ]
    },
    {
     "data": {
      "image/png": "[encoded data removed]",
      "text/plain": [
       "<Figure size 432x288 with 1 Axes>"
      ]
     },
     "metadata": {
      "needs_background": "light"
     },
     "output_type": "display_data"
    }
   ],
   "source": [
    "param = (\"physics\", \"mass\")\n",
    "\n",
    "# s = 1.0\n",
    "data = []\n",
    "for s in simulations:\n",
    "    if s.toml_params[\"physics\"][\"cutFraction\"] == 1:\n",
    "        Nx = s.Nx\n",
    "        val, err = s.compute_mqphys(printing=False)\n",
    "        data.append((s.toml_params[param[0]][param[1]], val, err))\n",
    "        params, vals, errs = sort_data(data)\n",
    "plt.errorbar([m2 for m2 in params], [v for v in vals], errs, fmt='o--', markersize=4, label=\"s=1\")\n",
    "\n",
    "# s = 0.5\n",
    "data = []\n",
    "for s in simulations:\n",
    "    if s.toml_params[\"physics\"][\"cutFraction\"] == 0.5:\n",
    "        Nx = s.Nx\n",
    "        val, err = s.compute_mqphys(printing=False)\n",
    "        data.append((s.toml_params[param[0]][param[1]], val, err))\n",
    "        params, vals, errs = sort_data(data)\n",
    "plt.errorbar([m2/0.5/0.5 for m2 in params], [v for v in vals], errs, fmt='o--', markersize=4, label=\"s=1/2\")\n",
    "\n",
    "# s = 0.25\n",
    "data = []\n",
    "for s in simulations:\n",
    "    if s.toml_params[\"physics\"][\"cutFraction\"] == 0.25:\n",
    "        Nx = s.Nx\n",
    "        val, err = s.compute_mqphys(printing=False)\n",
    "        data.append((s.toml_params[param[0]][param[1]], val, err))\n",
    "        params, vals, errs = sort_data(data)\n",
    "plt.errorbar([m2/0.25/0.25 for m2 in params], [v for v in vals], errs, fmt='o--', markersize=4, label=\"s=1/4\")\n",
    "\n",
    "plt.legend()\n",
    "plt.grid()\n",
    "plt.xlabel(r\"$m_\\phi^2 \\, / \\, s^2$\")\n",
    "plt.ylabel(r\"$ N_x \\, m_{\\phi, r} $\");"
   ]
  },
  {
   "cell_type": "code",
   "execution_count": null,
   "id": "geographic-combine",
   "metadata": {},
   "outputs": [],
   "source": []
  }
 ],
 "metadata": {
  "kernelspec": {
   "display_name": "Python 3",
   "language": "python",
   "name": "python3"
  },
  "language_info": {
   "codemirror_mode": {
    "name": "ipython",
    "version": 3
   },
   "file_extension": ".py",
   "mimetype": "text/x-python",
   "name": "python",
   "nbconvert_exporter": "python",
   "pygments_lexer": "ipython3",
   "version": "3.9.2"
  }
 },
 "nbformat": 4,
 "nbformat_minor": 5
}
